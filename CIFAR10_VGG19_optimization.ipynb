{
 "cells": [
  {
   "cell_type": "code",
   "execution_count": 1,
   "id": "5b5333dd",
   "metadata": {
    "_cell_guid": "69b9ca44-2385-4515-9b42-02b68131a70d",
    "_uuid": "22a673a0-03f3-4e9b-ba25-015d55e4df65",
    "collapsed": false,
    "execution": {
     "iopub.execute_input": "2025-03-23T09:29:26.498851Z",
     "iopub.status.busy": "2025-03-23T09:29:26.498560Z",
     "iopub.status.idle": "2025-03-23T09:29:30.985897Z",
     "shell.execute_reply": "2025-03-23T09:29:30.985081Z"
    },
    "jupyter": {
     "outputs_hidden": false
    },
    "papermill": {
     "duration": 4.5015,
     "end_time": "2025-03-23T09:29:30.987628",
     "exception": false,
     "start_time": "2025-03-23T09:29:26.486128",
     "status": "completed"
    },
    "tags": []
   },
   "outputs": [
    {
     "name": "stdout",
     "output_type": "stream",
     "text": [
      "Requirement already satisfied: torchinfo in /usr/local/lib/python3.10/dist-packages (1.8.0)\r\n",
      "Requirement already satisfied: tqdm in /usr/local/lib/python3.10/dist-packages (4.67.1)\r\n",
      "Collecting ptflops\r\n",
      "  Downloading ptflops-0.7.4-py3-none-any.whl.metadata (9.4 kB)\r\n",
      "Requirement already satisfied: torch>=2.0 in /usr/local/lib/python3.10/dist-packages (from ptflops) (2.5.1+cu121)\r\n",
      "Requirement already satisfied: filelock in /usr/local/lib/python3.10/dist-packages (from torch>=2.0->ptflops) (3.17.0)\r\n",
      "Requirement already satisfied: typing-extensions>=4.8.0 in /usr/local/lib/python3.10/dist-packages (from torch>=2.0->ptflops) (4.12.2)\r\n",
      "Requirement already satisfied: networkx in /usr/local/lib/python3.10/dist-packages (from torch>=2.0->ptflops) (3.4.2)\r\n",
      "Requirement already satisfied: jinja2 in /usr/local/lib/python3.10/dist-packages (from torch>=2.0->ptflops) (3.1.4)\r\n",
      "Requirement already satisfied: fsspec in /usr/local/lib/python3.10/dist-packages (from torch>=2.0->ptflops) (2024.12.0)\r\n",
      "Requirement already satisfied: sympy==1.13.1 in /usr/local/lib/python3.10/dist-packages (from torch>=2.0->ptflops) (1.13.1)\r\n",
      "Requirement already satisfied: mpmath<1.4,>=1.1.0 in /usr/local/lib/python3.10/dist-packages (from sympy==1.13.1->torch>=2.0->ptflops) (1.3.0)\r\n",
      "Requirement already satisfied: MarkupSafe>=2.0 in /usr/local/lib/python3.10/dist-packages (from jinja2->torch>=2.0->ptflops) (3.0.2)\r\n",
      "Downloading ptflops-0.7.4-py3-none-any.whl (19 kB)\r\n",
      "Installing collected packages: ptflops\r\n",
      "Successfully installed ptflops-0.7.4\r\n"
     ]
    }
   ],
   "source": [
    "!pip install torchinfo tqdm ptflops"
   ]
  },
  {
   "cell_type": "markdown",
   "id": "4128806d",
   "metadata": {
    "_cell_guid": "909181e7-1da8-4f97-87f1-b5f337a324da",
    "_uuid": "905233ad-1918-4a2d-bfba-43f55336a68c",
    "collapsed": false,
    "jupyter": {
     "outputs_hidden": false
    },
    "papermill": {
     "duration": 0.010151,
     "end_time": "2025-03-23T09:29:31.008998",
     "exception": false,
     "start_time": "2025-03-23T09:29:30.998847",
     "status": "completed"
    },
    "tags": []
   },
   "source": [
    "# Initial Setup"
   ]
  },
  {
   "cell_type": "code",
   "execution_count": 2,
   "id": "4290f024",
   "metadata": {
    "_cell_guid": "b3a51ef1-0912-4567-8d71-cbae53e58cb0",
    "_uuid": "6577eed4-3013-456a-8c52-7659b6741562",
    "collapsed": false,
    "execution": {
     "iopub.execute_input": "2025-03-23T09:29:31.030761Z",
     "iopub.status.busy": "2025-03-23T09:29:31.030527Z",
     "iopub.status.idle": "2025-03-23T09:29:38.326924Z",
     "shell.execute_reply": "2025-03-23T09:29:38.326248Z"
    },
    "jupyter": {
     "outputs_hidden": false
    },
    "papermill": {
     "duration": 7.309051,
     "end_time": "2025-03-23T09:29:38.328485",
     "exception": false,
     "start_time": "2025-03-23T09:29:31.019434",
     "status": "completed"
    },
    "tags": []
   },
   "outputs": [],
   "source": [
    "import os\n",
    "import gc\n",
    "import time\n",
    "from pathlib import Path\n",
    "\n",
    "import matplotlib.pyplot as plt\n",
    "import numpy as np\n",
    "import torch\n",
    "import torch.nn as nn\n",
    "import torch.optim as optim\n",
    "import torch.onnx\n",
    "\n",
    "import torchvision\n",
    "import torchvision.transforms as transforms\n",
    "from torch.utils.data import DataLoader, Subset\n",
    "from torchinfo import summary\n",
    "from tqdm import tqdm"
   ]
  },
  {
   "cell_type": "code",
   "execution_count": 3,
   "id": "c8d2b164",
   "metadata": {
    "_cell_guid": "d437a4d9-d872-4cb8-a718-4c917a170ccb",
    "_uuid": "f5eb7566-5585-4855-8b39-d44ddd06e2c0",
    "collapsed": false,
    "execution": {
     "iopub.execute_input": "2025-03-23T09:29:38.350766Z",
     "iopub.status.busy": "2025-03-23T09:29:38.350413Z",
     "iopub.status.idle": "2025-03-23T09:29:38.358190Z",
     "shell.execute_reply": "2025-03-23T09:29:38.357441Z"
    },
    "jupyter": {
     "outputs_hidden": false
    },
    "papermill": {
     "duration": 0.019906,
     "end_time": "2025-03-23T09:29:38.359476",
     "exception": false,
     "start_time": "2025-03-23T09:29:38.339570",
     "status": "completed"
    },
    "tags": []
   },
   "outputs": [],
   "source": [
    "torch.manual_seed(42)\n",
    "np.random.seed(42)"
   ]
  },
  {
   "cell_type": "markdown",
   "id": "a797d7be",
   "metadata": {
    "_cell_guid": "79552d5a-83e9-4be0-b11b-ba10bc604ef2",
    "_uuid": "0e365b05-1d16-4307-bcec-a8fe97e019ba",
    "collapsed": false,
    "jupyter": {
     "outputs_hidden": false
    },
    "papermill": {
     "duration": 0.01069,
     "end_time": "2025-03-23T09:29:38.380492",
     "exception": false,
     "start_time": "2025-03-23T09:29:38.369802",
     "status": "completed"
    },
    "tags": []
   },
   "source": [
    "# Data Loader Function\n",
    "\n",
    "This function prepares data loaders for the CIFAR-10 dataset, tailored for use with models like VGG19 that expect RGB images of size 224x224. It includes transformations to adjust the CIFAR-10 grayscale images and create appropriate subsets for training and validation.t."
   ]
  },
  {
   "cell_type": "code",
   "execution_count": 4,
   "id": "f89385ab",
   "metadata": {
    "_cell_guid": "08546521-8ed3-4b0d-a5a5-c9f50ce90535",
    "_uuid": "435896ef-eda3-4253-bf39-00bf98395c54",
    "collapsed": false,
    "execution": {
     "iopub.execute_input": "2025-03-23T09:29:38.401834Z",
     "iopub.status.busy": "2025-03-23T09:29:38.401625Z",
     "iopub.status.idle": "2025-03-23T09:29:38.406642Z",
     "shell.execute_reply": "2025-03-23T09:29:38.405851Z"
    },
    "jupyter": {
     "outputs_hidden": false
    },
    "papermill": {
     "duration": 0.017155,
     "end_time": "2025-03-23T09:29:38.407835",
     "exception": false,
     "start_time": "2025-03-23T09:29:38.390680",
     "status": "completed"
    },
    "tags": []
   },
   "outputs": [],
   "source": [
    "def get_data_loaders(num_samples=5000, batch_size=64):\n",
    "    transform = transforms.Compose([\n",
    "        transforms.Resize(224),\n",
    "        transforms.ToTensor(),\n",
    "        transforms.Normalize(mean=[0.4914, 0.4822, 0.4465],\n",
    "                             std=[0.2023, 0.1994, 0.2010])\n",
    "    ])\n",
    "\n",
    "    train_dataset = torchvision.datasets.CIFAR10(\n",
    "        root='./data', train=True, download=True, transform=transform\n",
    "    )\n",
    "    test_dataset = torchvision.datasets.CIFAR10(\n",
    "        root='./data', train=False, download=True, transform=transform\n",
    "    )\n",
    "\n",
    "    train_subset = Subset(train_dataset, range(num_samples))\n",
    "    val_subset = Subset(test_dataset, range(num_samples // 5))\n",
    "\n",
    "    train_loader = DataLoader(\n",
    "        train_subset, batch_size=batch_size, shuffle=True,\n",
    "        num_workers=2, pin_memory=True\n",
    "    )\n",
    "    val_loader = DataLoader(\n",
    "        val_subset, batch_size=batch_size, shuffle=False,\n",
    "        num_workers=2, pin_memory=True\n",
    "    )\n",
    "\n",
    "    return train_loader, val_loader"
   ]
  },
  {
   "cell_type": "markdown",
   "id": "40a41e10",
   "metadata": {
    "_cell_guid": "f0fda69b-8d4e-469a-9267-e2bd37351c00",
    "_uuid": "f2a7a7fd-dd1d-4ab0-ae14-f9b0b3ffd380",
    "collapsed": false,
    "jupyter": {
     "outputs_hidden": false
    },
    "papermill": {
     "duration": 0.010007,
     "end_time": "2025-03-23T09:29:38.428055",
     "exception": false,
     "start_time": "2025-03-23T09:29:38.418048",
     "status": "completed"
    },
    "tags": []
   },
   "source": [
    "### VGG19 Model Preparation Function\n",
    "\n",
    "This function loads a pre-trained VGG19 model from the ImageNet dataset and modifies its final classification layer to adapt it for a different dataset."
   ]
  },
  {
   "cell_type": "code",
   "execution_count": 5,
   "id": "77552322",
   "metadata": {
    "_cell_guid": "425c3ca8-fd3e-4fda-92f0-89ac6711b617",
    "_uuid": "071c4b06-943b-4bca-88a7-063f86408a11",
    "collapsed": false,
    "execution": {
     "iopub.execute_input": "2025-03-23T09:29:38.449892Z",
     "iopub.status.busy": "2025-03-23T09:29:38.449696Z",
     "iopub.status.idle": "2025-03-23T09:29:38.452762Z",
     "shell.execute_reply": "2025-03-23T09:29:38.452191Z"
    },
    "jupyter": {
     "outputs_hidden": false
    },
    "papermill": {
     "duration": 0.015743,
     "end_time": "2025-03-23T09:29:38.454030",
     "exception": false,
     "start_time": "2025-03-23T09:29:38.438287",
     "status": "completed"
    },
    "tags": []
   },
   "outputs": [],
   "source": [
    "def get_model(classes = 10):\n",
    "    model = torchvision.models.vgg19(weights='IMAGENET1K_V1')\n",
    "    model.classifier[6] = nn.Linear(4096, classes)\n",
    "    return model"
   ]
  },
  {
   "cell_type": "markdown",
   "id": "d4500229",
   "metadata": {
    "_cell_guid": "37a97ace-237b-4d60-be2d-40495a801fce",
    "_uuid": "8c666d4f-b89b-4f78-acff-3f606be374d3",
    "collapsed": false,
    "jupyter": {
     "outputs_hidden": false
    },
    "papermill": {
     "duration": 0.010213,
     "end_time": "2025-03-23T09:29:38.474622",
     "exception": false,
     "start_time": "2025-03-23T09:29:38.464409",
     "status": "completed"
    },
    "tags": []
   },
   "source": [
    "### FLOPs Estimation Function\n",
    "**Returns:**\n",
    "- `total_flops` (int): The estimated total number of floating-point operations for both the forward and backward passes."
   ]
  },
  {
   "cell_type": "code",
   "execution_count": 6,
   "id": "016851d5",
   "metadata": {
    "_cell_guid": "271efd2a-6295-4c71-8b5e-eb21f80c3399",
    "_uuid": "525987c5-8c61-4939-9170-a6ede838330e",
    "collapsed": false,
    "execution": {
     "iopub.execute_input": "2025-03-23T09:29:38.496129Z",
     "iopub.status.busy": "2025-03-23T09:29:38.495873Z",
     "iopub.status.idle": "2025-03-23T09:29:38.500125Z",
     "shell.execute_reply": "2025-03-23T09:29:38.499561Z"
    },
    "jupyter": {
     "outputs_hidden": false
    },
    "papermill": {
     "duration": 0.01649,
     "end_time": "2025-03-23T09:29:38.501245",
     "exception": false,
     "start_time": "2025-03-23T09:29:38.484755",
     "status": "completed"
    },
    "tags": []
   },
   "outputs": [],
   "source": [
    "def count_flops(model, input_size=(1, 3, 224, 224)):\n",
    "    \"\"\"Estimate FLOPs for the model\"\"\"\n",
    "    total_flops = 0\n",
    "    for param in model.parameters():\n",
    "        if len(param.shape) >= 2:\n",
    "            total_flops += np.prod(param.shape)\n",
    "    return total_flops * 2\n",
    "\n",
    "def get_model_file_size(model):\n",
    "    torch.save(model.state_dict(), \"temp.p\")\n",
    "    size = os.path.getsize(\"temp.p\") / (1024 * 1024)\n",
    "    os.remove(\"temp.p\")\n",
    "    return size"
   ]
  },
  {
   "cell_type": "markdown",
   "id": "5368f464",
   "metadata": {
    "_cell_guid": "eb11d827-9b03-442e-9b72-208535487293",
    "_uuid": "41fb8571-2d1c-4e02-88ca-e09a43802a9a",
    "collapsed": false,
    "jupyter": {
     "outputs_hidden": false
    },
    "papermill": {
     "duration": 0.010294,
     "end_time": "2025-03-23T09:29:38.521828",
     "exception": false,
     "start_time": "2025-03-23T09:29:38.511534",
     "status": "completed"
    },
    "tags": []
   },
   "source": [
    "### Training Function for One Epoch\n",
    "\n",
    "This function performs one epoch of training for a given model using the provided data loader, loss function, and optimizer. It includes essential features such as gradient clipping and NaN loss handling to ensure stable and effective training.\n",
    "\n",
    "**Key Features:**\n",
    "- **Model Training Mode:** Puts the model in training mode to enable features like dropout and batch normalization.\n",
    "- **Loss Computation:** Uses the specified criterion (loss function) to calculate the training loss.\n",
    "- **Gradient Clipping:** Prevents exploding gradients by clipping them to a maximum norm (`max_grad_norm`).\n",
    "- **NaN Loss Handling:** Detects and skips batches with NaN loss values to maintain training stability.\n",
    "- **Real-Time Progress Monitoring:** Uses `tqdm` to display real-time progress, including current loss and accuracy.\n",
    "- **Accuracy Calculation:** Tracks the number of correct predictions to compute accuracy for the epoch."
   ]
  },
  {
   "cell_type": "code",
   "execution_count": 7,
   "id": "ed0c5503",
   "metadata": {
    "_cell_guid": "ee664d60-44a0-4958-b36a-d72c4fb1de59",
    "_uuid": "66cb8c07-5dc0-436f-bde0-29784c9f6a51",
    "collapsed": false,
    "execution": {
     "iopub.execute_input": "2025-03-23T09:29:38.543293Z",
     "iopub.status.busy": "2025-03-23T09:29:38.543081Z",
     "iopub.status.idle": "2025-03-23T09:29:38.548555Z",
     "shell.execute_reply": "2025-03-23T09:29:38.547966Z"
    },
    "jupyter": {
     "outputs_hidden": false
    },
    "papermill": {
     "duration": 0.017553,
     "end_time": "2025-03-23T09:29:38.549734",
     "exception": false,
     "start_time": "2025-03-23T09:29:38.532181",
     "status": "completed"
    },
    "tags": []
   },
   "outputs": [],
   "source": [
    "def train_epoch(model, train_loader, criterion, optimizer, device, max_grad_norm=1.0):\n",
    "    model.train()\n",
    "    running_loss = 0.0\n",
    "    correct = 0\n",
    "    total = 0\n",
    "    \n",
    "    pbar = tqdm(train_loader, desc='Training')\n",
    "    for inputs, targets in pbar:\n",
    "        inputs, targets = inputs.to(device), targets.to(device)\n",
    "        \n",
    "        optimizer.zero_grad()\n",
    "        outputs = model(inputs)\n",
    "        loss = criterion(outputs, targets)\n",
    "\n",
    "        # Check for NaN loss\n",
    "        if torch.isnan(loss):\n",
    "            print(\"Warning: NaN loss detected. Skipping batch.\")\n",
    "            continue\n",
    "        \n",
    "        loss.backward()\n",
    "\n",
    "        # Gradient clipping\n",
    "        torch.nn.utils.clip_grad_norm_(model.parameters(), max_grad_norm)\n",
    "        \n",
    "        optimizer.step()\n",
    "        \n",
    "        running_loss += loss.item()\n",
    "        _, predicted = outputs.max(1)\n",
    "        total += targets.size(0)\n",
    "        correct += predicted.eq(targets).sum().item()\n",
    "        \n",
    "        pbar.set_postfix({\n",
    "            'loss': f'{running_loss/total:.3f}',\n",
    "            'acc': f'{100.*correct/total:.1f}%'\n",
    "        })\n",
    "    \n",
    "    return running_loss / len(train_loader), 100.*correct/total"
   ]
  },
  {
   "cell_type": "markdown",
   "id": "620cf849",
   "metadata": {
    "_cell_guid": "08f1f0ea-41d4-4d8b-9128-43572de277d3",
    "_uuid": "33b991ed-0a04-480c-ae5b-fa698fa4640f",
    "collapsed": false,
    "jupyter": {
     "outputs_hidden": false
    },
    "papermill": {
     "duration": 0.009989,
     "end_time": "2025-03-23T09:29:38.569997",
     "exception": false,
     "start_time": "2025-03-23T09:29:38.560008",
     "status": "completed"
    },
    "tags": []
   },
   "source": [
    "### Model Evaluation Function\n",
    "\n",
    "This function evaluates a trained model on a validation dataset, providing key performance metrics such as loss, accuracy.\n",
    "\n",
    "**Key Features:**\n",
    "- **Evaluation Mode:** Sets the model to evaluation mode, disabling features like dropout and batch normalization updates.\n",
    "- **No Gradient Calculation:** Uses `torch.no_grad()` for efficient evaluation by disabling gradient computations.\n",
    "- **Top-1 and Top-5 Accuracy:** Computes both standard accuracy (Top-1) and Top-5 accuracy, useful for multi-class classification tasks."
   ]
  },
  {
   "cell_type": "code",
   "execution_count": 8,
   "id": "580dfd95",
   "metadata": {
    "_cell_guid": "091951fb-81da-44e4-bc63-a1a4fd0e748f",
    "_uuid": "a8a61b6d-c29f-46f9-ba34-ea501615a30f",
    "collapsed": false,
    "execution": {
     "iopub.execute_input": "2025-03-23T09:29:38.590968Z",
     "iopub.status.busy": "2025-03-23T09:29:38.590769Z",
     "iopub.status.idle": "2025-03-23T09:29:38.595616Z",
     "shell.execute_reply": "2025-03-23T09:29:38.595044Z"
    },
    "jupyter": {
     "outputs_hidden": false
    },
    "papermill": {
     "duration": 0.016773,
     "end_time": "2025-03-23T09:29:38.596784",
     "exception": false,
     "start_time": "2025-03-23T09:29:38.580011",
     "status": "completed"
    },
    "tags": []
   },
   "outputs": [],
   "source": [
    "def evaluate(model, val_loader, criterion, device):\n",
    "    model.to(device)\n",
    "    model.eval()\n",
    "    running_loss = 0.0\n",
    "    correct = 0\n",
    "    total = 0\n",
    "    correct_top5 = 0\n",
    "\n",
    "    with torch.no_grad():\n",
    "        for inputs, targets in val_loader:\n",
    "            inputs, targets = inputs.to(device), targets.to(device)\n",
    "            outputs = model(inputs)\n",
    "            loss = criterion(outputs, targets)\n",
    "            running_loss += loss.item()\n",
    "            \n",
    "            # Top-1 accuracy\n",
    "            _, predicted = outputs.max(1)\n",
    "            total += targets.size(0)\n",
    "            correct += predicted.eq(targets).sum().item()\n",
    "            \n",
    "            # Top-5 accuracy\n",
    "            _, pred5 = outputs.topk(5, 1, True, True)\n",
    "            correct_top5 += pred5.eq(targets.view(-1, 1).expand_as(pred5)).sum().item()\n",
    "    \n",
    "    return {\n",
    "        'loss': running_loss / len(val_loader),\n",
    "        'acc': 100. * correct / total,\n",
    "        'top1_acc': 100. * correct / total,\n",
    "        'top5_acc': 100. * correct_top5 / total\n",
    "    }"
   ]
  },
  {
   "cell_type": "code",
   "execution_count": 9,
   "id": "b3a91d8b",
   "metadata": {
    "_cell_guid": "01722579-9b56-4054-9d2d-0c6990cc54eb",
    "_uuid": "c3257b93-1648-4ee5-a21a-7806e5aef8c9",
    "collapsed": false,
    "execution": {
     "iopub.execute_input": "2025-03-23T09:29:38.618028Z",
     "iopub.status.busy": "2025-03-23T09:29:38.617823Z",
     "iopub.status.idle": "2025-03-23T09:29:38.622552Z",
     "shell.execute_reply": "2025-03-23T09:29:38.621742Z"
    },
    "jupyter": {
     "outputs_hidden": false
    },
    "papermill": {
     "duration": 0.016836,
     "end_time": "2025-03-23T09:29:38.623876",
     "exception": false,
     "start_time": "2025-03-23T09:29:38.607040",
     "status": "completed"
    },
    "tags": []
   },
   "outputs": [],
   "source": [
    "class EarlyStopping:\n",
    "    def __init__(self, patience=5, min_delta=0):\n",
    "        self.patience = patience\n",
    "        self.min_delta = min_delta\n",
    "        self.counter = 0\n",
    "        self.best_score = None\n",
    "        self.early_stop = False\n",
    "        self.best_model_state = None\n",
    "\n",
    "    def __call__(self, val_loss, model):\n",
    "        score = -val_loss\n",
    "\n",
    "        if self.best_score is None:\n",
    "            self.best_score = score\n",
    "            self.best_model = model\n",
    "        elif score < self.best_score + self.min_delta:\n",
    "            self.counter += 1\n",
    "            print(f'EarlyStopping counter: {self.counter} out of {self.patience}')\n",
    "            if self.counter >= self.patience:\n",
    "                self.early_stop = True\n",
    "        else:\n",
    "            self.best_score = score\n",
    "            self.best_model_state = model.state_dict()\n",
    "            self.counter = 0"
   ]
  },
  {
   "cell_type": "code",
   "execution_count": 10,
   "id": "eeb6633b",
   "metadata": {
    "_cell_guid": "605eb7f4-fc1b-45aa-8958-2c3e0ea0122f",
    "_uuid": "11c1399b-913a-461f-91ac-de71c6c1e109",
    "collapsed": false,
    "execution": {
     "iopub.execute_input": "2025-03-23T09:29:38.645218Z",
     "iopub.status.busy": "2025-03-23T09:29:38.645025Z",
     "iopub.status.idle": "2025-03-23T09:29:38.649249Z",
     "shell.execute_reply": "2025-03-23T09:29:38.648699Z"
    },
    "jupyter": {
     "outputs_hidden": false
    },
    "papermill": {
     "duration": 0.016372,
     "end_time": "2025-03-23T09:29:38.650437",
     "exception": false,
     "start_time": "2025-03-23T09:29:38.634065",
     "status": "completed"
    },
    "tags": []
   },
   "outputs": [],
   "source": [
    "def print_and_get_metrics(technique, epoch, metrics, model_size, flops, *args, **kwargs):\n",
    "    print(\"\\nFinal Model Performance:\")\n",
    "    \n",
    "    print(f\"Result of {technique}:\")\n",
    "    print(f\"Total epochs: {epoch}\")\n",
    "    print(f\"Model Size: {model_size:.2f} MB\")\n",
    "    print(f\"FLOPs: {flops / 1e9:.2f} GFLOPs\")\n",
    "    print(f\"Accuracy: {metrics['acc']:.2f}%\")\n",
    "    print(f\"Top-1 Accuracy: {metrics['top1_acc']:.2f}%\")\n",
    "    print(f\"Top-5 Accuracy: {metrics['top5_acc']:.2f}%\")\n",
    "    \n",
    "    result = {\n",
    "        \"technique\": technique,\n",
    "        \"epoch\": epoch,\n",
    "        \"model_size\": f\"{model_size:.2f} MB\",\n",
    "        \"flops\": f\"{flops / 1e9:.2f} GFLOPs\",\n",
    "        \"acc\": f\"{metrics['acc']:.2f}%\",\n",
    "        \"top1\": f\"{metrics['top1_acc']:.2f}%\",\n",
    "        \"top5\": f\"{metrics['top5_acc']:.2f}%\",\n",
    "    }\n",
    "\n",
    "    for extra in args:\n",
    "        if isinstance(extra, dict):\n",
    "            result.update(extra)\n",
    "\n",
    "    result.update(kwargs)\n",
    "\n",
    "    return result"
   ]
  },
  {
   "cell_type": "markdown",
   "id": "95115f6d",
   "metadata": {
    "_cell_guid": "066f8eb2-2ee8-43c0-a56b-7078652b6f59",
    "_uuid": "b69139a8-045b-4700-a18c-37f5b95f47cf",
    "collapsed": false,
    "jupyter": {
     "outputs_hidden": false
    },
    "papermill": {
     "duration": 0.009951,
     "end_time": "2025-03-23T09:29:38.670605",
     "exception": false,
     "start_time": "2025-03-23T09:29:38.660654",
     "status": "completed"
    },
    "tags": []
   },
   "source": [
    "# Baseline Model Training"
   ]
  },
  {
   "cell_type": "code",
   "execution_count": 11,
   "id": "7907f7f1",
   "metadata": {
    "_cell_guid": "91ab501d-477b-4073-9a05-f95d3f20ecd5",
    "_uuid": "c254f374-9da4-41fb-9e25-2af3fd12c61d",
    "collapsed": false,
    "execution": {
     "iopub.execute_input": "2025-03-23T09:29:38.691464Z",
     "iopub.status.busy": "2025-03-23T09:29:38.691232Z",
     "iopub.status.idle": "2025-03-23T09:29:38.743752Z",
     "shell.execute_reply": "2025-03-23T09:29:38.742855Z"
    },
    "jupyter": {
     "outputs_hidden": false
    },
    "papermill": {
     "duration": 0.064265,
     "end_time": "2025-03-23T09:29:38.745011",
     "exception": false,
     "start_time": "2025-03-23T09:29:38.680746",
     "status": "completed"
    },
    "tags": []
   },
   "outputs": [
    {
     "name": "stdout",
     "output_type": "stream",
     "text": [
      "Using device: cuda\n",
      "\n",
      "Dataset Information:\n",
      "Training samples: 5000\n",
      "Validation samples: 1000\n",
      "Batch size: 32\n"
     ]
    }
   ],
   "source": [
    "# Configuration\n",
    "num_epochs=30\n",
    "batch_size=32\n",
    "num_samples=5000\n",
    "\n",
    "device = torch.device('cuda' if torch.cuda.is_available() else 'cpu')\n",
    "\n",
    "print(f\"Using device: {device}\")\n",
    "\n",
    "# Dataset details\n",
    "print(f\"\\nDataset Information:\")\n",
    "print(f\"Training samples: {num_samples}\")\n",
    "print(f\"Validation samples: {num_samples // 5}\")\n",
    "print(f\"Batch size: {batch_size}\")"
   ]
  },
  {
   "cell_type": "code",
   "execution_count": 12,
   "id": "b8cd33c4",
   "metadata": {
    "execution": {
     "iopub.execute_input": "2025-03-23T09:29:38.766883Z",
     "iopub.status.busy": "2025-03-23T09:29:38.766644Z",
     "iopub.status.idle": "2025-03-23T09:29:45.249577Z",
     "shell.execute_reply": "2025-03-23T09:29:45.248586Z"
    },
    "papermill": {
     "duration": 6.496364,
     "end_time": "2025-03-23T09:29:45.252057",
     "exception": false,
     "start_time": "2025-03-23T09:29:38.755693",
     "status": "completed"
    },
    "tags": []
   },
   "outputs": [
    {
     "name": "stdout",
     "output_type": "stream",
     "text": [
      "Downloading https://www.cs.toronto.edu/~kriz/cifar-10-python.tar.gz to ./data/cifar-10-python.tar.gz\n"
     ]
    },
    {
     "name": "stderr",
     "output_type": "stream",
     "text": [
      "100%|██████████| 170M/170M [00:03<00:00, 54.8MB/s]\n"
     ]
    },
    {
     "name": "stdout",
     "output_type": "stream",
     "text": [
      "Extracting ./data/cifar-10-python.tar.gz to ./data\n",
      "Files already downloaded and verified\n"
     ]
    }
   ],
   "source": [
    "train_loader, val_loader = get_data_loaders(num_samples, batch_size)"
   ]
  },
  {
   "cell_type": "code",
   "execution_count": 13,
   "id": "d8230a5b",
   "metadata": {
    "_cell_guid": "b9934e27-259b-4b47-9cf7-b394599f652c",
    "_uuid": "221b2926-a1ad-41d5-9eea-d4bc3c539f1e",
    "collapsed": false,
    "execution": {
     "iopub.execute_input": "2025-03-23T09:29:45.291544Z",
     "iopub.status.busy": "2025-03-23T09:29:45.291235Z",
     "iopub.status.idle": "2025-03-23T09:29:45.298633Z",
     "shell.execute_reply": "2025-03-23T09:29:45.297976Z"
    },
    "jupyter": {
     "outputs_hidden": false
    },
    "papermill": {
     "duration": 0.023021,
     "end_time": "2025-03-23T09:29:45.299951",
     "exception": false,
     "start_time": "2025-03-23T09:29:45.276930",
     "status": "completed"
    },
    "tags": []
   },
   "outputs": [],
   "source": [
    "def run_baseline(num_epochs, batch_size):\n",
    "    model = get_model().to(device)\n",
    "    \n",
    "    print(\"\\nModel Summary:\")\n",
    "    print(summary(model, input_size=(batch_size, 3, 224, 224)))\n",
    "\n",
    "    model_size = sum(p.numel() * p.element_size() for p in model.parameters()) / (1024 * 1024)\n",
    "    flops = count_flops(model)\n",
    "    \n",
    "    criterion = nn.CrossEntropyLoss()\n",
    "    optimizer = optim.SGD(model.parameters(), lr=0.001, momentum=0.9)\n",
    "    \n",
    "    train_losses, train_accs = [], []\n",
    "    val_losses, val_accs = [], []\n",
    "\n",
    "    early_stopping = EarlyStopping(patience=3, min_delta=0.001)\n",
    "    \n",
    "    print(\"\\nStarting training Baseline...\")\n",
    "    epochs_performed = 0\n",
    "    for epoch in range(num_epochs):\n",
    "        print(f\"\\nEpoch {epoch + 1}/{num_epochs}\")\n",
    "\n",
    "        train_loss, train_acc = train_epoch(model, train_loader, criterion, optimizer, device)\n",
    "        train_losses.append(train_loss)\n",
    "        train_accs.append(train_acc)\n",
    "\n",
    "        eval_metrics = evaluate(model, val_loader, criterion, device)\n",
    "        val_losses.append(eval_metrics['loss'])\n",
    "        val_accs.append(eval_metrics['acc'])\n",
    "        epochs_performed = epochs_performed + 1\n",
    "        # Early stopping logic\n",
    "        early_stopping(eval_metrics['loss'], model)\n",
    "        if early_stopping.early_stop:\n",
    "            print(\"Early stopping triggered\")\n",
    "            break\n",
    "\n",
    "    model = early_stopping.best_model\n",
    "    scripted_model = torch.jit.script(model)\n",
    "    scripted_model.save(\"baseline_cifar10.pt\")\n",
    "\n",
    "    print(\"\\nPerforming final evaluation for Baseline cifar10...\")\n",
    "    gpu_metrics = evaluate(model, val_loader, criterion, device)\n",
    "    \n",
    "    result = print_and_get_metrics(\"Baseline - CIFAR-10\", epochs_performed, gpu_metrics,  model_size, flops)\n",
    "    \n",
    "    return model, result, (train_losses, train_accs, val_losses, val_accs)"
   ]
  },
  {
   "cell_type": "code",
   "execution_count": 14,
   "id": "2a855122",
   "metadata": {
    "_cell_guid": "b9d2f1bd-6252-472d-828e-9cd242a4f75b",
    "_uuid": "de4fe413-07f6-405a-8527-fd2fe69f9e79",
    "collapsed": false,
    "execution": {
     "iopub.execute_input": "2025-03-23T09:29:45.325857Z",
     "iopub.status.busy": "2025-03-23T09:29:45.325645Z",
     "iopub.status.idle": "2025-03-23T09:38:41.599021Z",
     "shell.execute_reply": "2025-03-23T09:38:41.597931Z"
    },
    "jupyter": {
     "outputs_hidden": false
    },
    "papermill": {
     "duration": 536.287974,
     "end_time": "2025-03-23T09:38:41.600540",
     "exception": false,
     "start_time": "2025-03-23T09:29:45.312566",
     "status": "completed"
    },
    "tags": []
   },
   "outputs": [
    {
     "name": "stderr",
     "output_type": "stream",
     "text": [
      "Downloading: \"https://download.pytorch.org/models/vgg19-dcbb9e9d.pth\" to /root/.cache/torch/hub/checkpoints/vgg19-dcbb9e9d.pth\n",
      "100%|██████████| 548M/548M [00:02<00:00, 236MB/s]\n"
     ]
    },
    {
     "name": "stdout",
     "output_type": "stream",
     "text": [
      "\n",
      "Model Summary:\n",
      "==========================================================================================\n",
      "Layer (type:depth-idx)                   Output Shape              Param #\n",
      "==========================================================================================\n",
      "VGG                                      [32, 10]                  --\n",
      "├─Sequential: 1-1                        [32, 512, 7, 7]           --\n",
      "│    └─Conv2d: 2-1                       [32, 64, 224, 224]        1,792\n",
      "│    └─ReLU: 2-2                         [32, 64, 224, 224]        --\n",
      "│    └─Conv2d: 2-3                       [32, 64, 224, 224]        36,928\n",
      "│    └─ReLU: 2-4                         [32, 64, 224, 224]        --\n",
      "│    └─MaxPool2d: 2-5                    [32, 64, 112, 112]        --\n",
      "│    └─Conv2d: 2-6                       [32, 128, 112, 112]       73,856\n",
      "│    └─ReLU: 2-7                         [32, 128, 112, 112]       --\n",
      "│    └─Conv2d: 2-8                       [32, 128, 112, 112]       147,584\n",
      "│    └─ReLU: 2-9                         [32, 128, 112, 112]       --\n",
      "│    └─MaxPool2d: 2-10                   [32, 128, 56, 56]         --\n",
      "│    └─Conv2d: 2-11                      [32, 256, 56, 56]         295,168\n",
      "│    └─ReLU: 2-12                        [32, 256, 56, 56]         --\n",
      "│    └─Conv2d: 2-13                      [32, 256, 56, 56]         590,080\n",
      "│    └─ReLU: 2-14                        [32, 256, 56, 56]         --\n",
      "│    └─Conv2d: 2-15                      [32, 256, 56, 56]         590,080\n",
      "│    └─ReLU: 2-16                        [32, 256, 56, 56]         --\n",
      "│    └─Conv2d: 2-17                      [32, 256, 56, 56]         590,080\n",
      "│    └─ReLU: 2-18                        [32, 256, 56, 56]         --\n",
      "│    └─MaxPool2d: 2-19                   [32, 256, 28, 28]         --\n",
      "│    └─Conv2d: 2-20                      [32, 512, 28, 28]         1,180,160\n",
      "│    └─ReLU: 2-21                        [32, 512, 28, 28]         --\n",
      "│    └─Conv2d: 2-22                      [32, 512, 28, 28]         2,359,808\n",
      "│    └─ReLU: 2-23                        [32, 512, 28, 28]         --\n",
      "│    └─Conv2d: 2-24                      [32, 512, 28, 28]         2,359,808\n",
      "│    └─ReLU: 2-25                        [32, 512, 28, 28]         --\n",
      "│    └─Conv2d: 2-26                      [32, 512, 28, 28]         2,359,808\n",
      "│    └─ReLU: 2-27                        [32, 512, 28, 28]         --\n",
      "│    └─MaxPool2d: 2-28                   [32, 512, 14, 14]         --\n",
      "│    └─Conv2d: 2-29                      [32, 512, 14, 14]         2,359,808\n",
      "│    └─ReLU: 2-30                        [32, 512, 14, 14]         --\n",
      "│    └─Conv2d: 2-31                      [32, 512, 14, 14]         2,359,808\n",
      "│    └─ReLU: 2-32                        [32, 512, 14, 14]         --\n",
      "│    └─Conv2d: 2-33                      [32, 512, 14, 14]         2,359,808\n",
      "│    └─ReLU: 2-34                        [32, 512, 14, 14]         --\n",
      "│    └─Conv2d: 2-35                      [32, 512, 14, 14]         2,359,808\n",
      "│    └─ReLU: 2-36                        [32, 512, 14, 14]         --\n",
      "│    └─MaxPool2d: 2-37                   [32, 512, 7, 7]           --\n",
      "├─AdaptiveAvgPool2d: 1-2                 [32, 512, 7, 7]           --\n",
      "├─Sequential: 1-3                        [32, 10]                  --\n",
      "│    └─Linear: 2-38                      [32, 4096]                102,764,544\n",
      "│    └─ReLU: 2-39                        [32, 4096]                --\n",
      "│    └─Dropout: 2-40                     [32, 4096]                --\n",
      "│    └─Linear: 2-41                      [32, 4096]                16,781,312\n",
      "│    └─ReLU: 2-42                        [32, 4096]                --\n",
      "│    └─Dropout: 2-43                     [32, 4096]                --\n",
      "│    └─Linear: 2-44                      [32, 10]                  40,970\n",
      "==========================================================================================\n",
      "Total params: 139,611,210\n",
      "Trainable params: 139,611,210\n",
      "Non-trainable params: 0\n",
      "Total mult-adds (G): 628.57\n",
      "==========================================================================================\n",
      "Input size (MB): 19.27\n",
      "Forward/backward pass size (MB): 3804.24\n",
      "Params size (MB): 558.44\n",
      "Estimated Total Size (MB): 4381.95\n",
      "==========================================================================================\n",
      "\n",
      "Starting training Baseline...\n",
      "\n",
      "Epoch 1/30\n"
     ]
    },
    {
     "name": "stderr",
     "output_type": "stream",
     "text": [
      "Training: 100%|██████████| 157/157 [00:45<00:00,  3.48it/s, loss=0.053, acc=43.0%]\n"
     ]
    },
    {
     "name": "stdout",
     "output_type": "stream",
     "text": [
      "\n",
      "Epoch 2/30\n"
     ]
    },
    {
     "name": "stderr",
     "output_type": "stream",
     "text": [
      "Training: 100%|██████████| 157/157 [00:44<00:00,  3.51it/s, loss=0.025, acc=72.7%]\n"
     ]
    },
    {
     "name": "stdout",
     "output_type": "stream",
     "text": [
      "\n",
      "Epoch 3/30\n"
     ]
    },
    {
     "name": "stderr",
     "output_type": "stream",
     "text": [
      "Training: 100%|██████████| 157/157 [00:44<00:00,  3.50it/s, loss=0.019, acc=79.1%]\n"
     ]
    },
    {
     "name": "stdout",
     "output_type": "stream",
     "text": [
      "\n",
      "Epoch 4/30\n"
     ]
    },
    {
     "name": "stderr",
     "output_type": "stream",
     "text": [
      "Training: 100%|██████████| 157/157 [00:44<00:00,  3.50it/s, loss=0.015, acc=83.2%]\n"
     ]
    },
    {
     "name": "stdout",
     "output_type": "stream",
     "text": [
      "\n",
      "Epoch 5/30\n"
     ]
    },
    {
     "name": "stderr",
     "output_type": "stream",
     "text": [
      "Training: 100%|██████████| 157/157 [00:44<00:00,  3.51it/s, loss=0.013, acc=84.8%]\n"
     ]
    },
    {
     "name": "stdout",
     "output_type": "stream",
     "text": [
      "\n",
      "Epoch 6/30\n"
     ]
    },
    {
     "name": "stderr",
     "output_type": "stream",
     "text": [
      "Training: 100%|██████████| 157/157 [00:44<00:00,  3.50it/s, loss=0.012, acc=86.9%]\n"
     ]
    },
    {
     "name": "stdout",
     "output_type": "stream",
     "text": [
      "\n",
      "Epoch 7/30\n"
     ]
    },
    {
     "name": "stderr",
     "output_type": "stream",
     "text": [
      "Training: 100%|██████████| 157/157 [00:44<00:00,  3.51it/s, loss=0.010, acc=89.0%]\n"
     ]
    },
    {
     "name": "stdout",
     "output_type": "stream",
     "text": [
      "\n",
      "Epoch 8/30\n"
     ]
    },
    {
     "name": "stderr",
     "output_type": "stream",
     "text": [
      "Training: 100%|██████████| 157/157 [00:44<00:00,  3.51it/s, loss=0.009, acc=89.7%]\n"
     ]
    },
    {
     "name": "stdout",
     "output_type": "stream",
     "text": [
      "\n",
      "Epoch 9/30\n"
     ]
    },
    {
     "name": "stderr",
     "output_type": "stream",
     "text": [
      "Training: 100%|██████████| 157/157 [00:44<00:00,  3.50it/s, loss=0.008, acc=90.4%]\n"
     ]
    },
    {
     "name": "stdout",
     "output_type": "stream",
     "text": [
      "EarlyStopping counter: 1 out of 3\n",
      "\n",
      "Epoch 10/30\n"
     ]
    },
    {
     "name": "stderr",
     "output_type": "stream",
     "text": [
      "Training: 100%|██████████| 157/157 [00:44<00:00,  3.51it/s, loss=0.007, acc=91.7%]\n"
     ]
    },
    {
     "name": "stdout",
     "output_type": "stream",
     "text": [
      "EarlyStopping counter: 2 out of 3\n",
      "\n",
      "Epoch 11/30\n"
     ]
    },
    {
     "name": "stderr",
     "output_type": "stream",
     "text": [
      "Training: 100%|██████████| 157/157 [00:44<00:00,  3.50it/s, loss=0.006, acc=92.6%]\n"
     ]
    },
    {
     "name": "stdout",
     "output_type": "stream",
     "text": [
      "EarlyStopping counter: 3 out of 3\n",
      "Early stopping triggered\n",
      "\n",
      "Performing final evaluation for Baseline cifar10...\n",
      "\n",
      "Final Model Performance:\n",
      "Result of Baseline - CIFAR-10:\n",
      "Total epochs: 11\n",
      "Model Size: 532.57 MB\n",
      "FLOPs: 0.28 GFLOPs\n",
      "Accuracy: 86.30%\n",
      "Top-1 Accuracy: 86.30%\n",
      "Top-5 Accuracy: 99.80%\n"
     ]
    }
   ],
   "source": [
    "baseline_cifar10, baseline_result, baseline_metrics = run_baseline(num_epochs, batch_size)"
   ]
  },
  {
   "cell_type": "markdown",
   "id": "99d15373",
   "metadata": {
    "_cell_guid": "6bf127dc-e285-443f-be71-d3018b620adb",
    "_uuid": "a5c2eea3-9859-4378-8672-97d29fe86cba",
    "collapsed": false,
    "jupyter": {
     "outputs_hidden": false
    },
    "papermill": {
     "duration": 0.16455,
     "end_time": "2025-03-23T09:38:41.974182",
     "exception": false,
     "start_time": "2025-03-23T09:38:41.809632",
     "status": "completed"
    },
    "tags": []
   },
   "source": [
    "# Model Pruning\n",
    "\n",
    "## Structured Pruning"
   ]
  },
  {
   "cell_type": "code",
   "execution_count": 15,
   "id": "461aeb41",
   "metadata": {
    "_cell_guid": "39ffe31a-7e30-43d4-a1fc-e04b3b162e8b",
    "_uuid": "8f62c231-006c-44c8-93e5-f4ad8a824fef",
    "collapsed": false,
    "execution": {
     "iopub.execute_input": "2025-03-23T09:38:42.302272Z",
     "iopub.status.busy": "2025-03-23T09:38:42.301958Z",
     "iopub.status.idle": "2025-03-23T09:38:45.584939Z",
     "shell.execute_reply": "2025-03-23T09:38:45.584190Z"
    },
    "jupyter": {
     "outputs_hidden": false
    },
    "papermill": {
     "duration": 3.448827,
     "end_time": "2025-03-23T09:38:45.586482",
     "exception": false,
     "start_time": "2025-03-23T09:38:42.137655",
     "status": "completed"
    },
    "tags": []
   },
   "outputs": [],
   "source": [
    "import torch.nn.utils.prune as prune\n",
    "from ptflops import get_model_complexity_info"
   ]
  },
  {
   "cell_type": "markdown",
   "id": "1c42c09c",
   "metadata": {
    "_cell_guid": "6b0e9f7e-4299-4a33-b23c-e721aced507c",
    "_uuid": "6e9ab289-7de2-41d4-a98d-628c04a60465",
    "collapsed": false,
    "jupyter": {
     "outputs_hidden": false
    },
    "papermill": {
     "duration": 0.165548,
     "end_time": "2025-03-23T09:38:45.919233",
     "exception": false,
     "start_time": "2025-03-23T09:38:45.753685",
     "status": "completed"
    },
    "tags": []
   },
   "source": [
    "### StructuredPruner Class for Convolutional Neural Networks\n",
    "\n",
    "The `StructuredPruner` class implements **structured pruning** for convolutional neural networks, focusing on removing entire filters (or channels) based on their importance. This pruning technique reduces model complexity and improves inference speed while minimizing the impact on model performance.\n",
    "\n",
    "**Key Features:**\n",
    "- **Filter Importance Scoring:** Uses the **L1-norm** of convolutional filters to measure their importance, prioritizing the removal of less significant filters.\n",
    "- **Layer-Wise Pruning:** Prunes filters from convolutional layers and adjusts associated batch normalization layers to maintain consistency.\n",
    "- **Automatic Adjustment of Fully Connected Layers:** After pruning convolutional layers, the class adjusts the first fully connected layer to match the reduced feature map dimensions.\n",
    "- **Pruning History Tracking:** Records pruning statistics, including the number of filters before and after pruning for each layer.\n",
    "- **Flexible Pruning Ratio:** Allows users to specify the fraction of filters to prune, providing control over the trade-off between model size and accuracy.\n",
    "\n",
    "**Benefits of Structured Pruning:**\n",
    "- **Model Compression:** Reduces the number of parameters and model size for more efficient storage and deployment.\n",
    "- **Faster Inference:** Decreases computational load, leading to faster inference times, especially on resource-constrained devices.\n",
    "- **Energy Efficiency:** Reduces power consumption by lowering the number of computations.\n",
    "\n",
    "**Parameters:**\n",
    "- `model` (torch.nn.Module): The neural network model to be pruned.\n",
    "\n",
    "**Methods:**\n",
    "- `compute_filter_importance(conv_layer)`: Computes the importance score for each filter in a convolutional layer using the L1-norm.\n",
    "- `prune_conv_layer(conv_layer, bn_layer, prune_ratio)`: Prunes the least important filters from a convolutional layer and adjusts the batch normalization layer if present.\n",
    "- `prune_model(prune_ratio, input_shape=(3, 224, 224))`: Applies structured pruning across the entire model and adjusts subsequent layers accordingly.\n",
    "- `_adjust_fc_layer(input_shape)`: Adjusts the first fully connected (FC) layer to match the reduced output size from the convolutional layers after pruning.\n",
    "- `print_pruning_history()`: Displays a summary of the pruning operations performed on the model.\n",
    "\n",
    "**Returns:**\n",
    "- A pruned version of the original model with reduced parameters and computational complexity."
   ]
  },
  {
   "cell_type": "code",
   "execution_count": 16,
   "id": "1124d10b",
   "metadata": {
    "_cell_guid": "2edb2c3c-aff2-4b36-b19d-c68796dfa028",
    "_uuid": "95292d71-7bbf-45ba-bb3f-40172b094b80",
    "execution": {
     "iopub.execute_input": "2025-03-23T09:38:46.290311Z",
     "iopub.status.busy": "2025-03-23T09:38:46.290019Z",
     "iopub.status.idle": "2025-03-23T09:38:46.302968Z",
     "shell.execute_reply": "2025-03-23T09:38:46.302137Z"
    },
    "jupyter": {
     "source_hidden": true
    },
    "papermill": {
     "duration": 0.179419,
     "end_time": "2025-03-23T09:38:46.304167",
     "exception": false,
     "start_time": "2025-03-23T09:38:46.124748",
     "status": "completed"
    },
    "tags": []
   },
   "outputs": [],
   "source": [
    "class StructuredPruner:\n",
    "    def __init__(self, model):\n",
    "        self.model = model\n",
    "        self.pruning_history = []\n",
    "    \n",
    "    def compute_filter_importance(self, conv_layer):\n",
    "        \"\"\"Compute L1-norm of each filter as importance score\"\"\"\n",
    "        weights = conv_layer.weight.data\n",
    "        importance = torch.sum(torch.abs(weights.view(weights.size(0), -1)), dim=1)\n",
    "        return importance\n",
    "    \n",
    "    def prune_conv_layer(self, conv_layer, bn_layer, prune_ratio):\n",
    "        n_filters = conv_layer.weight.size(0)\n",
    "        n_prune = int(n_filters * prune_ratio)\n",
    "        \n",
    "        if n_prune == 0:\n",
    "            return torch.arange(n_filters)  # Return all indices if nothing is pruned\n",
    "        \n",
    "        importance = self.compute_filter_importance(conv_layer)\n",
    "        _, indices = torch.sort(importance)\n",
    "        indices_to_keep = indices[n_prune:]\n",
    "        \n",
    "        # Prune conv layer\n",
    "        conv_layer.weight.data = torch.index_select(conv_layer.weight.data, 0, indices_to_keep)\n",
    "        if conv_layer.bias is not None:\n",
    "            conv_layer.bias.data = torch.index_select(conv_layer.bias.data, 0, indices_to_keep)\n",
    "        conv_layer.out_channels = len(indices_to_keep)\n",
    "        \n",
    "        # Prune batch norm layer if present\n",
    "        if bn_layer is not None:\n",
    "            bn_layer.weight.data = torch.index_select(bn_layer.weight.data, 0, indices_to_keep)\n",
    "            bn_layer.bias.data = torch.index_select(bn_layer.bias.data, 0, indices_to_keep)\n",
    "            bn_layer.running_mean = torch.index_select(bn_layer.running_mean, 0, indices_to_keep)\n",
    "            bn_layer.running_var = torch.index_select(bn_layer.running_var, 0, indices_to_keep)\n",
    "            bn_layer.num_features = len(indices_to_keep)\n",
    "        \n",
    "        return indices_to_keep\n",
    "\n",
    "    def _pre_prune(self):\n",
    "        self.flops_original, self.params_original = get_model_complexity_info(\n",
    "            self.model, (3, 224, 224), as_strings=False, print_per_layer_stat=False\n",
    "        )\n",
    "        self.flops_original = f\"{self.flops_original / 1e9:.2f} GFLOPs\"\n",
    "        self.params_original = f\"{self.params_original / 1e6:.2f} Million\"\n",
    "        print(f\"Original Model: {self.flops_original}, {self.params_original}\")\n",
    "        \n",
    "    def _post_prune(self):\n",
    "        self.flops_pruned, self.params_pruned = get_model_complexity_info(\n",
    "            self.model, (3, 224, 224), as_strings=False, print_per_layer_stat=False\n",
    "        )\n",
    "        \n",
    "        self.flops_pruned = f\"{self.flops_pruned / 1e9:.2f} GFLOPs\"\n",
    "        self.params_pruned = f\"{self.params_pruned / 1e6:.2f} Million\"\n",
    "        \n",
    "        print(f\"Pruned Model: {self.flops_pruned}, {self.params_pruned}\")\n",
    "        \n",
    "    \n",
    "    def prune_model(self, prune_ratio, input_shape=(3, 224, 224)):\n",
    "        self._pre_prune()\n",
    "        prev_indices = None\n",
    "        \n",
    "        # Get all conv and batch norm layers\n",
    "        conv_layers = [module for module in self.model.features if isinstance(module, nn.Conv2d)]\n",
    "        bn_layers = [module for module in self.model.features if isinstance(module, nn.BatchNorm2d)]\n",
    "        \n",
    "        print(f\"Found {len(conv_layers)} convolutional layers and {len(bn_layers)} batch norm layers.\")\n",
    "        \n",
    "        for i, conv in enumerate(conv_layers):\n",
    "            bn = bn_layers[i] if i < len(bn_layers) else None\n",
    "            filters_before = conv.weight.size(0)\n",
    "            \n",
    "            # Prune current layer\n",
    "            indices = self.prune_conv_layer(conv, bn, prune_ratio)\n",
    "            \n",
    "            # Adjust input channels of next conv layer based on pruned channels\n",
    "            if prev_indices is not None:\n",
    "                conv.weight.data = torch.index_select(conv.weight.data, 1, prev_indices)\n",
    "                conv.in_channels = len(prev_indices)\n",
    "            \n",
    "            prev_indices = indices\n",
    "            \n",
    "            # Record pruning statistics\n",
    "            self.pruning_history.append({\n",
    "                'layer': i,\n",
    "                'filters_before': filters_before,\n",
    "                'filters_after': len(indices) if indices is not None else filters_before\n",
    "            })\n",
    "        \n",
    "        # Adjust the first FC layer based on the new conv output\n",
    "        self._adjust_fc_layer(input_shape)\n",
    "        self._post_prune()\n",
    "    \n",
    "    def _adjust_fc_layer(self, input_shape):\n",
    "        # Run a dummy input through the model to determine new feature size\n",
    "        dummy_input = torch.randn(1, *input_shape)\n",
    "        with torch.no_grad():\n",
    "            features = self.model.features(dummy_input)\n",
    "            flattened_size = features.view(1, -1).size(1)\n",
    "        \n",
    "        # Update the FC layer to match the new flattened size\n",
    "        fc = self.model.classifier[0]\n",
    "        fc.in_features = flattened_size\n",
    "        fc.weight.data = fc.weight.data[:, :flattened_size]  # Adjust weights\n",
    "        print(f\"Adjusted FC layer input size to: {flattened_size}\")\n",
    "\n",
    "    def get_pruned_stats(self):\n",
    "        return {\n",
    "            'flops_original': self.flops_original,\n",
    "            'flops_pruned': self.flops_pruned,\n",
    "            'params_original': self.params_original,\n",
    "            'params_pruned': self.params_pruned\n",
    "        }\n",
    "        \n",
    "    def print_pruning_history(self):\n",
    "        if not self.pruning_history:\n",
    "            print(\"No pruning has been recorded.\")\n",
    "        for entry in self.pruning_history:\n",
    "            print(f\"Layer {entry['layer']}: Filters before = {entry['filters_before']}, Filters after = {entry['filters_after']}\")"
   ]
  },
  {
   "cell_type": "markdown",
   "id": "9b06c833",
   "metadata": {
    "_cell_guid": "16b6bd15-e8cd-4aef-a2ab-82451a46e662",
    "_uuid": "2e7148bb-b18e-4e54-8f5b-a7e6dd7617de",
    "collapsed": false,
    "jupyter": {
     "outputs_hidden": false
    },
    "papermill": {
     "duration": 0.166299,
     "end_time": "2025-03-23T09:38:46.638447",
     "exception": false,
     "start_time": "2025-03-23T09:38:46.472148",
     "status": "completed"
    },
    "tags": []
   },
   "source": [
    "### VGG19 Model with Structured Pruning\n",
    "\n",
    "This function initializes a pre-trained **VGG19** model, modifies it for a specified number of classes, and applies **structured pruning** to reduce the model's complexity. The pruning process removes less important filters from convolutional layers, optimizing the model for faster inference and reduced memory usage.\n",
    "\n",
    "**Key Features:**\n",
    "- **Pre-trained VGG19 Backbone:** Loads a VGG19 model pre-trained on ImageNet and modifies the final classification layer for the target dataset.\n",
    "- **Structured Pruning Integration:** Applies structured pruning using the `StructuredPruner` class, which removes less important filters based on their L1-norm importance scores.\n",
    "- **Customizable Pruning Ratio:** Allows users to define the proportion of filters to prune from each convolutional layer.\n",
    "- **Pruning History Tracking:** Returns the pruner object, which contains a history of pruning operations, enabling analysis of model modifications.\n",
    "\n",
    "**Benefits of Structured Pruning:**\n",
    "- **Model Compression:** Reduces the number of parameters, leading to a smaller model size and faster inference times.\n",
    "- **Performance Optimization:** Optimized for deployment on resource-constrained devices, such as mobile and embedded systems.\n",
    "- **Energy Efficiency:** Reduces computational requirements, lowering energy consumption during inference."
   ]
  },
  {
   "cell_type": "code",
   "execution_count": 17,
   "id": "b404b8f0",
   "metadata": {
    "_cell_guid": "ed0ade03-9274-4607-aae1-49ce647200fb",
    "_uuid": "ecd0535b-632b-4819-99f8-f084786e8b94",
    "collapsed": false,
    "execution": {
     "iopub.execute_input": "2025-03-23T09:38:46.966558Z",
     "iopub.status.busy": "2025-03-23T09:38:46.966231Z",
     "iopub.status.idle": "2025-03-23T09:38:46.969844Z",
     "shell.execute_reply": "2025-03-23T09:38:46.969206Z"
    },
    "jupyter": {
     "outputs_hidden": false
    },
    "papermill": {
     "duration": 0.170303,
     "end_time": "2025-03-23T09:38:46.971125",
     "exception": false,
     "start_time": "2025-03-23T09:38:46.800822",
     "status": "completed"
    },
    "tags": []
   },
   "outputs": [],
   "source": [
    "def get_model_with_pruning(classes=10, prune_ratio=0.3):\n",
    "    model = get_model(classes)\n",
    "    pruner = StructuredPruner(model)\n",
    "    pruner.prune_model(prune_ratio)\n",
    "    return model, pruner"
   ]
  },
  {
   "cell_type": "code",
   "execution_count": 18,
   "id": "0b0834ad",
   "metadata": {
    "_cell_guid": "83842cd5-e15d-4023-8a49-86d48101cbfc",
    "_uuid": "46a419c0-563c-45f8-b9a2-c3f4d17be2f9",
    "collapsed": false,
    "execution": {
     "iopub.execute_input": "2025-03-23T09:38:47.303204Z",
     "iopub.status.busy": "2025-03-23T09:38:47.302907Z",
     "iopub.status.idle": "2025-03-23T09:38:47.310439Z",
     "shell.execute_reply": "2025-03-23T09:38:47.309751Z"
    },
    "jupyter": {
     "outputs_hidden": false
    },
    "papermill": {
     "duration": 0.175759,
     "end_time": "2025-03-23T09:38:47.311612",
     "exception": false,
     "start_time": "2025-03-23T09:38:47.135853",
     "status": "completed"
    },
    "tags": []
   },
   "outputs": [],
   "source": [
    "def run_structured_pruning(num_epochs, batch_size, prune_ratio=0.3):\n",
    "    \n",
    "    model, pruner = get_model_with_pruning(classes=10, prune_ratio=prune_ratio)\n",
    "    model = model.to(device)\n",
    "    \n",
    "    print(\"\\nModel Summary after structured pruning:\")\n",
    "    print(summary(model, input_size=(batch_size, 3, 224, 224)))\n",
    "    print(\"\\nPruning Statistics:\")\n",
    "    pruner.print_pruning_history()\n",
    "    stats = pruner.get_pruned_stats()\n",
    "\n",
    "    model_size = sum(p.numel() * p.element_size() for p in model.parameters()) / (1024 * 1024)\n",
    "    flops = count_flops(model)\n",
    "\n",
    "    criterion = nn.CrossEntropyLoss()\n",
    "    optimizer = optim.SGD(model.parameters(), lr=0.001, momentum=0.9)\n",
    "    \n",
    "    train_losses, train_accs = [], []\n",
    "    val_losses, val_accs = [], []\n",
    "\n",
    "    early_stopping = EarlyStopping(patience=5, min_delta=0.001)\n",
    "\n",
    "    # Training loop\n",
    "    print(\"\\nStarting training structure pruned model...\")\n",
    "    epochs_performed = 0\n",
    "    for epoch in range(num_epochs):\n",
    "        print(f\"\\nEpoch {epoch + 1}/{num_epochs}\")\n",
    "\n",
    "        train_loss, train_acc = train_epoch(model, train_loader, criterion, optimizer, device)\n",
    "        train_losses.append(train_loss)\n",
    "        train_accs.append(train_acc)\n",
    "\n",
    "        eval_metrics = evaluate(model, val_loader, criterion, device)\n",
    "        val_losses.append(eval_metrics['loss'])\n",
    "        val_accs.append(eval_metrics['acc'])\n",
    "        epochs_performed = epochs_performed + 1\n",
    "        early_stopping(eval_metrics['loss'], model)\n",
    "        if early_stopping.early_stop:\n",
    "            print(\"Early stopping triggered\")\n",
    "            break\n",
    "            \n",
    "    model = early_stopping.best_model\n",
    "    scripted_model = torch.jit.script(model)\n",
    "    scripted_model.save(\"sp_cifar10.pt\")\n",
    "\n",
    "    print(\"\\nPerforming final evaluation for Structured cifar10...\")\n",
    "    gpu_metrics = evaluate(model, val_loader, criterion, device)\n",
    "    \n",
    "    result = print_and_get_metrics(\n",
    "        \"Structured Pruning - CIFAR-10\", epochs_performed,\n",
    "        gpu_metrics, model_size, flops, stats\n",
    "    )\n",
    "    gc.collect()\n",
    "    torch.cuda.empty_cache()\n",
    "    \n",
    "    return model, result, (train_losses, train_accs, val_losses, val_accs)"
   ]
  },
  {
   "cell_type": "code",
   "execution_count": 19,
   "id": "9361b182",
   "metadata": {
    "_cell_guid": "ab670f5b-3336-41d6-af14-b6238804c044",
    "_uuid": "72641d40-47f3-464d-8a6c-40b7c254f964",
    "collapsed": false,
    "execution": {
     "iopub.execute_input": "2025-03-23T09:38:47.687856Z",
     "iopub.status.busy": "2025-03-23T09:38:47.687569Z",
     "iopub.status.idle": "2025-03-23T10:12:23.884524Z",
     "shell.execute_reply": "2025-03-23T10:12:23.883287Z"
    },
    "jupyter": {
     "outputs_hidden": false
    },
    "papermill": {
     "duration": 2016.362756,
     "end_time": "2025-03-23T10:12:23.886029",
     "exception": false,
     "start_time": "2025-03-23T09:38:47.523273",
     "status": "completed"
    },
    "tags": []
   },
   "outputs": [
    {
     "name": "stdout",
     "output_type": "stream",
     "text": [
      "Original Model: 19.68 GFLOPs, 139.61 Million\n",
      "Found 16 convolutional layers and 0 batch norm layers.\n",
      "Adjusted FC layer input size to: 17591\n",
      "Pruned Model: 9.77 GFLOPs, 98.73 Million\n",
      "\n",
      "Model Summary after structured pruning:\n",
      "==========================================================================================\n",
      "Layer (type:depth-idx)                   Output Shape              Param #\n",
      "==========================================================================================\n",
      "VGG                                      [32, 10]                  --\n",
      "├─Sequential: 1-1                        [32, 359, 7, 7]           --\n",
      "│    └─Conv2d: 2-1                       [32, 45, 224, 224]        1,260\n",
      "│    └─ReLU: 2-2                         [32, 45, 224, 224]        --\n",
      "│    └─Conv2d: 2-3                       [32, 45, 224, 224]        18,270\n",
      "│    └─ReLU: 2-4                         [32, 45, 224, 224]        --\n",
      "│    └─MaxPool2d: 2-5                    [32, 45, 112, 112]        --\n",
      "│    └─Conv2d: 2-6                       [32, 90, 112, 112]        36,540\n",
      "│    └─ReLU: 2-7                         [32, 90, 112, 112]        --\n",
      "│    └─Conv2d: 2-8                       [32, 90, 112, 112]        72,990\n",
      "│    └─ReLU: 2-9                         [32, 90, 112, 112]        --\n",
      "│    └─MaxPool2d: 2-10                   [32, 90, 56, 56]          --\n",
      "│    └─Conv2d: 2-11                      [32, 180, 56, 56]         145,980\n",
      "│    └─ReLU: 2-12                        [32, 180, 56, 56]         --\n",
      "│    └─Conv2d: 2-13                      [32, 180, 56, 56]         291,780\n",
      "│    └─ReLU: 2-14                        [32, 180, 56, 56]         --\n",
      "│    └─Conv2d: 2-15                      [32, 180, 56, 56]         291,780\n",
      "│    └─ReLU: 2-16                        [32, 180, 56, 56]         --\n",
      "│    └─Conv2d: 2-17                      [32, 180, 56, 56]         291,780\n",
      "│    └─ReLU: 2-18                        [32, 180, 56, 56]         --\n",
      "│    └─MaxPool2d: 2-19                   [32, 180, 28, 28]         --\n",
      "│    └─Conv2d: 2-20                      [32, 359, 28, 28]         581,939\n",
      "│    └─ReLU: 2-21                        [32, 359, 28, 28]         --\n",
      "│    └─Conv2d: 2-22                      [32, 359, 28, 28]         1,160,288\n",
      "│    └─ReLU: 2-23                        [32, 359, 28, 28]         --\n",
      "│    └─Conv2d: 2-24                      [32, 359, 28, 28]         1,160,288\n",
      "│    └─ReLU: 2-25                        [32, 359, 28, 28]         --\n",
      "│    └─Conv2d: 2-26                      [32, 359, 28, 28]         1,160,288\n",
      "│    └─ReLU: 2-27                        [32, 359, 28, 28]         --\n",
      "│    └─MaxPool2d: 2-28                   [32, 359, 14, 14]         --\n",
      "│    └─Conv2d: 2-29                      [32, 359, 14, 14]         1,160,288\n",
      "│    └─ReLU: 2-30                        [32, 359, 14, 14]         --\n",
      "│    └─Conv2d: 2-31                      [32, 359, 14, 14]         1,160,288\n",
      "│    └─ReLU: 2-32                        [32, 359, 14, 14]         --\n",
      "│    └─Conv2d: 2-33                      [32, 359, 14, 14]         1,160,288\n",
      "│    └─ReLU: 2-34                        [32, 359, 14, 14]         --\n",
      "│    └─Conv2d: 2-35                      [32, 359, 14, 14]         1,160,288\n",
      "│    └─ReLU: 2-36                        [32, 359, 14, 14]         --\n",
      "│    └─MaxPool2d: 2-37                   [32, 359, 7, 7]           --\n",
      "├─AdaptiveAvgPool2d: 1-2                 [32, 359, 7, 7]           --\n",
      "├─Sequential: 1-3                        [32, 10]                  --\n",
      "│    └─Linear: 2-38                      [32, 4096]                72,056,832\n",
      "│    └─ReLU: 2-39                        [32, 4096]                --\n",
      "│    └─Dropout: 2-40                     [32, 4096]                --\n",
      "│    └─Linear: 2-41                      [32, 4096]                16,781,312\n",
      "│    └─ReLU: 2-42                        [32, 4096]                --\n",
      "│    └─Dropout: 2-43                     [32, 4096]                --\n",
      "│    └─Linear: 2-44                      [32, 10]                  40,970\n",
      "==========================================================================================\n",
      "Total params: 98,733,449\n",
      "Trainable params: 98,733,449\n",
      "Non-trainable params: 0\n",
      "Total mult-adds (G): 311.70\n",
      "==========================================================================================\n",
      "Input size (MB): 19.27\n",
      "Forward/backward pass size (MB): 2674.47\n",
      "Params size (MB): 394.93\n",
      "Estimated Total Size (MB): 3088.67\n",
      "==========================================================================================\n",
      "\n",
      "Pruning Statistics:\n",
      "Layer 0: Filters before = 64, Filters after = 45\n",
      "Layer 1: Filters before = 64, Filters after = 45\n",
      "Layer 2: Filters before = 128, Filters after = 90\n",
      "Layer 3: Filters before = 128, Filters after = 90\n",
      "Layer 4: Filters before = 256, Filters after = 180\n",
      "Layer 5: Filters before = 256, Filters after = 180\n",
      "Layer 6: Filters before = 256, Filters after = 180\n",
      "Layer 7: Filters before = 256, Filters after = 180\n",
      "Layer 8: Filters before = 512, Filters after = 359\n",
      "Layer 9: Filters before = 512, Filters after = 359\n",
      "Layer 10: Filters before = 512, Filters after = 359\n",
      "Layer 11: Filters before = 512, Filters after = 359\n",
      "Layer 12: Filters before = 512, Filters after = 359\n",
      "Layer 13: Filters before = 512, Filters after = 359\n",
      "Layer 14: Filters before = 512, Filters after = 359\n",
      "Layer 15: Filters before = 512, Filters after = 359\n",
      "\n",
      "Starting training structure pruned model...\n",
      "\n",
      "Epoch 1/45\n"
     ]
    },
    {
     "name": "stderr",
     "output_type": "stream",
     "text": [
      "Training: 100%|██████████| 157/157 [00:42<00:00,  3.68it/s, loss=0.070, acc=17.2%]\n"
     ]
    },
    {
     "name": "stdout",
     "output_type": "stream",
     "text": [
      "\n",
      "Epoch 2/45\n"
     ]
    },
    {
     "name": "stderr",
     "output_type": "stream",
     "text": [
      "Training: 100%|██████████| 157/157 [00:42<00:00,  3.68it/s, loss=0.059, acc=30.5%]\n"
     ]
    },
    {
     "name": "stdout",
     "output_type": "stream",
     "text": [
      "\n",
      "Epoch 3/45\n"
     ]
    },
    {
     "name": "stderr",
     "output_type": "stream",
     "text": [
      "Training: 100%|██████████| 157/157 [00:42<00:00,  3.68it/s, loss=0.053, acc=36.6%]\n"
     ]
    },
    {
     "name": "stdout",
     "output_type": "stream",
     "text": [
      "\n",
      "Epoch 4/45\n"
     ]
    },
    {
     "name": "stderr",
     "output_type": "stream",
     "text": [
      "Training: 100%|██████████| 157/157 [00:42<00:00,  3.68it/s, loss=0.051, acc=38.3%]\n"
     ]
    },
    {
     "name": "stdout",
     "output_type": "stream",
     "text": [
      "\n",
      "Epoch 5/45\n"
     ]
    },
    {
     "name": "stderr",
     "output_type": "stream",
     "text": [
      "Training: 100%|██████████| 157/157 [00:42<00:00,  3.69it/s, loss=0.048, acc=40.5%]\n"
     ]
    },
    {
     "name": "stdout",
     "output_type": "stream",
     "text": [
      "EarlyStopping counter: 1 out of 5\n",
      "\n",
      "Epoch 6/45\n"
     ]
    },
    {
     "name": "stderr",
     "output_type": "stream",
     "text": [
      "Training: 100%|██████████| 157/157 [00:42<00:00,  3.69it/s, loss=0.046, acc=44.0%]\n"
     ]
    },
    {
     "name": "stdout",
     "output_type": "stream",
     "text": [
      "\n",
      "Epoch 7/45\n"
     ]
    },
    {
     "name": "stderr",
     "output_type": "stream",
     "text": [
      "Training: 100%|██████████| 157/157 [00:42<00:00,  3.68it/s, loss=0.044, acc=47.9%]\n"
     ]
    },
    {
     "name": "stdout",
     "output_type": "stream",
     "text": [
      "\n",
      "Epoch 8/45\n"
     ]
    },
    {
     "name": "stderr",
     "output_type": "stream",
     "text": [
      "Training: 100%|██████████| 157/157 [00:42<00:00,  3.68it/s, loss=0.043, acc=50.0%]\n"
     ]
    },
    {
     "name": "stdout",
     "output_type": "stream",
     "text": [
      "EarlyStopping counter: 1 out of 5\n",
      "\n",
      "Epoch 9/45\n"
     ]
    },
    {
     "name": "stderr",
     "output_type": "stream",
     "text": [
      "Training: 100%|██████████| 157/157 [00:42<00:00,  3.68it/s, loss=0.041, acc=50.9%]\n"
     ]
    },
    {
     "name": "stdout",
     "output_type": "stream",
     "text": [
      "\n",
      "Epoch 10/45\n"
     ]
    },
    {
     "name": "stderr",
     "output_type": "stream",
     "text": [
      "Training: 100%|██████████| 157/157 [00:42<00:00,  3.68it/s, loss=0.040, acc=53.6%]\n"
     ]
    },
    {
     "name": "stdout",
     "output_type": "stream",
     "text": [
      "\n",
      "Epoch 11/45\n"
     ]
    },
    {
     "name": "stderr",
     "output_type": "stream",
     "text": [
      "Training: 100%|██████████| 157/157 [00:42<00:00,  3.69it/s, loss=0.038, acc=56.6%]\n"
     ]
    },
    {
     "name": "stdout",
     "output_type": "stream",
     "text": [
      "EarlyStopping counter: 1 out of 5\n",
      "\n",
      "Epoch 12/45\n"
     ]
    },
    {
     "name": "stderr",
     "output_type": "stream",
     "text": [
      "Training: 100%|██████████| 157/157 [00:42<00:00,  3.69it/s, loss=0.036, acc=57.7%]\n"
     ]
    },
    {
     "name": "stdout",
     "output_type": "stream",
     "text": [
      "\n",
      "Epoch 13/45\n"
     ]
    },
    {
     "name": "stderr",
     "output_type": "stream",
     "text": [
      "Training: 100%|██████████| 157/157 [00:42<00:00,  3.69it/s, loss=0.035, acc=60.0%]\n"
     ]
    },
    {
     "name": "stdout",
     "output_type": "stream",
     "text": [
      "\n",
      "Epoch 14/45\n"
     ]
    },
    {
     "name": "stderr",
     "output_type": "stream",
     "text": [
      "Training: 100%|██████████| 157/157 [00:42<00:00,  3.68it/s, loss=0.034, acc=60.7%]\n"
     ]
    },
    {
     "name": "stdout",
     "output_type": "stream",
     "text": [
      "\n",
      "Epoch 15/45\n"
     ]
    },
    {
     "name": "stderr",
     "output_type": "stream",
     "text": [
      "Training: 100%|██████████| 157/157 [00:42<00:00,  3.69it/s, loss=0.033, acc=62.1%]\n"
     ]
    },
    {
     "name": "stdout",
     "output_type": "stream",
     "text": [
      "EarlyStopping counter: 1 out of 5\n",
      "\n",
      "Epoch 16/45\n"
     ]
    },
    {
     "name": "stderr",
     "output_type": "stream",
     "text": [
      "Training: 100%|██████████| 157/157 [00:42<00:00,  3.68it/s, loss=0.033, acc=62.6%]\n"
     ]
    },
    {
     "name": "stdout",
     "output_type": "stream",
     "text": [
      "EarlyStopping counter: 2 out of 5\n",
      "\n",
      "Epoch 17/45\n"
     ]
    },
    {
     "name": "stderr",
     "output_type": "stream",
     "text": [
      "Training: 100%|██████████| 157/157 [00:42<00:00,  3.69it/s, loss=0.031, acc=64.4%]\n"
     ]
    },
    {
     "name": "stdout",
     "output_type": "stream",
     "text": [
      "\n",
      "Epoch 18/45\n"
     ]
    },
    {
     "name": "stderr",
     "output_type": "stream",
     "text": [
      "Training: 100%|██████████| 157/157 [00:42<00:00,  3.69it/s, loss=0.031, acc=64.3%]\n"
     ]
    },
    {
     "name": "stdout",
     "output_type": "stream",
     "text": [
      "\n",
      "Epoch 19/45\n"
     ]
    },
    {
     "name": "stderr",
     "output_type": "stream",
     "text": [
      "Training: 100%|██████████| 157/157 [00:42<00:00,  3.69it/s, loss=0.030, acc=64.8%]\n"
     ]
    },
    {
     "name": "stdout",
     "output_type": "stream",
     "text": [
      "EarlyStopping counter: 1 out of 5\n",
      "\n",
      "Epoch 20/45\n"
     ]
    },
    {
     "name": "stderr",
     "output_type": "stream",
     "text": [
      "Training: 100%|██████████| 157/157 [00:42<00:00,  3.69it/s, loss=0.029, acc=67.7%]\n"
     ]
    },
    {
     "name": "stdout",
     "output_type": "stream",
     "text": [
      "\n",
      "Epoch 21/45\n"
     ]
    },
    {
     "name": "stderr",
     "output_type": "stream",
     "text": [
      "Training: 100%|██████████| 157/157 [00:42<00:00,  3.69it/s, loss=0.028, acc=68.2%]\n"
     ]
    },
    {
     "name": "stdout",
     "output_type": "stream",
     "text": [
      "\n",
      "Epoch 22/45\n"
     ]
    },
    {
     "name": "stderr",
     "output_type": "stream",
     "text": [
      "Training: 100%|██████████| 157/157 [00:42<00:00,  3.68it/s, loss=0.027, acc=69.4%]\n"
     ]
    },
    {
     "name": "stdout",
     "output_type": "stream",
     "text": [
      "EarlyStopping counter: 1 out of 5\n",
      "\n",
      "Epoch 23/45\n"
     ]
    },
    {
     "name": "stderr",
     "output_type": "stream",
     "text": [
      "Training: 100%|██████████| 157/157 [00:42<00:00,  3.69it/s, loss=0.027, acc=68.7%]\n"
     ]
    },
    {
     "name": "stdout",
     "output_type": "stream",
     "text": [
      "\n",
      "Epoch 24/45\n"
     ]
    },
    {
     "name": "stderr",
     "output_type": "stream",
     "text": [
      "Training: 100%|██████████| 157/157 [00:42<00:00,  3.69it/s, loss=0.026, acc=70.6%]\n"
     ]
    },
    {
     "name": "stdout",
     "output_type": "stream",
     "text": [
      "\n",
      "Epoch 25/45\n"
     ]
    },
    {
     "name": "stderr",
     "output_type": "stream",
     "text": [
      "Training: 100%|██████████| 157/157 [00:42<00:00,  3.69it/s, loss=0.026, acc=70.4%]\n"
     ]
    },
    {
     "name": "stdout",
     "output_type": "stream",
     "text": [
      "\n",
      "Epoch 26/45\n"
     ]
    },
    {
     "name": "stderr",
     "output_type": "stream",
     "text": [
      "Training: 100%|██████████| 157/157 [00:42<00:00,  3.68it/s, loss=0.025, acc=71.7%]\n"
     ]
    },
    {
     "name": "stdout",
     "output_type": "stream",
     "text": [
      "\n",
      "Epoch 27/45\n"
     ]
    },
    {
     "name": "stderr",
     "output_type": "stream",
     "text": [
      "Training: 100%|██████████| 157/157 [00:42<00:00,  3.68it/s, loss=0.024, acc=71.8%]\n"
     ]
    },
    {
     "name": "stdout",
     "output_type": "stream",
     "text": [
      "\n",
      "Epoch 28/45\n"
     ]
    },
    {
     "name": "stderr",
     "output_type": "stream",
     "text": [
      "Training: 100%|██████████| 157/157 [00:42<00:00,  3.69it/s, loss=0.024, acc=72.8%]\n"
     ]
    },
    {
     "name": "stdout",
     "output_type": "stream",
     "text": [
      "EarlyStopping counter: 1 out of 5\n",
      "\n",
      "Epoch 29/45\n"
     ]
    },
    {
     "name": "stderr",
     "output_type": "stream",
     "text": [
      "Training: 100%|██████████| 157/157 [00:42<00:00,  3.68it/s, loss=0.024, acc=72.9%]\n"
     ]
    },
    {
     "name": "stdout",
     "output_type": "stream",
     "text": [
      "EarlyStopping counter: 2 out of 5\n",
      "\n",
      "Epoch 30/45\n"
     ]
    },
    {
     "name": "stderr",
     "output_type": "stream",
     "text": [
      "Training: 100%|██████████| 157/157 [00:42<00:00,  3.69it/s, loss=0.023, acc=73.9%]\n"
     ]
    },
    {
     "name": "stdout",
     "output_type": "stream",
     "text": [
      "EarlyStopping counter: 3 out of 5\n",
      "\n",
      "Epoch 31/45\n"
     ]
    },
    {
     "name": "stderr",
     "output_type": "stream",
     "text": [
      "Training: 100%|██████████| 157/157 [00:42<00:00,  3.68it/s, loss=0.023, acc=74.6%]\n"
     ]
    },
    {
     "name": "stdout",
     "output_type": "stream",
     "text": [
      "\n",
      "Epoch 32/45\n"
     ]
    },
    {
     "name": "stderr",
     "output_type": "stream",
     "text": [
      "Training: 100%|██████████| 157/157 [00:42<00:00,  3.69it/s, loss=0.023, acc=74.2%]\n"
     ]
    },
    {
     "name": "stdout",
     "output_type": "stream",
     "text": [
      "EarlyStopping counter: 1 out of 5\n",
      "\n",
      "Epoch 33/45\n"
     ]
    },
    {
     "name": "stderr",
     "output_type": "stream",
     "text": [
      "Training: 100%|██████████| 157/157 [00:42<00:00,  3.68it/s, loss=0.022, acc=75.8%]\n"
     ]
    },
    {
     "name": "stdout",
     "output_type": "stream",
     "text": [
      "EarlyStopping counter: 2 out of 5\n",
      "\n",
      "Epoch 34/45\n"
     ]
    },
    {
     "name": "stderr",
     "output_type": "stream",
     "text": [
      "Training: 100%|██████████| 157/157 [00:42<00:00,  3.69it/s, loss=0.021, acc=76.6%]\n"
     ]
    },
    {
     "name": "stdout",
     "output_type": "stream",
     "text": [
      "EarlyStopping counter: 3 out of 5\n",
      "\n",
      "Epoch 35/45\n"
     ]
    },
    {
     "name": "stderr",
     "output_type": "stream",
     "text": [
      "Training: 100%|██████████| 157/157 [00:42<00:00,  3.69it/s, loss=0.021, acc=77.4%]\n"
     ]
    },
    {
     "name": "stdout",
     "output_type": "stream",
     "text": [
      "EarlyStopping counter: 4 out of 5\n",
      "\n",
      "Epoch 36/45\n"
     ]
    },
    {
     "name": "stderr",
     "output_type": "stream",
     "text": [
      "Training: 100%|██████████| 157/157 [00:42<00:00,  3.68it/s, loss=0.020, acc=78.4%]\n"
     ]
    },
    {
     "name": "stdout",
     "output_type": "stream",
     "text": [
      "\n",
      "Epoch 37/45\n"
     ]
    },
    {
     "name": "stderr",
     "output_type": "stream",
     "text": [
      "Training: 100%|██████████| 157/157 [00:42<00:00,  3.69it/s, loss=0.020, acc=78.0%]\n"
     ]
    },
    {
     "name": "stdout",
     "output_type": "stream",
     "text": [
      "EarlyStopping counter: 1 out of 5\n",
      "\n",
      "Epoch 38/45\n"
     ]
    },
    {
     "name": "stderr",
     "output_type": "stream",
     "text": [
      "Training: 100%|██████████| 157/157 [00:42<00:00,  3.68it/s, loss=0.019, acc=78.8%]\n"
     ]
    },
    {
     "name": "stdout",
     "output_type": "stream",
     "text": [
      "\n",
      "Epoch 39/45\n"
     ]
    },
    {
     "name": "stderr",
     "output_type": "stream",
     "text": [
      "Training: 100%|██████████| 157/157 [00:42<00:00,  3.69it/s, loss=0.019, acc=79.0%]\n"
     ]
    },
    {
     "name": "stdout",
     "output_type": "stream",
     "text": [
      "\n",
      "Epoch 40/45\n"
     ]
    },
    {
     "name": "stderr",
     "output_type": "stream",
     "text": [
      "Training: 100%|██████████| 157/157 [00:42<00:00,  3.68it/s, loss=0.018, acc=79.6%]\n"
     ]
    },
    {
     "name": "stdout",
     "output_type": "stream",
     "text": [
      "EarlyStopping counter: 1 out of 5\n",
      "\n",
      "Epoch 41/45\n"
     ]
    },
    {
     "name": "stderr",
     "output_type": "stream",
     "text": [
      "Training: 100%|██████████| 157/157 [00:42<00:00,  3.68it/s, loss=0.018, acc=80.1%]\n"
     ]
    },
    {
     "name": "stdout",
     "output_type": "stream",
     "text": [
      "\n",
      "Epoch 42/45\n"
     ]
    },
    {
     "name": "stderr",
     "output_type": "stream",
     "text": [
      "Training: 100%|██████████| 157/157 [00:42<00:00,  3.68it/s, loss=0.017, acc=80.7%]\n"
     ]
    },
    {
     "name": "stdout",
     "output_type": "stream",
     "text": [
      "EarlyStopping counter: 1 out of 5\n",
      "\n",
      "Epoch 43/45\n"
     ]
    },
    {
     "name": "stderr",
     "output_type": "stream",
     "text": [
      "Training: 100%|██████████| 157/157 [00:42<00:00,  3.68it/s, loss=0.017, acc=81.5%]\n"
     ]
    },
    {
     "name": "stdout",
     "output_type": "stream",
     "text": [
      "EarlyStopping counter: 2 out of 5\n",
      "\n",
      "Epoch 44/45\n"
     ]
    },
    {
     "name": "stderr",
     "output_type": "stream",
     "text": [
      "Training: 100%|██████████| 157/157 [00:42<00:00,  3.68it/s, loss=0.017, acc=81.6%]\n"
     ]
    },
    {
     "name": "stdout",
     "output_type": "stream",
     "text": [
      "EarlyStopping counter: 3 out of 5\n",
      "\n",
      "Epoch 45/45\n"
     ]
    },
    {
     "name": "stderr",
     "output_type": "stream",
     "text": [
      "Training: 100%|██████████| 157/157 [00:42<00:00,  3.68it/s, loss=0.017, acc=81.6%]\n"
     ]
    },
    {
     "name": "stdout",
     "output_type": "stream",
     "text": [
      "EarlyStopping counter: 4 out of 5\n",
      "\n",
      "Performing final evaluation for Structured cifar10...\n",
      "\n",
      "Final Model Performance:\n",
      "Result of Structured Pruning - CIFAR-10:\n",
      "Total epochs: 45\n",
      "Model Size: 376.64 MB\n",
      "FLOPs: 0.20 GFLOPs\n",
      "Accuracy: 71.80%\n",
      "Top-1 Accuracy: 71.80%\n",
      "Top-5 Accuracy: 98.10%\n"
     ]
    }
   ],
   "source": [
    "sp_cifar10, sp_result, sp_metrics = run_structured_pruning(num_epochs + 15, batch_size)"
   ]
  },
  {
   "cell_type": "markdown",
   "id": "347849cf",
   "metadata": {
    "_cell_guid": "53da5796-ef38-4670-b6bf-e447548ad1aa",
    "_uuid": "ba2813e6-7760-45fd-a8a8-d789d92c3581",
    "collapsed": false,
    "jupyter": {
     "outputs_hidden": false
    },
    "papermill": {
     "duration": 0.8185,
     "end_time": "2025-03-23T10:12:25.572811",
     "exception": false,
     "start_time": "2025-03-23T10:12:24.754311",
     "status": "completed"
    },
    "tags": []
   },
   "source": [
    "## Unstructured Pruning"
   ]
  },
  {
   "cell_type": "code",
   "execution_count": 20,
   "id": "be3375d0",
   "metadata": {
    "_cell_guid": "aca01cee-7d9d-4850-bb8e-e8b6eb457680",
    "_uuid": "63dd68a0-24dd-4958-9bcc-58995d82776d",
    "collapsed": false,
    "execution": {
     "iopub.execute_input": "2025-03-23T10:12:27.301928Z",
     "iopub.status.busy": "2025-03-23T10:12:27.301598Z",
     "iopub.status.idle": "2025-03-23T10:12:27.305616Z",
     "shell.execute_reply": "2025-03-23T10:12:27.304686Z"
    },
    "jupyter": {
     "outputs_hidden": false
    },
    "papermill": {
     "duration": 0.871098,
     "end_time": "2025-03-23T10:12:27.306995",
     "exception": false,
     "start_time": "2025-03-23T10:12:26.435897",
     "status": "completed"
    },
    "tags": []
   },
   "outputs": [],
   "source": [
    "from torch.optim.lr_scheduler import ReduceLROnPlateau"
   ]
  },
  {
   "cell_type": "markdown",
   "id": "0c2f9bd5",
   "metadata": {
    "_cell_guid": "b3e11bac-08d3-4bdd-9a83-14fa06f9c219",
    "_uuid": "fb9fd3a7-bfd9-4045-90f1-35e06ae6b244",
    "collapsed": false,
    "jupyter": {
     "outputs_hidden": false
    },
    "papermill": {
     "duration": 0.872136,
     "end_time": "2025-03-23T10:12:28.979724",
     "exception": false,
     "start_time": "2025-03-23T10:12:28.107588",
     "status": "completed"
    },
    "tags": []
   },
   "source": [
    "### UnstructuredPruner Class for Neural Network Pruning\n",
    "\n",
    "The `UnstructuredPruner` class implements **unstructured pruning** for neural networks, which selectively removes individual weights based on their importance (typically by magnitude). This fine-grained pruning method allows for more flexible reduction of model parameters without altering the network's structure.\n",
    "\n",
    "**Key Features:**\n",
    "- **L1-Norm Unstructured Pruning:** Prunes weights with the smallest absolute values using **L1-norm** as the criterion, targeting less significant connections.\n",
    "- **Gradual Pruning:** Supports gradual pruning across multiple steps, incrementally increasing sparsity to reduce the risk of accuracy degradation.\n",
    "- **Sparsity Tracking:** Calculates and tracks the sparsity (percentage of zero weights) for each pruned layer, providing detailed pruning statistics.\n",
    "- **Permanent Pruning:** Removes the pruning reparametrization, making the weight removals permanent and reducing computational overhead.\n",
    "- **Pruning Summary Reporting:** Provides comprehensive statistics, including total parameters, remaining parameters, and overall sparsity.\n",
    "\n",
    "**Benefits of Unstructured Pruning:**\n",
    "- **Fine-Grained Control:** Allows selective pruning at the individual weight level, providing greater flexibility compared to structured pruning.\n",
    "- **Model Compression:** Reduces the number of active parameters, leading to smaller models and faster inference times.\n",
    "- **Performance Optimization:** Can improve model efficiency, especially on hardware that supports sparse matrix operations."
   ]
  },
  {
   "cell_type": "code",
   "execution_count": 21,
   "id": "8357aa00",
   "metadata": {
    "_cell_guid": "f2d05344-3dd9-4ac4-869f-66dd88ec9944",
    "_uuid": "2df184ac-3110-42bf-96ea-531e0edc55df",
    "collapsed": false,
    "execution": {
     "iopub.execute_input": "2025-03-23T10:12:30.732109Z",
     "iopub.status.busy": "2025-03-23T10:12:30.731814Z",
     "iopub.status.idle": "2025-03-23T10:12:30.741624Z",
     "shell.execute_reply": "2025-03-23T10:12:30.740978Z"
    },
    "jupyter": {
     "outputs_hidden": false
    },
    "papermill": {
     "duration": 0.901357,
     "end_time": "2025-03-23T10:12:30.742933",
     "exception": false,
     "start_time": "2025-03-23T10:12:29.841576",
     "status": "completed"
    },
    "tags": []
   },
   "outputs": [],
   "source": [
    "class UnstructuredPruner:\n",
    "    def __init__(self, model):\n",
    "        self.model = model\n",
    "        self.pruning_stats = {}\n",
    "    \n",
    "    def calculate_sparsity(self, module):\n",
    "        total_params = module.weight.nelement()\n",
    "        zero_params = torch.sum(module.weight == 0).item()\n",
    "        return (zero_params / total_params) * 100\n",
    "    \n",
    "    def apply_gradual_pruning(self, initial_amount=0.1, final_amount=0.3, steps=3):\n",
    "        step_amount = (final_amount - initial_amount) / steps\n",
    "        current_amount = initial_amount\n",
    "        \n",
    "        for step in range(steps):\n",
    "            print(f\"\\nApplying pruning step {step + 1}/{steps} (amount: {current_amount:.2f})\")\n",
    "            for name, module in self.model.named_modules():\n",
    "                if isinstance(module, (nn.Conv2d, nn.Linear)):\n",
    "                    prune.l1_unstructured(module, name='weight', amount=current_amount)\n",
    "            current_amount += step_amount\n",
    "            self.update_pruning_stats()\n",
    "    \n",
    "    def update_pruning_stats(self):\n",
    "        for name, module in self.model.named_modules():\n",
    "            if isinstance(module, (nn.Conv2d, nn.Linear)):\n",
    "                self.pruning_stats[name] = {\n",
    "                    'sparsity': self.calculate_sparsity(module),\n",
    "                    'total_params': module.weight.nelement(),\n",
    "                    'remaining_params': torch.sum(module.weight != 0).item()\n",
    "                }\n",
    "    \n",
    "    def make_permanent(self):\n",
    "        \"\"\"Remove pruning reparametrization and make pruning permanent\"\"\"\n",
    "        for module in self.model.modules():\n",
    "            if isinstance(module, (nn.Conv2d, nn.Linear)):\n",
    "                prune.remove(module, 'weight')\n",
    "    \n",
    "    def get_pruning_summary(self):\n",
    "        total_params = 0\n",
    "        remaining_params = 0\n",
    "        \n",
    "        for stats in self.pruning_stats.values():\n",
    "            total_params += stats['total_params']\n",
    "            remaining_params += stats['remaining_params']\n",
    "        \n",
    "        return {\n",
    "            'total_params': total_params,\n",
    "            'remaining_params': remaining_params,\n",
    "            'overall_sparsity': ((total_params - remaining_params) / total_params) * 100,\n",
    "            'layer_stats': self.pruning_stats\n",
    "        }\n",
    "        \n",
    "    def print_stats(self):\n",
    "        pruning_summary = self.get_pruning_summary()\n",
    "        print(f\"Total parameters: {pruning_summary['total_params']:,}\")\n",
    "        print(f\"Remaining parameters: {pruning_summary['remaining_params']:,}\")\n",
    "        pr = f\"{((pruning_summary['total_params'] - pruning_summary['remaining_params']) / pruning_summary['total_params'] * 100):.2f}%\"\n",
    "        print(f\"Parameters Reduction: {pr}\")\n",
    "        print(f\"Overall sparsity: {pruning_summary['overall_sparsity']:.2f}%\")\n",
    "        \n",
    "        for feature, stats in self.pruning_stats.items():\n",
    "            print(feature , f\": Total params: {stats['total_params']},  Remaining params: {stats['remaining_params']}, Sparsity: {stats['sparsity']}\")\n",
    "        \n",
    "        return {\n",
    "            'parameter_reduction': pr,\n",
    "            'overall_sparsity': f\"{pruning_summary['overall_sparsity']:.2f}%\"\n",
    "        }"
   ]
  },
  {
   "cell_type": "markdown",
   "id": "2853f6b7",
   "metadata": {
    "_cell_guid": "f88e612f-8e9a-4cdb-a6bc-9b3000e05344",
    "_uuid": "9c4bf437-09a0-41c3-9e56-47a685580792",
    "collapsed": false,
    "jupyter": {
     "outputs_hidden": false
    },
    "papermill": {
     "duration": 0.858371,
     "end_time": "2025-03-23T10:12:32.406593",
     "exception": false,
     "start_time": "2025-03-23T10:12:31.548222",
     "status": "completed"
    },
    "tags": []
   },
   "source": [
    "### VGG19 Model with Unstructured Pruning\n",
    "\n",
    "This function initializes a **VGG19** model with pretrained weights, modifies the final classification layer, and applies **unstructured pruning** to reduce model complexity. Unstructured pruning removes individual weights with the least importance, leading to a sparse model that maintains accuracy while reducing the number of active parameters.\n",
    "\n",
    "**Key Features:**\n",
    "- **Pretrained VGG19 Backbone:** Loads a VGG19 model pre-trained on ImageNet and modifies the final classification layer for the specified number of classes.\n",
    "- **Unstructured Pruning:** Applies gradual unstructured pruning using the `UnstructuredPruner` class, removing individual weights based on their L1-norm.\n",
    "- **Gradual Pruning Steps:** Prunes the model incrementally across multiple steps, reducing the risk of sudden performance degradation.\n",
    "- **Permanent Pruning:** Removes the pruning reparametrization, making the weight removals permanent and optimizing inference performance.\n",
    "\n",
    "**Benefits of Unstructured Pruning:**\n",
    "- **Fine-Grained Compression:** Provides flexible parameter reduction without altering the architecture of the network.\n",
    "- **Inference Efficiency:** Reduces the number of computations, which can speed up inference on hardware that supports sparse matrix operations.\n",
    "- **Energy and Memory Savings:** Reduces the computational load and memory footprint of the model, making it ideal for deployment on resource-constrained devices."
   ]
  },
  {
   "cell_type": "code",
   "execution_count": 22,
   "id": "82b0f192",
   "metadata": {
    "_cell_guid": "e2de60ad-f622-4c42-8eee-2cd17f50dfdf",
    "_uuid": "99d4c9d3-30ac-43e0-8b5c-8b3233243aba",
    "collapsed": false,
    "execution": {
     "iopub.execute_input": "2025-03-23T10:12:34.074526Z",
     "iopub.status.busy": "2025-03-23T10:12:34.074201Z",
     "iopub.status.idle": "2025-03-23T10:12:34.078699Z",
     "shell.execute_reply": "2025-03-23T10:12:34.077874Z"
    },
    "jupyter": {
     "outputs_hidden": false
    },
    "papermill": {
     "duration": 0.811132,
     "end_time": "2025-03-23T10:12:34.079975",
     "exception": false,
     "start_time": "2025-03-23T10:12:33.268843",
     "status": "completed"
    },
    "tags": []
   },
   "outputs": [],
   "source": [
    "def get_model_with_unstructured_pruning(classes=10, prune_amount=0.3):\n",
    "    # Initialize model with pretrained weights\n",
    "    model = get_model(classes)\n",
    "    \n",
    "    # Initialize the new classifier layer properly\n",
    "    nn.init.kaiming_normal_(model.classifier[6].weight)\n",
    "    nn.init.constant_(model.classifier[6].bias, 0)\n",
    "    \n",
    "    # Apply gradual pruning\n",
    "    pruner = UnstructuredPruner(model)\n",
    "    pruner.apply_gradual_pruning(initial_amount=0.1, final_amount=prune_amount, steps=3)\n",
    "    pruner.make_permanent()\n",
    "    \n",
    "    return model, pruner"
   ]
  },
  {
   "cell_type": "code",
   "execution_count": 23,
   "id": "aa42c645",
   "metadata": {
    "_cell_guid": "1f394b59-5c06-4b6b-ad3e-716d1e187443",
    "_uuid": "5d8bf1f7-1b62-4555-9165-dc62b4edc1a8",
    "collapsed": false,
    "execution": {
     "iopub.execute_input": "2025-03-23T10:12:35.782440Z",
     "iopub.status.busy": "2025-03-23T10:12:35.782137Z",
     "iopub.status.idle": "2025-03-23T10:12:35.789393Z",
     "shell.execute_reply": "2025-03-23T10:12:35.788716Z"
    },
    "jupyter": {
     "outputs_hidden": false
    },
    "papermill": {
     "duration": 0.860929,
     "end_time": "2025-03-23T10:12:35.790655",
     "exception": false,
     "start_time": "2025-03-23T10:12:34.929726",
     "status": "completed"
    },
    "tags": []
   },
   "outputs": [],
   "source": [
    "def run_unstructured_pruning(num_epochs, batch_size):    \n",
    "    model, pruner = get_model_with_unstructured_pruning()\n",
    "    model = model.to(device)\n",
    "\n",
    "    model_size = sum(p.numel() * p.element_size() for p in model.parameters()) / (1024 * 1024)\n",
    "    flops = count_flops(model)\n",
    "\n",
    "    criterion = nn.CrossEntropyLoss()\n",
    "    optimizer = optim.SGD(model.parameters(), lr=0.001, momentum=0.9)\n",
    "\n",
    "    scheduler = ReduceLROnPlateau(optimizer, mode='min', factor=0.1, patience=2, verbose=True)\n",
    "    \n",
    "    print(\"\\nPruning Statistics:\")\n",
    "    pruning_summary = pruner.print_stats()\n",
    "\n",
    "    train_losses, train_accs = [], []\n",
    "    val_losses, val_accs = [], []\n",
    "\n",
    "    early_stopping = EarlyStopping(patience=5, min_delta=0.001)\n",
    "\n",
    "    # Training loop\n",
    "    print(\"\\nStarting training unstructure pruned model...\")\n",
    "    epochs_performed = 0\n",
    "    for epoch in range(num_epochs):\n",
    "        print(f\"\\nEpoch {epoch + 1}/{num_epochs}\")\n",
    "\n",
    "        train_loss, train_acc = train_epoch(model, train_loader, criterion, optimizer, device)\n",
    "        train_losses.append(train_loss)\n",
    "        train_accs.append(train_acc)\n",
    "\n",
    "        eval_metrics = evaluate(model, val_loader, criterion, device)\n",
    "        val_losses.append(eval_metrics['loss'])\n",
    "        val_accs.append(eval_metrics['acc'])\n",
    "\n",
    "        # Learning rate scheduling\n",
    "        scheduler.step(eval_metrics['loss'])\n",
    "        epochs_performed = epochs_performed + 1\n",
    "        # Early stopping logic\n",
    "        early_stopping(eval_metrics['loss'], model)\n",
    "        if early_stopping.early_stop:\n",
    "            print(\"Early stopping triggered\")\n",
    "            break\n",
    "\n",
    "    \n",
    "    model = early_stopping.best_model\n",
    "    scripted_model = torch.jit.script(model)\n",
    "    scripted_model.save(\"usp_cifar10.pt\")\n",
    "\n",
    "    print(\"\\nPerforming final evaluation for Unstructured cifar10...\")\n",
    "    gpu_metrics = evaluate(model, val_loader, criterion, device)\n",
    "\n",
    "    result = print_and_get_metrics(\n",
    "        \"Unstructured Pruning - CIFAR-10\",\n",
    "        epochs_performed, gpu_metrics, model_size, flops,\n",
    "    )\n",
    "\n",
    "    gc.collect()\n",
    "    torch.cuda.empty_cache()\n",
    "    return model, result, (train_losses, train_accs, val_losses, val_accs)"
   ]
  },
  {
   "cell_type": "code",
   "execution_count": 24,
   "id": "868ab439",
   "metadata": {
    "_cell_guid": "bd24c9a1-97ed-4c25-aa2a-04d41c8d4046",
    "_uuid": "af20da24-9e8a-4208-b43c-ef83f362693d",
    "collapsed": false,
    "execution": {
     "iopub.execute_input": "2025-03-23T10:12:37.444336Z",
     "iopub.status.busy": "2025-03-23T10:12:37.444014Z",
     "iopub.status.idle": "2025-03-23T10:29:18.104499Z",
     "shell.execute_reply": "2025-03-23T10:29:18.103557Z"
    },
    "jupyter": {
     "outputs_hidden": false
    },
    "papermill": {
     "duration": 1001.462165,
     "end_time": "2025-03-23T10:29:18.105936",
     "exception": false,
     "start_time": "2025-03-23T10:12:36.643771",
     "status": "completed"
    },
    "tags": []
   },
   "outputs": [
    {
     "name": "stdout",
     "output_type": "stream",
     "text": [
      "\n",
      "Applying pruning step 1/3 (amount: 0.10)\n",
      "\n",
      "Applying pruning step 2/3 (amount: 0.17)\n",
      "\n",
      "Applying pruning step 3/3 (amount: 0.23)\n"
     ]
    },
    {
     "name": "stderr",
     "output_type": "stream",
     "text": [
      "/usr/local/lib/python3.10/dist-packages/torch/optim/lr_scheduler.py:62: UserWarning: The verbose parameter is deprecated. Please use get_last_lr() to access the learning rate.\n",
      "  warnings.warn(\n"
     ]
    },
    {
     "name": "stdout",
     "output_type": "stream",
     "text": [
      "\n",
      "Pruning Statistics:\n",
      "Total parameters: 139,597,504\n",
      "Remaining parameters: 80,268,565\n",
      "Parameters Reduction: 42.50%\n",
      "Overall sparsity: 42.50%\n",
      "features.0 : Total params: 1728,  Remaining params: 994, Sparsity: 42.476851851851855\n",
      "features.2 : Total params: 36864,  Remaining params: 21197, Sparsity: 42.49945746527778\n",
      "features.5 : Total params: 73728,  Remaining params: 42394, Sparsity: 42.49945746527778\n",
      "features.7 : Total params: 147456,  Remaining params: 84787, Sparsity: 42.50013563368056\n",
      "features.10 : Total params: 294912,  Remaining params: 169574, Sparsity: 42.50013563368056\n",
      "features.12 : Total params: 589824,  Remaining params: 339149, Sparsity: 42.49996609157986\n",
      "features.14 : Total params: 589824,  Remaining params: 339149, Sparsity: 42.49996609157986\n",
      "features.16 : Total params: 589824,  Remaining params: 339149, Sparsity: 42.49996609157986\n",
      "features.19 : Total params: 1179648,  Remaining params: 678298, Sparsity: 42.49996609157986\n",
      "features.21 : Total params: 2359296,  Remaining params: 1356595, Sparsity: 42.500008477105034\n",
      "features.23 : Total params: 2359296,  Remaining params: 1356595, Sparsity: 42.500008477105034\n",
      "features.25 : Total params: 2359296,  Remaining params: 1356595, Sparsity: 42.500008477105034\n",
      "features.28 : Total params: 2359296,  Remaining params: 1356595, Sparsity: 42.500008477105034\n",
      "features.30 : Total params: 2359296,  Remaining params: 1356595, Sparsity: 42.500008477105034\n",
      "features.32 : Total params: 2359296,  Remaining params: 1356595, Sparsity: 42.500008477105034\n",
      "features.34 : Total params: 2359296,  Remaining params: 1356595, Sparsity: 42.500008477105034\n",
      "classifier.0 : Total params: 102760448,  Remaining params: 59087258, Sparsity: 42.49999961074518\n",
      "classifier.3 : Total params: 16777216,  Remaining params: 9646899, Sparsity: 42.500001192092896\n",
      "classifier.6 : Total params: 40960,  Remaining params: 23552, Sparsity: 42.5\n",
      "\n",
      "Starting training unstructure pruned model...\n",
      "\n",
      "Epoch 1/30\n"
     ]
    },
    {
     "name": "stderr",
     "output_type": "stream",
     "text": [
      "Training: 100%|██████████| 157/157 [00:44<00:00,  3.51it/s, loss=0.070, acc=21.0%]\n"
     ]
    },
    {
     "name": "stdout",
     "output_type": "stream",
     "text": [
      "\n",
      "Epoch 2/30\n"
     ]
    },
    {
     "name": "stderr",
     "output_type": "stream",
     "text": [
      "Training: 100%|██████████| 157/157 [00:44<00:00,  3.50it/s, loss=0.050, acc=42.1%]\n"
     ]
    },
    {
     "name": "stdout",
     "output_type": "stream",
     "text": [
      "\n",
      "Epoch 3/30\n"
     ]
    },
    {
     "name": "stderr",
     "output_type": "stream",
     "text": [
      "Training: 100%|██████████| 157/157 [00:44<00:00,  3.50it/s, loss=0.038, acc=55.7%]\n"
     ]
    },
    {
     "name": "stdout",
     "output_type": "stream",
     "text": [
      "\n",
      "Epoch 4/30\n"
     ]
    },
    {
     "name": "stderr",
     "output_type": "stream",
     "text": [
      "Training: 100%|██████████| 157/157 [00:44<00:00,  3.50it/s, loss=0.031, acc=64.7%]\n"
     ]
    },
    {
     "name": "stdout",
     "output_type": "stream",
     "text": [
      "\n",
      "Epoch 5/30\n"
     ]
    },
    {
     "name": "stderr",
     "output_type": "stream",
     "text": [
      "Training: 100%|██████████| 157/157 [00:44<00:00,  3.50it/s, loss=0.026, acc=69.9%]\n"
     ]
    },
    {
     "name": "stdout",
     "output_type": "stream",
     "text": [
      "\n",
      "Epoch 6/30\n"
     ]
    },
    {
     "name": "stderr",
     "output_type": "stream",
     "text": [
      "Training: 100%|██████████| 157/157 [00:44<00:00,  3.50it/s, loss=0.023, acc=74.6%]\n"
     ]
    },
    {
     "name": "stdout",
     "output_type": "stream",
     "text": [
      "\n",
      "Epoch 7/30\n"
     ]
    },
    {
     "name": "stderr",
     "output_type": "stream",
     "text": [
      "Training: 100%|██████████| 157/157 [00:44<00:00,  3.50it/s, loss=0.019, acc=79.4%]\n"
     ]
    },
    {
     "name": "stdout",
     "output_type": "stream",
     "text": [
      "\n",
      "Epoch 8/30\n"
     ]
    },
    {
     "name": "stderr",
     "output_type": "stream",
     "text": [
      "Training: 100%|██████████| 157/157 [00:44<00:00,  3.50it/s, loss=0.017, acc=80.8%]\n"
     ]
    },
    {
     "name": "stdout",
     "output_type": "stream",
     "text": [
      "\n",
      "Epoch 9/30\n"
     ]
    },
    {
     "name": "stderr",
     "output_type": "stream",
     "text": [
      "Training: 100%|██████████| 157/157 [00:44<00:00,  3.50it/s, loss=0.015, acc=83.4%]\n"
     ]
    },
    {
     "name": "stdout",
     "output_type": "stream",
     "text": [
      "\n",
      "Epoch 10/30\n"
     ]
    },
    {
     "name": "stderr",
     "output_type": "stream",
     "text": [
      "Training: 100%|██████████| 157/157 [00:44<00:00,  3.50it/s, loss=0.014, acc=84.6%]\n"
     ]
    },
    {
     "name": "stdout",
     "output_type": "stream",
     "text": [
      "\n",
      "Epoch 11/30\n"
     ]
    },
    {
     "name": "stderr",
     "output_type": "stream",
     "text": [
      "Training: 100%|██████████| 157/157 [00:44<00:00,  3.50it/s, loss=0.013, acc=85.8%]\n"
     ]
    },
    {
     "name": "stdout",
     "output_type": "stream",
     "text": [
      "\n",
      "Epoch 12/30\n"
     ]
    },
    {
     "name": "stderr",
     "output_type": "stream",
     "text": [
      "Training: 100%|██████████| 157/157 [00:44<00:00,  3.51it/s, loss=0.011, acc=87.2%]\n"
     ]
    },
    {
     "name": "stdout",
     "output_type": "stream",
     "text": [
      "\n",
      "Epoch 13/30\n"
     ]
    },
    {
     "name": "stderr",
     "output_type": "stream",
     "text": [
      "Training: 100%|██████████| 157/157 [00:44<00:00,  3.50it/s, loss=0.010, acc=88.6%]\n"
     ]
    },
    {
     "name": "stdout",
     "output_type": "stream",
     "text": [
      "EarlyStopping counter: 1 out of 5\n",
      "\n",
      "Epoch 14/30\n"
     ]
    },
    {
     "name": "stderr",
     "output_type": "stream",
     "text": [
      "Training: 100%|██████████| 157/157 [00:44<00:00,  3.51it/s, loss=0.009, acc=89.8%]\n"
     ]
    },
    {
     "name": "stdout",
     "output_type": "stream",
     "text": [
      "\n",
      "Epoch 15/30\n"
     ]
    },
    {
     "name": "stderr",
     "output_type": "stream",
     "text": [
      "Training: 100%|██████████| 157/157 [00:44<00:00,  3.50it/s, loss=0.008, acc=90.6%]\n"
     ]
    },
    {
     "name": "stdout",
     "output_type": "stream",
     "text": [
      "\n",
      "Epoch 16/30\n"
     ]
    },
    {
     "name": "stderr",
     "output_type": "stream",
     "text": [
      "Training: 100%|██████████| 157/157 [00:44<00:00,  3.51it/s, loss=0.007, acc=92.1%]\n"
     ]
    },
    {
     "name": "stdout",
     "output_type": "stream",
     "text": [
      "EarlyStopping counter: 1 out of 5\n",
      "\n",
      "Epoch 17/30\n"
     ]
    },
    {
     "name": "stderr",
     "output_type": "stream",
     "text": [
      "Training: 100%|██████████| 157/157 [00:44<00:00,  3.50it/s, loss=0.007, acc=92.8%]\n"
     ]
    },
    {
     "name": "stdout",
     "output_type": "stream",
     "text": [
      "EarlyStopping counter: 2 out of 5\n",
      "\n",
      "Epoch 18/30\n"
     ]
    },
    {
     "name": "stderr",
     "output_type": "stream",
     "text": [
      "Training: 100%|██████████| 157/157 [00:44<00:00,  3.50it/s, loss=0.006, acc=93.7%]\n"
     ]
    },
    {
     "name": "stdout",
     "output_type": "stream",
     "text": [
      "EarlyStopping counter: 3 out of 5\n",
      "\n",
      "Epoch 19/30\n"
     ]
    },
    {
     "name": "stderr",
     "output_type": "stream",
     "text": [
      "Training: 100%|██████████| 157/157 [00:44<00:00,  3.50it/s, loss=0.005, acc=94.7%]\n"
     ]
    },
    {
     "name": "stdout",
     "output_type": "stream",
     "text": [
      "EarlyStopping counter: 4 out of 5\n",
      "\n",
      "Epoch 20/30\n"
     ]
    },
    {
     "name": "stderr",
     "output_type": "stream",
     "text": [
      "Training: 100%|██████████| 157/157 [00:44<00:00,  3.50it/s, loss=0.005, acc=94.6%]\n"
     ]
    },
    {
     "name": "stdout",
     "output_type": "stream",
     "text": [
      "EarlyStopping counter: 5 out of 5\n",
      "Early stopping triggered\n",
      "\n",
      "Performing final evaluation for Unstructured cifar10...\n",
      "\n",
      "Final Model Performance:\n",
      "Result of Unstructured Pruning - CIFAR-10:\n",
      "Total epochs: 20\n",
      "Model Size: 532.57 MB\n",
      "FLOPs: 0.28 GFLOPs\n",
      "Accuracy: 86.50%\n",
      "Top-1 Accuracy: 86.50%\n",
      "Top-5 Accuracy: 99.70%\n"
     ]
    }
   ],
   "source": [
    "usp_cifar10, usp_result, usp_metrics = run_unstructured_pruning(num_epochs, batch_size)"
   ]
  },
  {
   "cell_type": "code",
   "execution_count": 25,
   "id": "c43318b6",
   "metadata": {
    "_cell_guid": "82179eed-bab8-481b-8e12-e093dd220b5c",
    "_uuid": "357f1dc6-eeef-4e57-ad5f-3e73819ef2f2",
    "execution": {
     "iopub.execute_input": "2025-03-23T10:29:20.491327Z",
     "iopub.status.busy": "2025-03-23T10:29:20.491021Z",
     "iopub.status.idle": "2025-03-23T10:29:20.502609Z",
     "shell.execute_reply": "2025-03-23T10:29:20.501965Z"
    },
    "jupyter": {
     "source_hidden": true
    },
    "papermill": {
     "duration": 1.223503,
     "end_time": "2025-03-23T10:29:20.503833",
     "exception": false,
     "start_time": "2025-03-23T10:29:19.280330",
     "status": "completed"
    },
    "tags": []
   },
   "outputs": [],
   "source": [
    "def comparison_diagram_extended(baseline_model, pruned_model, layer_name, pruning_type):\n",
    "    baseline_weights = dict(baseline_model.named_parameters())[layer_name].detach().cpu().numpy().flatten()\n",
    "    pruned_weights   = dict(pruned_model.named_parameters())[layer_name].detach().cpu().numpy().flatten()\n",
    "    \n",
    "    # Compute L2 norm.\n",
    "    l2_baseline = np.linalg.norm(baseline_weights)\n",
    "    l2_pruned   = np.linalg.norm(pruned_weights)\n",
    "    \n",
    "    # Compute L1 norm.\n",
    "    l1_baseline = np.sum(np.abs(baseline_weights))\n",
    "    l1_pruned   = np.sum(np.abs(pruned_weights))\n",
    "    \n",
    "    # Parameter count.\n",
    "    param_count_baseline = baseline_weights.size\n",
    "    param_count_pruned   = pruned_weights.size\n",
    "    \n",
    "    # Create a 1x4 figure.\n",
    "    fig, axs = plt.subplots(1, 4, figsize=(22, 5))\n",
    "    \n",
    "    # Panel 1: Weight Distribution Histogram.\n",
    "    axs[0].hist(baseline_weights, bins=30, alpha=0.6, label='Baseline', color='blue')\n",
    "    axs[0].hist(pruned_weights, bins=30, alpha=0.6, label='Pruned', color='green')\n",
    "    axs[0].set_title('Weight Distribution')\n",
    "    axs[0].set_xlabel('Weight values')\n",
    "    axs[0].set_ylabel('Frequency')\n",
    "    axs[0].legend()\n",
    "    \n",
    "    # Panel 2: L2 Norm Comparison.\n",
    "    axs[1].bar(['Baseline', 'Pruned'], [l2_baseline, l2_pruned], color=['blue', 'green'])\n",
    "    axs[1].set_title('L2 Norm')\n",
    "    axs[1].set_ylabel('L2 Norm')\n",
    "    \n",
    "    # Panel 3: L1 Norm Comparison.\n",
    "    axs[2].bar(['Baseline', 'Pruned'], [l1_baseline, l1_pruned], color=['blue', 'green'])\n",
    "    axs[2].set_title('L1 Norm')\n",
    "    axs[2].set_ylabel('L1 Norm')\n",
    "    \n",
    "    # Panel 4: Parameter Count Comparison.\n",
    "    axs[3].bar(['Baseline', 'Pruned'], [param_count_baseline, param_count_pruned], color=['blue', 'green'])\n",
    "    axs[3].set_title('Parameter Count')\n",
    "    axs[3].set_ylabel('Count')\n",
    "    \n",
    "    plt.suptitle(f'Layer Comparison of {pruning_type} : {layer_name}', fontsize=16)\n",
    "    plt.tight_layout(rect=[0, 0, 1, 0.95])\n",
    "    plt.show()\n",
    "\n",
    "def find_max_improved_layer(baseline_model, pruned_model, pruning_type):\n",
    "    max_composite = -np.inf\n",
    "    max_layer = None\n",
    "    for name, param in baseline_model.named_parameters():\n",
    "        if 'weight' not in name:\n",
    "            continue\n",
    "        try:\n",
    "            base_w = param.detach().cpu().numpy().flatten()\n",
    "            pruned_w = dict(pruned_model.named_parameters())[name].detach().cpu().numpy().flatten()\n",
    "        except KeyError:\n",
    "            continue\n",
    "        \n",
    "        # Compute metrics.\n",
    "        l2_base = np.linalg.norm(base_w)\n",
    "        l2_prun = np.linalg.norm(pruned_w)\n",
    "        l1_base = np.sum(np.abs(base_w))\n",
    "        l1_prun = np.sum(np.abs(pruned_w))\n",
    "        count_base = base_w.size\n",
    "        count_prun = pruned_w.size\n",
    "        \n",
    "        # Avoid division by zero.\n",
    "        if l2_base == 0 or l1_base == 0:\n",
    "            continue\n",
    "        \n",
    "        l2_improve = (l2_base - l2_prun) / l2_base\n",
    "        l1_improve = (l1_base - l1_prun) / l1_base\n",
    "        \n",
    "        if pruning_type == \"structured\":\n",
    "            if count_base == 0:\n",
    "                continue\n",
    "            param_improve = (count_base - count_prun) / count_base\n",
    "            composite = (l2_improve + l1_improve + param_improve) / 3.0\n",
    "        else:\n",
    "            composite = (l2_improve + l1_improve) / 2.0\n",
    "        \n",
    "        if composite > max_composite:\n",
    "            max_composite = composite\n",
    "            max_layer = name\n",
    "    \n",
    "    return max_layer, max_composite\n",
    "\n",
    "def comparison_diagram_max_improved_layer(baseline_model, pruned_model, pruning_type):\n",
    "    max_layer, composite = find_max_improved_layer(baseline_model, pruned_model, pruning_type)\n",
    "    if max_layer is None:\n",
    "        print(\"No layer found with improvement.\")\n",
    "    else:\n",
    "        print(f\"Maximum improved layer: {max_layer}\\nComposite Improvement: {composite:.3f}\")\n",
    "        comparison_diagram_extended(baseline_model, pruned_model, max_layer, pruning_type)"
   ]
  },
  {
   "cell_type": "markdown",
   "id": "3c838ff2",
   "metadata": {
    "_cell_guid": "0e7f6537-1841-45bc-8064-173052289f9b",
    "_uuid": "324dfd27-a144-4db3-98a0-98530676c464",
    "collapsed": false,
    "jupyter": {
     "outputs_hidden": false
    },
    "papermill": {
     "duration": 1.157175,
     "end_time": "2025-03-23T10:29:22.818280",
     "exception": false,
     "start_time": "2025-03-23T10:29:21.661105",
     "status": "completed"
    },
    "tags": []
   },
   "source": [
    "# Qunatization"
   ]
  },
  {
   "cell_type": "code",
   "execution_count": 26,
   "id": "68ca17f6",
   "metadata": {
    "_cell_guid": "4ee34fec-1432-40fe-a386-d310fd5f05ad",
    "_uuid": "e20279ba-09ab-4181-bca5-70601528e42c",
    "collapsed": false,
    "execution": {
     "iopub.execute_input": "2025-03-23T10:29:25.078878Z",
     "iopub.status.busy": "2025-03-23T10:29:25.078315Z",
     "iopub.status.idle": "2025-03-23T10:29:25.082661Z",
     "shell.execute_reply": "2025-03-23T10:29:25.081829Z"
    },
    "jupyter": {
     "outputs_hidden": false
    },
    "papermill": {
     "duration": 1.107713,
     "end_time": "2025-03-23T10:29:25.083883",
     "exception": false,
     "start_time": "2025-03-23T10:29:23.976170",
     "status": "completed"
    },
    "tags": []
   },
   "outputs": [],
   "source": [
    "from torch.quantization import QuantStub, DeQuantStub, prepare_qat, convert\n",
    "from torch.ao.quantization.qconfig import QConfig\n",
    "from torch.ao.quantization.observer import MinMaxObserver\n",
    "from torch.ao.quantization.fake_quantize import FakeQuantize"
   ]
  },
  {
   "cell_type": "code",
   "execution_count": 27,
   "id": "07c96575",
   "metadata": {
    "_cell_guid": "66b3c196-1658-4b0b-a5c7-97a9115259d8",
    "_uuid": "b42c171b-6154-4dfe-b67d-20b158203567",
    "collapsed": false,
    "execution": {
     "iopub.execute_input": "2025-03-23T10:29:27.382024Z",
     "iopub.status.busy": "2025-03-23T10:29:27.381731Z",
     "iopub.status.idle": "2025-03-23T10:29:27.388203Z",
     "shell.execute_reply": "2025-03-23T10:29:27.387580Z"
    },
    "jupyter": {
     "outputs_hidden": false
    },
    "papermill": {
     "duration": 1.15469,
     "end_time": "2025-03-23T10:29:27.389399",
     "exception": false,
     "start_time": "2025-03-23T10:29:26.234709",
     "status": "completed"
    },
    "tags": []
   },
   "outputs": [],
   "source": [
    "class QuantizedVGG19(nn.Module):\n",
    "    def __init__(self, num_classes=10):\n",
    "        super(QuantizedVGG19, self).__init__()\n",
    "\n",
    "        vgg19 = get_model(num_classes)\n",
    "\n",
    "        # Get features and classifier\n",
    "        self.features = vgg19.features\n",
    "        self.avgpool = vgg19.avgpool\n",
    "        self.classifier = vgg19.classifier\n",
    "\n",
    "        # Modify last layer\n",
    "        self.classifier[6] = nn.Linear(4096, num_classes)\n",
    "\n",
    "        # Quantization stubs\n",
    "        self.quant = QuantStub()\n",
    "        self.dequant = DeQuantStub()\n",
    "\n",
    "        # Initialize the new classifier layer\n",
    "        nn.init.kaiming_normal_(self.classifier[6].weight)\n",
    "        nn.init.constant_(self.classifier[6].bias, 0)\n",
    "\n",
    "    def forward(self, x):\n",
    "        # Quantize input\n",
    "        x = self.quant(x)\n",
    "\n",
    "        # Forward pass\n",
    "        x = self.features(x)\n",
    "        x = self.avgpool(x)\n",
    "        x = torch.flatten(x, 1)\n",
    "        x = self.classifier(x)\n",
    "\n",
    "        # Dequantize output\n",
    "        x = self.dequant(x)\n",
    "        return x\n",
    "\n",
    "    def fuse_model(self):\n",
    "        \"\"\"\n",
    "        Fuse Conv+ReLU layers in VGG19.features. Skip invalid pairs like ReLU+MaxPool.\n",
    "        \"\"\"\n",
    "        fuse_list = []\n",
    "        for i in range(len(self.features) - 1):\n",
    "            if isinstance(self.features[i], nn.Conv2d) and isinstance(self.features[i + 1], nn.ReLU):\n",
    "                fuse_list.append([str(i), str(i + 1)])\n",
    "    \n",
    "        torch.quantization.fuse_modules(self.features, fuse_list, inplace=True)"
   ]
  },
  {
   "cell_type": "markdown",
   "id": "5de13890",
   "metadata": {
    "_cell_guid": "85732690-95f9-4104-9c58-d3ff9b778819",
    "_uuid": "ad75efa5-6c9f-434f-947f-6b2a2c97fe04",
    "collapsed": false,
    "jupyter": {
     "outputs_hidden": false
    },
    "papermill": {
     "duration": 1.174791,
     "end_time": "2025-03-23T10:29:29.778071",
     "exception": false,
     "start_time": "2025-03-23T10:29:28.603280",
     "status": "completed"
    },
    "tags": []
   },
   "source": [
    "## 8 bit Quantization"
   ]
  },
  {
   "cell_type": "code",
   "execution_count": 28,
   "id": "ae1283ea",
   "metadata": {
    "_cell_guid": "9c21eb01-d432-4a07-8259-d9bd12699b23",
    "_uuid": "1216f7fb-b0cc-467a-b7c5-aff4e1726ec5",
    "collapsed": false,
    "execution": {
     "iopub.execute_input": "2025-03-23T10:29:32.129010Z",
     "iopub.status.busy": "2025-03-23T10:29:32.128713Z",
     "iopub.status.idle": "2025-03-23T10:29:32.133826Z",
     "shell.execute_reply": "2025-03-23T10:29:32.133180Z"
    },
    "jupyter": {
     "outputs_hidden": false
    },
    "papermill": {
     "duration": 1.163475,
     "end_time": "2025-03-23T10:29:32.135022",
     "exception": false,
     "start_time": "2025-03-23T10:29:30.971547",
     "status": "completed"
    },
    "tags": []
   },
   "outputs": [],
   "source": [
    "def prepare_model_for_quantization(model, device='cpu', bit=8):\n",
    "    model.train()\n",
    "    \n",
    "    if device == 'cpu':\n",
    "        backend = 'fbgemm'  # for x86 CPU\n",
    "    else:\n",
    "        backend = 'qnnpack'  # for ARM CPU\n",
    "\n",
    "    if bit == 4:\n",
    "        model.qconfig = QConfig(\n",
    "            activation=FakeQuantize.with_args(\n",
    "                observer=MinMaxObserver,\n",
    "                quant_min=0, quant_max=15,  # 4-bit range\n",
    "                dtype=torch.quint8,\n",
    "                qscheme=torch.per_tensor_affine\n",
    "            ),\n",
    "            weight=FakeQuantize.with_args(\n",
    "                observer=MinMaxObserver,\n",
    "                quant_min=-8, quant_max=7,  # 4-bit signed range (-8 to 7)\n",
    "                dtype=torch.qint8,\n",
    "                qscheme=torch.per_tensor_affine\n",
    "            )\n",
    "        )\n",
    "    if bit == 8:\n",
    "        model.qconfig = torch.quantization.get_default_qat_qconfig(backend)\n",
    "\n",
    "    model.fuse_model()\n",
    "\n",
    "    torch.quantization.prepare_qat(model, inplace=True)\n",
    "\n",
    "    model.to(device)\n",
    "\n",
    "    return model"
   ]
  },
  {
   "cell_type": "code",
   "execution_count": 29,
   "id": "7b6f442f",
   "metadata": {
    "_cell_guid": "055362f0-32fb-4919-b1e3-1d46448aa1a7",
    "_uuid": "453d7fb6-7689-4d48-a1e2-2c7f3db0363c",
    "collapsed": false,
    "execution": {
     "iopub.execute_input": "2025-03-23T10:29:34.426773Z",
     "iopub.status.busy": "2025-03-23T10:29:34.426474Z",
     "iopub.status.idle": "2025-03-23T10:29:34.435111Z",
     "shell.execute_reply": "2025-03-23T10:29:34.434483Z"
    },
    "jupyter": {
     "outputs_hidden": false
    },
    "papermill": {
     "duration": 1.154527,
     "end_time": "2025-03-23T10:29:34.436288",
     "exception": false,
     "start_time": "2025-03-23T10:29:33.281761",
     "status": "completed"
    },
    "tags": []
   },
   "outputs": [],
   "source": [
    "def run_8bit_quantization(num_epochs, batch_size):\n",
    "    \n",
    "    model = QuantizedVGG19(num_classes=10)\n",
    "    original_size = get_model_file_size(model)\n",
    "    model = prepare_model_for_quantization(model, device='cpu', bit=8)\n",
    "\n",
    "    print(\"\\nModel Summary:\")\n",
    "    print(summary(model, input_size=(batch_size, 3, 224, 224)))\n",
    "    flops = count_flops(model)\n",
    "    \n",
    "    criterion = nn.CrossEntropyLoss()\n",
    "    optimizer = optim.SGD(model.parameters(), lr=0.001,  momentum=0.9)\n",
    "\n",
    "    train_losses, train_accs = [], []\n",
    "    val_losses, val_accs = [], []\n",
    "\n",
    "    early_stopping = EarlyStopping(patience=5, min_delta=0.001)\n",
    "    \n",
    "    print(\"\\nStarting training with 8 bit quantized model...\")\n",
    "    epochs_performed = 0\n",
    "    for epoch in range(num_epochs):\n",
    "        print(f\"\\nEpoch {epoch + 1}/{num_epochs}\")\n",
    "        # Training phase\n",
    "        train_loss, train_acc = train_epoch(model, train_loader, criterion, optimizer, device)\n",
    "        train_losses.append(train_loss)\n",
    "        train_accs.append(train_acc)\n",
    "\n",
    "        # Validation phase\n",
    "        eval_metrics = evaluate(model, val_loader, criterion, device)\n",
    "        val_losses.append(eval_metrics['loss'])\n",
    "        val_accs.append(eval_metrics['acc'])\n",
    "        epochs_performed = epochs_performed + 1\n",
    "        \n",
    "        # Early stopping logic\n",
    "        early_stopping(eval_metrics['loss'], model)\n",
    "        if early_stopping.early_stop:\n",
    "            print(\"Early stopping triggered\")\n",
    "            break\n",
    "            model = early_stopping.best_model\n",
    "    print(\"\\nConverting to quantized model...\")\n",
    "    quantized_model = torch.quantization.convert(model.eval().cpu(), inplace=False)\n",
    "    scripted_model = torch.jit.script(quantized_model)\n",
    "    scripted_model.save(\"qat_8bit_cifar10.pt\")\n",
    "    \n",
    "    quantized_size = get_model_file_size(quantized_model)\n",
    "    \n",
    "    cpu_metrics = evaluate(quantized_model, val_loader, criterion, 'cpu')\n",
    "    \n",
    "    size_reduction = f\"{(original_size - quantized_size) / original_size * 100:.2f}%\"\n",
    "    \n",
    "    result = print_and_get_metrics(\n",
    "        \"Quantization 8bit - CIFAR-10\", \n",
    "        epochs_performed, cpu_metrics, quantized_size, flops,\n",
    "        size_reduction=size_reduction\n",
    "    )\n",
    "    \n",
    "    return quantized_model, result, (train_losses, train_accs, val_losses, val_accs)"
   ]
  },
  {
   "cell_type": "code",
   "execution_count": 30,
   "id": "813f63a3",
   "metadata": {
    "_cell_guid": "22571632-aef4-409f-b733-7953341de68f",
    "_uuid": "2fa09de8-d5c2-4510-b21f-3849cbfb9c99",
    "collapsed": false,
    "execution": {
     "iopub.execute_input": "2025-03-23T10:29:36.728039Z",
     "iopub.status.busy": "2025-03-23T10:29:36.727751Z",
     "iopub.status.idle": "2025-03-23T10:47:52.512581Z",
     "shell.execute_reply": "2025-03-23T10:47:52.511481Z"
    },
    "jupyter": {
     "outputs_hidden": false
    },
    "papermill": {
     "duration": 1098.359911,
     "end_time": "2025-03-23T10:47:53.933974",
     "exception": false,
     "start_time": "2025-03-23T10:29:35.574063",
     "status": "completed"
    },
    "tags": []
   },
   "outputs": [
    {
     "name": "stderr",
     "output_type": "stream",
     "text": [
      "/usr/local/lib/python3.10/dist-packages/torch/ao/quantization/observer.py:229: UserWarning: Please use quant_min and quant_max to specify the range for observers.                     reduce_range will be deprecated in a future release of PyTorch.\n",
      "  warnings.warn(\n"
     ]
    },
    {
     "name": "stdout",
     "output_type": "stream",
     "text": [
      "\n",
      "Model Summary:\n",
      "=========================================================================================================\n",
      "Layer (type:depth-idx)                                  Output Shape              Param #\n",
      "=========================================================================================================\n",
      "QuantizedVGG19                                          [32, 10]                  --\n",
      "├─QuantStub: 1-1                                        [32, 3, 224, 224]         --\n",
      "│    └─FusedMovingAvgObsFakeQuantize: 2-1               [32, 3, 224, 224]         --\n",
      "├─Sequential: 1-2                                       [32, 512, 7, 7]           --\n",
      "│    └─ConvReLU2d: 2-2                                  [32, 64, 224, 224]        1,792\n",
      "│    │    └─FusedMovingAvgObsFakeQuantize: 3-1          [64, 3, 3, 3]             --\n",
      "│    │    └─FusedMovingAvgObsFakeQuantize: 3-2          [32, 64, 224, 224]        --\n",
      "│    └─Identity: 2-3                                    [32, 64, 224, 224]        --\n",
      "│    └─ConvReLU2d: 2-4                                  [32, 64, 224, 224]        36,928\n",
      "│    │    └─FusedMovingAvgObsFakeQuantize: 3-3          [64, 64, 3, 3]            --\n",
      "│    │    └─FusedMovingAvgObsFakeQuantize: 3-4          [32, 64, 224, 224]        --\n",
      "│    └─Identity: 2-5                                    [32, 64, 224, 224]        --\n",
      "│    └─MaxPool2d: 2-6                                   [32, 64, 112, 112]        --\n",
      "│    └─ConvReLU2d: 2-7                                  [32, 128, 112, 112]       73,856\n",
      "│    │    └─FusedMovingAvgObsFakeQuantize: 3-5          [128, 64, 3, 3]           --\n",
      "│    │    └─FusedMovingAvgObsFakeQuantize: 3-6          [32, 128, 112, 112]       --\n",
      "│    └─Identity: 2-8                                    [32, 128, 112, 112]       --\n",
      "│    └─ConvReLU2d: 2-9                                  [32, 128, 112, 112]       147,584\n",
      "│    │    └─FusedMovingAvgObsFakeQuantize: 3-7          [128, 128, 3, 3]          --\n",
      "│    │    └─FusedMovingAvgObsFakeQuantize: 3-8          [32, 128, 112, 112]       --\n",
      "│    └─Identity: 2-10                                   [32, 128, 112, 112]       --\n",
      "│    └─MaxPool2d: 2-11                                  [32, 128, 56, 56]         --\n",
      "│    └─ConvReLU2d: 2-12                                 [32, 256, 56, 56]         295,168\n",
      "│    │    └─FusedMovingAvgObsFakeQuantize: 3-9          [256, 128, 3, 3]          --\n",
      "│    │    └─FusedMovingAvgObsFakeQuantize: 3-10         [32, 256, 56, 56]         --\n",
      "│    └─Identity: 2-13                                   [32, 256, 56, 56]         --\n",
      "│    └─ConvReLU2d: 2-14                                 [32, 256, 56, 56]         590,080\n",
      "│    │    └─FusedMovingAvgObsFakeQuantize: 3-11         [256, 256, 3, 3]          --\n",
      "│    │    └─FusedMovingAvgObsFakeQuantize: 3-12         [32, 256, 56, 56]         --\n",
      "│    └─Identity: 2-15                                   [32, 256, 56, 56]         --\n",
      "│    └─ConvReLU2d: 2-16                                 [32, 256, 56, 56]         590,080\n",
      "│    │    └─FusedMovingAvgObsFakeQuantize: 3-13         [256, 256, 3, 3]          --\n",
      "│    │    └─FusedMovingAvgObsFakeQuantize: 3-14         [32, 256, 56, 56]         --\n",
      "│    └─Identity: 2-17                                   [32, 256, 56, 56]         --\n",
      "│    └─ConvReLU2d: 2-18                                 [32, 256, 56, 56]         590,080\n",
      "│    │    └─FusedMovingAvgObsFakeQuantize: 3-15         [256, 256, 3, 3]          --\n",
      "│    │    └─FusedMovingAvgObsFakeQuantize: 3-16         [32, 256, 56, 56]         --\n",
      "│    └─Identity: 2-19                                   [32, 256, 56, 56]         --\n",
      "│    └─MaxPool2d: 2-20                                  [32, 256, 28, 28]         --\n",
      "│    └─ConvReLU2d: 2-21                                 [32, 512, 28, 28]         1,180,160\n",
      "│    │    └─FusedMovingAvgObsFakeQuantize: 3-17         [512, 256, 3, 3]          --\n",
      "│    │    └─FusedMovingAvgObsFakeQuantize: 3-18         [32, 512, 28, 28]         --\n",
      "│    └─Identity: 2-22                                   [32, 512, 28, 28]         --\n",
      "│    └─ConvReLU2d: 2-23                                 [32, 512, 28, 28]         2,359,808\n",
      "│    │    └─FusedMovingAvgObsFakeQuantize: 3-19         [512, 512, 3, 3]          --\n",
      "│    │    └─FusedMovingAvgObsFakeQuantize: 3-20         [32, 512, 28, 28]         --\n",
      "│    └─Identity: 2-24                                   [32, 512, 28, 28]         --\n",
      "│    └─ConvReLU2d: 2-25                                 [32, 512, 28, 28]         2,359,808\n",
      "│    │    └─FusedMovingAvgObsFakeQuantize: 3-21         [512, 512, 3, 3]          --\n",
      "│    │    └─FusedMovingAvgObsFakeQuantize: 3-22         [32, 512, 28, 28]         --\n",
      "│    └─Identity: 2-26                                   [32, 512, 28, 28]         --\n",
      "│    └─ConvReLU2d: 2-27                                 [32, 512, 28, 28]         2,359,808\n",
      "│    │    └─FusedMovingAvgObsFakeQuantize: 3-23         [512, 512, 3, 3]          --\n",
      "│    │    └─FusedMovingAvgObsFakeQuantize: 3-24         [32, 512, 28, 28]         --\n",
      "│    └─Identity: 2-28                                   [32, 512, 28, 28]         --\n",
      "│    └─MaxPool2d: 2-29                                  [32, 512, 14, 14]         --\n",
      "│    └─ConvReLU2d: 2-30                                 [32, 512, 14, 14]         2,359,808\n",
      "│    │    └─FusedMovingAvgObsFakeQuantize: 3-25         [512, 512, 3, 3]          --\n",
      "│    │    └─FusedMovingAvgObsFakeQuantize: 3-26         [32, 512, 14, 14]         --\n",
      "│    └─Identity: 2-31                                   [32, 512, 14, 14]         --\n",
      "│    └─ConvReLU2d: 2-32                                 [32, 512, 14, 14]         2,359,808\n",
      "│    │    └─FusedMovingAvgObsFakeQuantize: 3-27         [512, 512, 3, 3]          --\n",
      "│    │    └─FusedMovingAvgObsFakeQuantize: 3-28         [32, 512, 14, 14]         --\n",
      "│    └─Identity: 2-33                                   [32, 512, 14, 14]         --\n",
      "│    └─ConvReLU2d: 2-34                                 [32, 512, 14, 14]         2,359,808\n",
      "│    │    └─FusedMovingAvgObsFakeQuantize: 3-29         [512, 512, 3, 3]          --\n",
      "│    │    └─FusedMovingAvgObsFakeQuantize: 3-30         [32, 512, 14, 14]         --\n",
      "│    └─Identity: 2-35                                   [32, 512, 14, 14]         --\n",
      "│    └─ConvReLU2d: 2-36                                 [32, 512, 14, 14]         2,359,808\n",
      "│    │    └─FusedMovingAvgObsFakeQuantize: 3-31         [512, 512, 3, 3]          --\n",
      "│    │    └─FusedMovingAvgObsFakeQuantize: 3-32         [32, 512, 14, 14]         --\n",
      "│    └─Identity: 2-37                                   [32, 512, 14, 14]         --\n",
      "│    └─MaxPool2d: 2-38                                  [32, 512, 7, 7]           --\n",
      "├─AdaptiveAvgPool2d: 1-3                                [32, 512, 7, 7]           --\n",
      "├─Sequential: 1-4                                       [32, 10]                  --\n",
      "│    └─Linear: 2-39                                     [32, 4096]                102,764,544\n",
      "│    │    └─FusedMovingAvgObsFakeQuantize: 3-33         [4096, 25088]             --\n",
      "│    │    └─FusedMovingAvgObsFakeQuantize: 3-34         [32, 4096]                --\n",
      "│    └─ReLU: 2-40                                       [32, 4096]                --\n",
      "│    └─Dropout: 2-41                                    [32, 4096]                --\n",
      "│    └─Linear: 2-42                                     [32, 4096]                16,781,312\n",
      "│    │    └─FusedMovingAvgObsFakeQuantize: 3-35         [4096, 4096]              --\n",
      "│    │    └─FusedMovingAvgObsFakeQuantize: 3-36         [32, 4096]                --\n",
      "│    └─ReLU: 2-43                                       [32, 4096]                --\n",
      "│    └─Dropout: 2-44                                    [32, 4096]                --\n",
      "│    └─Linear: 2-45                                     [32, 10]                  40,970\n",
      "│    │    └─FusedMovingAvgObsFakeQuantize: 3-37         [10, 4096]                --\n",
      "│    │    └─FusedMovingAvgObsFakeQuantize: 3-38         [32, 10]                  --\n",
      "├─DeQuantStub: 1-5                                      [32, 10]                  --\n",
      "=========================================================================================================\n",
      "Total params: 139,611,210\n",
      "Trainable params: 139,611,210\n",
      "Non-trainable params: 0\n",
      "Total mult-adds (M): 0\n",
      "=========================================================================================================\n",
      "Input size (MB): 19.27\n",
      "Forward/backward pass size (MB): 0.00\n",
      "Params size (MB): 0.00\n",
      "Estimated Total Size (MB): 19.27\n",
      "=========================================================================================================\n",
      "\n",
      "Starting training with 8 bit quantized model...\n",
      "\n",
      "Epoch 1/30\n"
     ]
    },
    {
     "name": "stderr",
     "output_type": "stream",
     "text": [
      "Training: 100%|██████████| 157/157 [00:51<00:00,  3.02it/s, loss=0.072, acc=18.5%]\n"
     ]
    },
    {
     "name": "stdout",
     "output_type": "stream",
     "text": [
      "\n",
      "Epoch 2/30\n"
     ]
    },
    {
     "name": "stderr",
     "output_type": "stream",
     "text": [
      "Training: 100%|██████████| 157/157 [00:51<00:00,  3.02it/s, loss=0.047, acc=47.0%]\n"
     ]
    },
    {
     "name": "stdout",
     "output_type": "stream",
     "text": [
      "\n",
      "Epoch 3/30\n"
     ]
    },
    {
     "name": "stderr",
     "output_type": "stream",
     "text": [
      "Training: 100%|██████████| 157/157 [00:51<00:00,  3.02it/s, loss=0.031, acc=64.4%]\n"
     ]
    },
    {
     "name": "stdout",
     "output_type": "stream",
     "text": [
      "\n",
      "Epoch 4/30\n"
     ]
    },
    {
     "name": "stderr",
     "output_type": "stream",
     "text": [
      "Training: 100%|██████████| 157/157 [00:51<00:00,  3.02it/s, loss=0.024, acc=72.8%]\n"
     ]
    },
    {
     "name": "stdout",
     "output_type": "stream",
     "text": [
      "\n",
      "Epoch 5/30\n"
     ]
    },
    {
     "name": "stderr",
     "output_type": "stream",
     "text": [
      "Training: 100%|██████████| 157/157 [00:51<00:00,  3.02it/s, loss=0.020, acc=77.2%]\n"
     ]
    },
    {
     "name": "stdout",
     "output_type": "stream",
     "text": [
      "\n",
      "Epoch 6/30\n"
     ]
    },
    {
     "name": "stderr",
     "output_type": "stream",
     "text": [
      "Training: 100%|██████████| 157/157 [00:52<00:00,  3.02it/s, loss=0.018, acc=80.2%]\n"
     ]
    },
    {
     "name": "stdout",
     "output_type": "stream",
     "text": [
      "\n",
      "Epoch 7/30\n"
     ]
    },
    {
     "name": "stderr",
     "output_type": "stream",
     "text": [
      "Training: 100%|██████████| 157/157 [00:51<00:00,  3.02it/s, loss=0.015, acc=83.3%]\n"
     ]
    },
    {
     "name": "stdout",
     "output_type": "stream",
     "text": [
      "\n",
      "Epoch 8/30\n"
     ]
    },
    {
     "name": "stderr",
     "output_type": "stream",
     "text": [
      "Training: 100%|██████████| 157/157 [00:51<00:00,  3.02it/s, loss=0.013, acc=85.4%]\n"
     ]
    },
    {
     "name": "stdout",
     "output_type": "stream",
     "text": [
      "\n",
      "Epoch 9/30\n"
     ]
    },
    {
     "name": "stderr",
     "output_type": "stream",
     "text": [
      "Training: 100%|██████████| 157/157 [00:51<00:00,  3.02it/s, loss=0.012, acc=86.3%]\n"
     ]
    },
    {
     "name": "stdout",
     "output_type": "stream",
     "text": [
      "EarlyStopping counter: 1 out of 5\n",
      "\n",
      "Epoch 10/30\n"
     ]
    },
    {
     "name": "stderr",
     "output_type": "stream",
     "text": [
      "Training: 100%|██████████| 157/157 [00:51<00:00,  3.02it/s, loss=0.011, acc=88.3%]\n"
     ]
    },
    {
     "name": "stdout",
     "output_type": "stream",
     "text": [
      "\n",
      "Epoch 11/30\n"
     ]
    },
    {
     "name": "stderr",
     "output_type": "stream",
     "text": [
      "Training: 100%|██████████| 157/157 [00:51<00:00,  3.02it/s, loss=0.010, acc=89.3%]\n"
     ]
    },
    {
     "name": "stdout",
     "output_type": "stream",
     "text": [
      "\n",
      "Epoch 12/30\n"
     ]
    },
    {
     "name": "stderr",
     "output_type": "stream",
     "text": [
      "Training: 100%|██████████| 157/157 [00:51<00:00,  3.02it/s, loss=0.008, acc=90.6%]\n"
     ]
    },
    {
     "name": "stdout",
     "output_type": "stream",
     "text": [
      "\n",
      "Epoch 13/30\n"
     ]
    },
    {
     "name": "stderr",
     "output_type": "stream",
     "text": [
      "Training: 100%|██████████| 157/157 [00:51<00:00,  3.02it/s, loss=0.008, acc=91.4%]\n"
     ]
    },
    {
     "name": "stdout",
     "output_type": "stream",
     "text": [
      "EarlyStopping counter: 1 out of 5\n",
      "\n",
      "Epoch 14/30\n"
     ]
    },
    {
     "name": "stderr",
     "output_type": "stream",
     "text": [
      "Training: 100%|██████████| 157/157 [00:51<00:00,  3.02it/s, loss=0.007, acc=92.2%]\n"
     ]
    },
    {
     "name": "stdout",
     "output_type": "stream",
     "text": [
      "EarlyStopping counter: 2 out of 5\n",
      "\n",
      "Epoch 15/30\n"
     ]
    },
    {
     "name": "stderr",
     "output_type": "stream",
     "text": [
      "Training: 100%|██████████| 157/157 [00:51<00:00,  3.02it/s, loss=0.006, acc=93.5%]\n"
     ]
    },
    {
     "name": "stdout",
     "output_type": "stream",
     "text": [
      "EarlyStopping counter: 3 out of 5\n",
      "\n",
      "Epoch 16/30\n"
     ]
    },
    {
     "name": "stderr",
     "output_type": "stream",
     "text": [
      "Training: 100%|██████████| 157/157 [00:51<00:00,  3.02it/s, loss=0.005, acc=93.8%]\n"
     ]
    },
    {
     "name": "stdout",
     "output_type": "stream",
     "text": [
      "EarlyStopping counter: 4 out of 5\n",
      "\n",
      "Epoch 17/30\n"
     ]
    },
    {
     "name": "stderr",
     "output_type": "stream",
     "text": [
      "Training: 100%|██████████| 157/157 [00:51<00:00,  3.03it/s, loss=0.004, acc=94.5%]\n"
     ]
    },
    {
     "name": "stdout",
     "output_type": "stream",
     "text": [
      "EarlyStopping counter: 5 out of 5\n",
      "Early stopping triggered\n",
      "\n",
      "Converting to quantized model...\n",
      "\n",
      "Final Model Performance:\n",
      "Result of Quantization 8bit - CIFAR-10:\n",
      "Total epochs: 17\n",
      "Model Size: 133.42 MB\n",
      "FLOPs: 0.28 GFLOPs\n",
      "Accuracy: 85.70%\n",
      "Top-1 Accuracy: 85.70%\n",
      "Top-5 Accuracy: 99.60%\n"
     ]
    }
   ],
   "source": [
    "qat_8bit_cifar10, qat_8bit_result, qat_8bit_metrics = run_8bit_quantization(num_epochs, batch_size)"
   ]
  },
  {
   "cell_type": "markdown",
   "id": "c962ce58",
   "metadata": {
    "_cell_guid": "186e6bf4-5450-4bc7-8593-afadb259f2e1",
    "_uuid": "5d762acc-a7f6-4666-9518-4fd8041356de",
    "collapsed": false,
    "jupyter": {
     "outputs_hidden": false
    },
    "papermill": {
     "duration": 1.503185,
     "end_time": "2025-03-23T10:47:56.782407",
     "exception": false,
     "start_time": "2025-03-23T10:47:55.279222",
     "status": "completed"
    },
    "tags": []
   },
   "source": [
    "## 4bit Quantization"
   ]
  },
  {
   "cell_type": "code",
   "execution_count": 31,
   "id": "7f26a922",
   "metadata": {
    "_cell_guid": "c758c7b5-997d-48b8-aebc-c889390f06c6",
    "_uuid": "a2af43db-b5a0-4770-9c13-0ed09cff1feb",
    "collapsed": false,
    "execution": {
     "iopub.execute_input": "2025-03-23T10:47:59.627545Z",
     "iopub.status.busy": "2025-03-23T10:47:59.627193Z",
     "iopub.status.idle": "2025-03-23T10:47:59.631159Z",
     "shell.execute_reply": "2025-03-23T10:47:59.630346Z"
    },
    "jupyter": {
     "outputs_hidden": false
    },
    "papermill": {
     "duration": 1.494151,
     "end_time": "2025-03-23T10:47:59.632609",
     "exception": false,
     "start_time": "2025-03-23T10:47:58.138458",
     "status": "completed"
    },
    "tags": []
   },
   "outputs": [],
   "source": [
    "from torch.optim.lr_scheduler import CosineAnnealingLR\n",
    "from torch.quantization import QuantStub, DeQuantStub, prepare_qat, convert"
   ]
  },
  {
   "cell_type": "code",
   "execution_count": 32,
   "id": "78b4397d",
   "metadata": {
    "_cell_guid": "319b7790-00a4-4dea-9427-7584d0cfa9af",
    "_uuid": "983f81a4-38a7-4c80-a112-cad0c90437f5",
    "collapsed": false,
    "execution": {
     "iopub.execute_input": "2025-03-23T10:48:02.436328Z",
     "iopub.status.busy": "2025-03-23T10:48:02.436043Z",
     "iopub.status.idle": "2025-03-23T10:48:02.445471Z",
     "shell.execute_reply": "2025-03-23T10:48:02.444787Z"
    },
    "jupyter": {
     "outputs_hidden": false
    },
    "papermill": {
     "duration": 1.362716,
     "end_time": "2025-03-23T10:48:02.446667",
     "exception": false,
     "start_time": "2025-03-23T10:48:01.083951",
     "status": "completed"
    },
    "tags": []
   },
   "outputs": [],
   "source": [
    "def run_4bit_quantization(num_epochs, batch_size):\n",
    "    model = QuantizedVGG19(num_classes=10).to(device)\n",
    "    \n",
    "    criterion = nn.CrossEntropyLoss()\n",
    "    optimizer = optim.SGD(model.parameters(), lr=0.01, momentum=0.9,weight_decay=5e-4)\n",
    "    \n",
    "    for epoch in range(5):\n",
    "        print(f\"[Warm-up Epoch {epoch + 1}/5]\")\n",
    "        train_epoch(model, train_loader, criterion, optimizer, device)\n",
    "        eval_metrics = evaluate(model, val_loader, criterion, device)\n",
    "        print(f\"Validation Accuracy: {eval_metrics['acc']:.4f}\")\n",
    "\n",
    "    original_size = get_model_file_size(model)\n",
    "    model = prepare_model_for_quantization(model, device, bit=4)\n",
    "    model.apply(torch.quantization.disable_observer)\n",
    "\n",
    "    print(\"\\nModel Summary:\")\n",
    "    print(summary(model, input_size=(batch_size, 3, 224, 224)))\n",
    "    flops = count_flops(model)\n",
    "\n",
    "    train_losses, train_accs = [], []\n",
    "    val_losses, val_accs = [], []\n",
    "    best_acc = 0.0\n",
    "\n",
    "    early_stopping = EarlyStopping(patience=5, min_delta=0.001)\n",
    "\n",
    "    print(\"\\nStarting training with 4bit quantized model...\")\n",
    "    epochs_performed = 0\n",
    "    scheduler = optim.lr_scheduler.StepLR(optimizer, step_size=10, gamma=0.1)\n",
    "    \n",
    "    for epoch in range(num_epochs):\n",
    "        print(f\"\\nEpoch {epoch + 1}/{num_epochs}\")\n",
    "        \n",
    "        if epoch == 3:\n",
    "            model.apply(torch.quantization.enable_observer)\n",
    "            \n",
    "        # Training phase\n",
    "        train_loss, train_acc = train_epoch(model, train_loader, criterion, optimizer, device)\n",
    "        train_losses.append(train_loss)\n",
    "        train_accs.append(train_acc)\n",
    "\n",
    "        # Validation phase\n",
    "        eval_metrics = evaluate(model, val_loader, criterion, device)\n",
    "        val_losses.append(eval_metrics['loss'])\n",
    "        val_accs.append(eval_metrics['acc'])\n",
    "        \n",
    "        scheduler.step()\n",
    "        \n",
    "        epochs_performed = epochs_performed + 1\n",
    "        \n",
    "        if eval_metrics['acc'] > best_acc:\n",
    "            best_acc = eval_metrics['acc']\n",
    "            print(f\"New best model saved with accuracy: {best_acc:.4f}\")\n",
    "\n",
    "        # Early stopping logic\n",
    "        early_stopping(eval_metrics['loss'], model)\n",
    "        if early_stopping.early_stop:\n",
    "            print(\"Early stopping triggered\")\n",
    "            break\n",
    "\n",
    "    model = early_stopping.best_model\n",
    "    quantized_model = torch.quantization.convert(model.eval().cpu(), inplace=False)\n",
    "    scripted_model = torch.jit.script(quantized_model)\n",
    "    scripted_model.save(\"qat_4bit_cifar10.pt\")\n",
    "    \n",
    "    quantized_size = get_model_file_size(quantized_model)\n",
    "    \n",
    "    cpu_metrics = evaluate(quantized_model, val_loader, criterion, 'cpu')\n",
    "\n",
    "    size_reduction = f\"{(original_size - quantized_size) / original_size * 100:.2f}%\"\n",
    "    \n",
    "    result = print_and_get_metrics(\n",
    "        \"Quantization 4bit - CIFAR-10\", \n",
    "        epochs_performed, cpu_metrics, quantized_size, flops,\n",
    "        size_reduction=size_reduction\n",
    "    )\n",
    "    \n",
    "    return quantized_model, result, (train_losses, train_accs, val_losses, val_accs)"
   ]
  },
  {
   "cell_type": "code",
   "execution_count": 33,
   "id": "c092d9e9",
   "metadata": {
    "_cell_guid": "5e069b21-0573-4270-b3a1-fad9b7c57550",
    "_uuid": "f8f471ba-2dd7-4d19-ba98-27e0d491a537",
    "collapsed": false,
    "execution": {
     "iopub.execute_input": "2025-03-23T10:48:05.259560Z",
     "iopub.status.busy": "2025-03-23T10:48:05.259225Z",
     "iopub.status.idle": "2025-03-23T11:03:58.489323Z",
     "shell.execute_reply": "2025-03-23T11:03:58.488254Z"
    },
    "jupyter": {
     "outputs_hidden": false
    },
    "papermill": {
     "duration": 956.218424,
     "end_time": "2025-03-23T11:04:00.136824",
     "exception": false,
     "start_time": "2025-03-23T10:48:03.918400",
     "status": "completed"
    },
    "tags": []
   },
   "outputs": [
    {
     "name": "stdout",
     "output_type": "stream",
     "text": [
      "[Warm-up Epoch 1/5]\n"
     ]
    },
    {
     "name": "stderr",
     "output_type": "stream",
     "text": [
      "Training: 100%|██████████| 157/157 [00:45<00:00,  3.47it/s, loss=0.045, acc=50.5%]\n"
     ]
    },
    {
     "name": "stdout",
     "output_type": "stream",
     "text": [
      "Validation Accuracy: 77.3000\n",
      "[Warm-up Epoch 2/5]\n"
     ]
    },
    {
     "name": "stderr",
     "output_type": "stream",
     "text": [
      "Training: 100%|██████████| 157/157 [00:45<00:00,  3.46it/s, loss=0.018, acc=80.4%]\n"
     ]
    },
    {
     "name": "stdout",
     "output_type": "stream",
     "text": [
      "Validation Accuracy: 83.9000\n",
      "[Warm-up Epoch 3/5]\n"
     ]
    },
    {
     "name": "stderr",
     "output_type": "stream",
     "text": [
      "Training: 100%|██████████| 157/157 [00:45<00:00,  3.46it/s, loss=0.011, acc=88.0%]\n"
     ]
    },
    {
     "name": "stdout",
     "output_type": "stream",
     "text": [
      "Validation Accuracy: 84.0000\n",
      "[Warm-up Epoch 4/5]\n"
     ]
    },
    {
     "name": "stderr",
     "output_type": "stream",
     "text": [
      "Training: 100%|██████████| 157/157 [00:45<00:00,  3.46it/s, loss=0.008, acc=91.5%]\n"
     ]
    },
    {
     "name": "stdout",
     "output_type": "stream",
     "text": [
      "Validation Accuracy: 83.7000\n",
      "[Warm-up Epoch 5/5]\n"
     ]
    },
    {
     "name": "stderr",
     "output_type": "stream",
     "text": [
      "Training: 100%|██████████| 157/157 [00:45<00:00,  3.46it/s, loss=0.005, acc=94.1%]\n"
     ]
    },
    {
     "name": "stdout",
     "output_type": "stream",
     "text": [
      "Validation Accuracy: 85.8000\n",
      "\n",
      "Model Summary:\n",
      "==========================================================================================\n",
      "Layer (type:depth-idx)                   Output Shape              Param #\n",
      "==========================================================================================\n",
      "QuantizedVGG19                           [32, 10]                  --\n",
      "├─QuantStub: 1-1                         [32, 3, 224, 224]         --\n",
      "│    └─FakeQuantize: 2-1                 [32, 3, 224, 224]         --\n",
      "├─Sequential: 1-2                        [32, 512, 7, 7]           --\n",
      "│    └─ConvReLU2d: 2-2                   [32, 64, 224, 224]        1,792\n",
      "│    │    └─FakeQuantize: 3-1            [64, 3, 3, 3]             --\n",
      "│    │    └─FakeQuantize: 3-2            [32, 64, 224, 224]        --\n",
      "│    └─Identity: 2-3                     [32, 64, 224, 224]        --\n",
      "│    └─ConvReLU2d: 2-4                   [32, 64, 224, 224]        36,928\n",
      "│    │    └─FakeQuantize: 3-3            [64, 64, 3, 3]            --\n",
      "│    │    └─FakeQuantize: 3-4            [32, 64, 224, 224]        --\n",
      "│    └─Identity: 2-5                     [32, 64, 224, 224]        --\n",
      "│    └─MaxPool2d: 2-6                    [32, 64, 112, 112]        --\n",
      "│    └─ConvReLU2d: 2-7                   [32, 128, 112, 112]       73,856\n",
      "│    │    └─FakeQuantize: 3-5            [128, 64, 3, 3]           --\n",
      "│    │    └─FakeQuantize: 3-6            [32, 128, 112, 112]       --\n",
      "│    └─Identity: 2-8                     [32, 128, 112, 112]       --\n",
      "│    └─ConvReLU2d: 2-9                   [32, 128, 112, 112]       147,584\n",
      "│    │    └─FakeQuantize: 3-7            [128, 128, 3, 3]          --\n",
      "│    │    └─FakeQuantize: 3-8            [32, 128, 112, 112]       --\n",
      "│    └─Identity: 2-10                    [32, 128, 112, 112]       --\n",
      "│    └─MaxPool2d: 2-11                   [32, 128, 56, 56]         --\n",
      "│    └─ConvReLU2d: 2-12                  [32, 256, 56, 56]         295,168\n",
      "│    │    └─FakeQuantize: 3-9            [256, 128, 3, 3]          --\n",
      "│    │    └─FakeQuantize: 3-10           [32, 256, 56, 56]         --\n",
      "│    └─Identity: 2-13                    [32, 256, 56, 56]         --\n",
      "│    └─ConvReLU2d: 2-14                  [32, 256, 56, 56]         590,080\n",
      "│    │    └─FakeQuantize: 3-11           [256, 256, 3, 3]          --\n",
      "│    │    └─FakeQuantize: 3-12           [32, 256, 56, 56]         --\n",
      "│    └─Identity: 2-15                    [32, 256, 56, 56]         --\n",
      "│    └─ConvReLU2d: 2-16                  [32, 256, 56, 56]         590,080\n",
      "│    │    └─FakeQuantize: 3-13           [256, 256, 3, 3]          --\n",
      "│    │    └─FakeQuantize: 3-14           [32, 256, 56, 56]         --\n",
      "│    └─Identity: 2-17                    [32, 256, 56, 56]         --\n",
      "│    └─ConvReLU2d: 2-18                  [32, 256, 56, 56]         590,080\n",
      "│    │    └─FakeQuantize: 3-15           [256, 256, 3, 3]          --\n",
      "│    │    └─FakeQuantize: 3-16           [32, 256, 56, 56]         --\n",
      "│    └─Identity: 2-19                    [32, 256, 56, 56]         --\n",
      "│    └─MaxPool2d: 2-20                   [32, 256, 28, 28]         --\n",
      "│    └─ConvReLU2d: 2-21                  [32, 512, 28, 28]         1,180,160\n",
      "│    │    └─FakeQuantize: 3-17           [512, 256, 3, 3]          --\n",
      "│    │    └─FakeQuantize: 3-18           [32, 512, 28, 28]         --\n",
      "│    └─Identity: 2-22                    [32, 512, 28, 28]         --\n",
      "│    └─ConvReLU2d: 2-23                  [32, 512, 28, 28]         2,359,808\n",
      "│    │    └─FakeQuantize: 3-19           [512, 512, 3, 3]          --\n",
      "│    │    └─FakeQuantize: 3-20           [32, 512, 28, 28]         --\n",
      "│    └─Identity: 2-24                    [32, 512, 28, 28]         --\n",
      "│    └─ConvReLU2d: 2-25                  [32, 512, 28, 28]         2,359,808\n",
      "│    │    └─FakeQuantize: 3-21           [512, 512, 3, 3]          --\n",
      "│    │    └─FakeQuantize: 3-22           [32, 512, 28, 28]         --\n",
      "│    └─Identity: 2-26                    [32, 512, 28, 28]         --\n",
      "│    └─ConvReLU2d: 2-27                  [32, 512, 28, 28]         2,359,808\n",
      "│    │    └─FakeQuantize: 3-23           [512, 512, 3, 3]          --\n",
      "│    │    └─FakeQuantize: 3-24           [32, 512, 28, 28]         --\n",
      "│    └─Identity: 2-28                    [32, 512, 28, 28]         --\n",
      "│    └─MaxPool2d: 2-29                   [32, 512, 14, 14]         --\n",
      "│    └─ConvReLU2d: 2-30                  [32, 512, 14, 14]         2,359,808\n",
      "│    │    └─FakeQuantize: 3-25           [512, 512, 3, 3]          --\n",
      "│    │    └─FakeQuantize: 3-26           [32, 512, 14, 14]         --\n",
      "│    └─Identity: 2-31                    [32, 512, 14, 14]         --\n",
      "│    └─ConvReLU2d: 2-32                  [32, 512, 14, 14]         2,359,808\n",
      "│    │    └─FakeQuantize: 3-27           [512, 512, 3, 3]          --\n",
      "│    │    └─FakeQuantize: 3-28           [32, 512, 14, 14]         --\n",
      "│    └─Identity: 2-33                    [32, 512, 14, 14]         --\n",
      "│    └─ConvReLU2d: 2-34                  [32, 512, 14, 14]         2,359,808\n",
      "│    │    └─FakeQuantize: 3-29           [512, 512, 3, 3]          --\n",
      "│    │    └─FakeQuantize: 3-30           [32, 512, 14, 14]         --\n",
      "│    └─Identity: 2-35                    [32, 512, 14, 14]         --\n",
      "│    └─ConvReLU2d: 2-36                  [32, 512, 14, 14]         2,359,808\n",
      "│    │    └─FakeQuantize: 3-31           [512, 512, 3, 3]          --\n",
      "│    │    └─FakeQuantize: 3-32           [32, 512, 14, 14]         --\n",
      "│    └─Identity: 2-37                    [32, 512, 14, 14]         --\n",
      "│    └─MaxPool2d: 2-38                   [32, 512, 7, 7]           --\n",
      "├─AdaptiveAvgPool2d: 1-3                 [32, 512, 7, 7]           --\n",
      "├─Sequential: 1-4                        [32, 10]                  --\n",
      "│    └─Linear: 2-39                      [32, 4096]                102,764,544\n",
      "│    │    └─FakeQuantize: 3-33           [4096, 25088]             --\n",
      "│    │    └─FakeQuantize: 3-34           [32, 4096]                --\n",
      "│    └─ReLU: 2-40                        [32, 4096]                --\n",
      "│    └─Dropout: 2-41                     [32, 4096]                --\n",
      "│    └─Linear: 2-42                      [32, 4096]                16,781,312\n",
      "│    │    └─FakeQuantize: 3-35           [4096, 4096]              --\n",
      "│    │    └─FakeQuantize: 3-36           [32, 4096]                --\n",
      "│    └─ReLU: 2-43                        [32, 4096]                --\n",
      "│    └─Dropout: 2-44                     [32, 4096]                --\n",
      "│    └─Linear: 2-45                      [32, 10]                  40,970\n",
      "│    │    └─FakeQuantize: 3-37           [10, 4096]                --\n",
      "│    │    └─FakeQuantize: 3-38           [32, 10]                  --\n",
      "├─DeQuantStub: 1-5                       [32, 10]                  --\n",
      "==========================================================================================\n",
      "Total params: 139,611,210\n",
      "Trainable params: 139,611,210\n",
      "Non-trainable params: 0\n",
      "Total mult-adds (M): 0\n",
      "==========================================================================================\n",
      "Input size (MB): 19.27\n",
      "Forward/backward pass size (MB): 0.00\n",
      "Params size (MB): 0.00\n",
      "Estimated Total Size (MB): 19.27\n",
      "==========================================================================================\n",
      "\n",
      "Starting training with 4bit quantized model...\n",
      "\n",
      "Epoch 1/30\n"
     ]
    },
    {
     "name": "stderr",
     "output_type": "stream",
     "text": [
      "Training: 100%|██████████| 157/157 [00:50<00:00,  3.12it/s, loss=0.072, acc=10.1%]\n"
     ]
    },
    {
     "name": "stdout",
     "output_type": "stream",
     "text": [
      "New best model saved with accuracy: 10.3000\n",
      "\n",
      "Epoch 2/30\n"
     ]
    },
    {
     "name": "stderr",
     "output_type": "stream",
     "text": [
      "Training: 100%|██████████| 157/157 [00:50<00:00,  3.12it/s, loss=0.072, acc=10.1%]\n"
     ]
    },
    {
     "name": "stdout",
     "output_type": "stream",
     "text": [
      "EarlyStopping counter: 1 out of 5\n",
      "\n",
      "Epoch 3/30\n"
     ]
    },
    {
     "name": "stderr",
     "output_type": "stream",
     "text": [
      "Training: 100%|██████████| 157/157 [00:50<00:00,  3.12it/s, loss=0.072, acc=10.1%]\n"
     ]
    },
    {
     "name": "stdout",
     "output_type": "stream",
     "text": [
      "EarlyStopping counter: 2 out of 5\n",
      "\n",
      "Epoch 4/30\n"
     ]
    },
    {
     "name": "stderr",
     "output_type": "stream",
     "text": [
      "Training: 100%|██████████| 157/157 [00:53<00:00,  2.93it/s, loss=0.033, acc=63.5%]\n"
     ]
    },
    {
     "name": "stdout",
     "output_type": "stream",
     "text": [
      "New best model saved with accuracy: 73.4000\n",
      "\n",
      "Epoch 5/30\n"
     ]
    },
    {
     "name": "stderr",
     "output_type": "stream",
     "text": [
      "Training: 100%|██████████| 157/157 [00:53<00:00,  2.93it/s, loss=0.022, acc=75.3%]\n"
     ]
    },
    {
     "name": "stdout",
     "output_type": "stream",
     "text": [
      "New best model saved with accuracy: 74.6000\n",
      "\n",
      "Epoch 6/30\n"
     ]
    },
    {
     "name": "stderr",
     "output_type": "stream",
     "text": [
      "Training: 100%|██████████| 157/157 [00:53<00:00,  2.93it/s, loss=0.022, acc=77.3%]\n"
     ]
    },
    {
     "name": "stdout",
     "output_type": "stream",
     "text": [
      "EarlyStopping counter: 1 out of 5\n",
      "\n",
      "Epoch 7/30\n"
     ]
    },
    {
     "name": "stderr",
     "output_type": "stream",
     "text": [
      "Training: 100%|██████████| 157/157 [00:53<00:00,  2.93it/s, loss=0.021, acc=78.0%]\n"
     ]
    },
    {
     "name": "stdout",
     "output_type": "stream",
     "text": [
      "EarlyStopping counter: 2 out of 5\n",
      "\n",
      "Epoch 8/30\n"
     ]
    },
    {
     "name": "stderr",
     "output_type": "stream",
     "text": [
      "Training: 100%|██████████| 157/157 [00:53<00:00,  2.94it/s, loss=0.019, acc=80.5%]\n"
     ]
    },
    {
     "name": "stdout",
     "output_type": "stream",
     "text": [
      "EarlyStopping counter: 3 out of 5\n",
      "\n",
      "Epoch 9/30\n"
     ]
    },
    {
     "name": "stderr",
     "output_type": "stream",
     "text": [
      "Training: 100%|██████████| 157/157 [00:53<00:00,  2.93it/s, loss=0.023, acc=78.0%]\n"
     ]
    },
    {
     "name": "stdout",
     "output_type": "stream",
     "text": [
      "EarlyStopping counter: 4 out of 5\n",
      "\n",
      "Epoch 10/30\n"
     ]
    },
    {
     "name": "stderr",
     "output_type": "stream",
     "text": [
      "Training: 100%|██████████| 157/157 [00:53<00:00,  2.93it/s, loss=0.025, acc=79.1%]\n"
     ]
    },
    {
     "name": "stdout",
     "output_type": "stream",
     "text": [
      "EarlyStopping counter: 5 out of 5\n",
      "Early stopping triggered\n",
      "\n",
      "Final Model Performance:\n",
      "Result of Quantization 4bit - CIFAR-10:\n",
      "Total epochs: 10\n",
      "Model Size: 133.20 MB\n",
      "FLOPs: 0.28 GFLOPs\n",
      "Accuracy: 71.80%\n",
      "Top-1 Accuracy: 71.80%\n",
      "Top-5 Accuracy: 84.80%\n"
     ]
    }
   ],
   "source": [
    "qat_4bit_cifar10, qat_4bit_result, qat_4bit_metrics = run_4bit_quantization(num_epochs, batch_size)"
   ]
  },
  {
   "cell_type": "markdown",
   "id": "e106f633",
   "metadata": {
    "_cell_guid": "ac28d729-78e8-4d76-a219-bc52cac88a25",
    "_uuid": "06cd2f97-6db0-403a-873f-85c8f59a1dd0",
    "collapsed": false,
    "jupyter": {
     "outputs_hidden": false
    },
    "papermill": {
     "duration": 1.642539,
     "end_time": "2025-03-23T11:04:03.436926",
     "exception": false,
     "start_time": "2025-03-23T11:04:01.794387",
     "status": "completed"
    },
    "tags": []
   },
   "source": [
    "# Results"
   ]
  },
  {
   "cell_type": "code",
   "execution_count": 34,
   "id": "2bf9ba19",
   "metadata": {
    "_cell_guid": "cf92919d-b898-4796-a722-54f7a11c621e",
    "_uuid": "a01a64a9-9866-4e3a-b8a1-74cfe31d68bf",
    "collapsed": false,
    "execution": {
     "iopub.execute_input": "2025-03-23T11:04:06.700100Z",
     "iopub.status.busy": "2025-03-23T11:04:06.699801Z",
     "iopub.status.idle": "2025-03-23T11:04:06.707965Z",
     "shell.execute_reply": "2025-03-23T11:04:06.707105Z"
    },
    "jupyter": {
     "outputs_hidden": false
    },
    "papermill": {
     "duration": 1.71874,
     "end_time": "2025-03-23T11:04:06.709324",
     "exception": false,
     "start_time": "2025-03-23T11:04:04.990584",
     "status": "completed"
    },
    "tags": []
   },
   "outputs": [],
   "source": [
    "def plot_training_metrics(models):\n",
    "    final_val_accs = {name: data['val_acc'][-1] for name, data in models.items()}\n",
    "    ranking = sorted(final_val_accs.items(), key=lambda x: x[1])\n",
    "    \n",
    "    color_palette = ['red', 'orange', 'lime', 'teal', 'blue']\n",
    "    \n",
    "    color_mapping = {}\n",
    "    for i, (model_name, _) in enumerate(ranking):\n",
    "        color_mapping[model_name] = color_palette[i]\n",
    "\n",
    "    fig, axes = plt.subplots(1, 2, figsize=(12, 4))\n",
    "    \n",
    "    ax_loss = axes[0]\n",
    "    for name, data in models.items():\n",
    "        epochs = range(1, len(data['train_losses']) + 1)\n",
    "        ax_loss.plot(epochs, data['train_losses'], label=f\"{name} train loss\",\n",
    "                     color=color_mapping[name], linestyle='-')\n",
    "        ax_loss.plot(epochs, data['val_losses'], label=f\"{name} val loss\",\n",
    "                     color=color_mapping[name], linestyle='--')\n",
    "    ax_loss.set_xlabel(\"Epoch\")\n",
    "    ax_loss.set_ylabel(\"Loss\")\n",
    "    ax_loss.set_title(\"Training and Validation Losses\")\n",
    "    ax_loss.legend(fontsize='x-small')\n",
    "\n",
    "    ax_acc = axes[1]\n",
    "    for name, data in models.items():\n",
    "        epochs = range(1, len(data['train_acc']) + 1)\n",
    "        ax_acc.plot(epochs, data['train_acc'], label=f\"{name} train acc\",\n",
    "                    color=color_mapping[name], linestyle='-')\n",
    "        ax_acc.plot(epochs, data['val_acc'], label=f\"{name} val acc\",\n",
    "                    color=color_mapping[name], linestyle='--')\n",
    "    ax_acc.set_xlabel(\"Epoch\")\n",
    "    ax_acc.set_ylabel(\"Accuracy (%)\")\n",
    "    ax_acc.set_title(\"Training and Validation Accuracies\")\n",
    "    ax_acc.legend(fontsize='x-small')\n",
    "    \n",
    "    plt.tight_layout()\n",
    "    plt.show()"
   ]
  },
  {
   "cell_type": "markdown",
   "id": "b4a997d7",
   "metadata": {
    "_cell_guid": "a5773922-f458-406e-9e77-3c886dbcc885",
    "_uuid": "ae8df251-7e66-472a-8653-d77c54aa95b0",
    "collapsed": false,
    "jupyter": {
     "outputs_hidden": false
    },
    "papermill": {
     "duration": 1.677979,
     "end_time": "2025-03-23T11:04:10.060937",
     "exception": false,
     "start_time": "2025-03-23T11:04:08.382958",
     "status": "completed"
    },
    "tags": []
   },
   "source": [
    "## Accuracy and Loss"
   ]
  },
  {
   "cell_type": "code",
   "execution_count": 35,
   "id": "28aca138",
   "metadata": {
    "_cell_guid": "1ab9a764-c09d-45c3-8a2c-7ec4b9bf02cf",
    "_uuid": "51eccc5e-ebc0-449e-a37d-f63ffcb68977",
    "collapsed": false,
    "execution": {
     "iopub.execute_input": "2025-03-23T11:04:13.356664Z",
     "iopub.status.busy": "2025-03-23T11:04:13.356330Z",
     "iopub.status.idle": "2025-03-23T11:04:13.900584Z",
     "shell.execute_reply": "2025-03-23T11:04:13.899677Z"
    },
    "jupyter": {
     "outputs_hidden": false
    },
    "papermill": {
     "duration": 2.172487,
     "end_time": "2025-03-23T11:04:13.902163",
     "exception": false,
     "start_time": "2025-03-23T11:04:11.729676",
     "status": "completed"
    },
    "tags": []
   },
   "outputs": [
    {
     "data": {
      "image/png": "[encoded data removed]",
      "text/plain": [
       "<Figure size 1200x400 with 2 Axes>"
      ]
     },
     "metadata": {},
     "output_type": "display_data"
    }
   ],
   "source": [
    "models = {\n",
    "    'Baseline': {\n",
    "        'train_losses': baseline_metrics[0],\n",
    "        'val_losses':   baseline_metrics[2],\n",
    "        'train_acc':    baseline_metrics[1],\n",
    "        'val_acc':      baseline_metrics[3]\n",
    "    },\n",
    "    'Structured pruning': {\n",
    "        'train_losses': sp_metrics[0],\n",
    "        'val_losses':   sp_metrics[2],\n",
    "        'train_acc':    sp_metrics[1],\n",
    "        'val_acc':      sp_metrics[3]\n",
    "    },\n",
    "    'Unstructured pruning': {\n",
    "        'train_losses': usp_metrics[0],\n",
    "        'val_losses':   usp_metrics[2],\n",
    "        'train_acc':    usp_metrics[1],\n",
    "        'val_acc':      usp_metrics[3]\n",
    "    },\n",
    "    '8-bit QAT': {\n",
    "        'train_losses': qat_8bit_metrics[0],\n",
    "        'val_losses':   qat_8bit_metrics[2],\n",
    "        'train_acc':    qat_8bit_metrics[1],\n",
    "        'val_acc':      qat_8bit_metrics[3]\n",
    "    },\n",
    "    '4-bit QAT': {\n",
    "        'train_losses': qat_4bit_metrics[0],\n",
    "        'val_losses':   qat_4bit_metrics[2],\n",
    "        'train_acc':    qat_4bit_metrics[1],\n",
    "        'val_acc':      qat_4bit_metrics[3]\n",
    "    }\n",
    "}\n",
    "\n",
    "plot_training_metrics(models)"
   ]
  },
  {
   "cell_type": "markdown",
   "id": "1f8e07e6",
   "metadata": {
    "_cell_guid": "6c83a6da-9762-48df-9e51-9e1ec5bb46b9",
    "_uuid": "3a45d270-c9f3-4f94-8d9b-1052838e0782",
    "collapsed": false,
    "jupyter": {
     "outputs_hidden": false
    },
    "papermill": {
     "duration": 1.618169,
     "end_time": "2025-03-23T11:04:17.159170",
     "exception": false,
     "start_time": "2025-03-23T11:04:15.541001",
     "status": "completed"
    },
    "tags": []
   },
   "source": [
    "## Comparison table"
   ]
  },
  {
   "cell_type": "code",
   "execution_count": 36,
   "id": "0ba81543",
   "metadata": {
    "_cell_guid": "cb2e104e-5f15-4375-8bfa-a65b5858e31f",
    "_uuid": "eca3bfd8-6289-4c03-b9f4-2a4f5bbcaede",
    "collapsed": false,
    "execution": {
     "iopub.execute_input": "2025-03-23T11:04:20.540153Z",
     "iopub.status.busy": "2025-03-23T11:04:20.539869Z",
     "iopub.status.idle": "2025-03-23T11:04:21.232951Z",
     "shell.execute_reply": "2025-03-23T11:04:21.232073Z"
    },
    "jupyter": {
     "outputs_hidden": false
    },
    "papermill": {
     "duration": 2.439412,
     "end_time": "2025-03-23T11:04:21.234307",
     "exception": false,
     "start_time": "2025-03-23T11:04:18.794895",
     "status": "completed"
    },
    "tags": []
   },
   "outputs": [
    {
     "data": {
      "text/html": [
       "<div>\n",
       "<style scoped>\n",
       "    .dataframe tbody tr th:only-of-type {\n",
       "        vertical-align: middle;\n",
       "    }\n",
       "\n",
       "    .dataframe tbody tr th {\n",
       "        vertical-align: top;\n",
       "    }\n",
       "\n",
       "    .dataframe thead th {\n",
       "        text-align: right;\n",
       "    }\n",
       "</style>\n",
       "<table border=\"1\" class=\"dataframe\">\n",
       "  <thead>\n",
       "    <tr style=\"text-align: right;\">\n",
       "      <th></th>\n",
       "      <th>technique</th>\n",
       "      <th>epoch</th>\n",
       "      <th>model_size</th>\n",
       "      <th>flops</th>\n",
       "      <th>acc</th>\n",
       "      <th>top1</th>\n",
       "      <th>top5</th>\n",
       "      <th>flops_original</th>\n",
       "      <th>flops_pruned</th>\n",
       "      <th>params_original</th>\n",
       "      <th>params_pruned</th>\n",
       "      <th>size_reduction</th>\n",
       "    </tr>\n",
       "  </thead>\n",
       "  <tbody>\n",
       "    <tr>\n",
       "      <th>0</th>\n",
       "      <td>Baseline - CIFAR-10</td>\n",
       "      <td>11</td>\n",
       "      <td>532.57 MB</td>\n",
       "      <td>0.28 GFLOPs</td>\n",
       "      <td>86.30%</td>\n",
       "      <td>86.30%</td>\n",
       "      <td>99.80%</td>\n",
       "      <td>NaN</td>\n",
       "      <td>NaN</td>\n",
       "      <td>NaN</td>\n",
       "      <td>NaN</td>\n",
       "      <td>NaN</td>\n",
       "    </tr>\n",
       "    <tr>\n",
       "      <th>1</th>\n",
       "      <td>Structured Pruning - CIFAR-10</td>\n",
       "      <td>45</td>\n",
       "      <td>376.64 MB</td>\n",
       "      <td>0.20 GFLOPs</td>\n",
       "      <td>71.80%</td>\n",
       "      <td>71.80%</td>\n",
       "      <td>98.10%</td>\n",
       "      <td>19.68 GFLOPs</td>\n",
       "      <td>9.77 GFLOPs</td>\n",
       "      <td>139.61 Million</td>\n",
       "      <td>98.73 Million</td>\n",
       "      <td>NaN</td>\n",
       "    </tr>\n",
       "    <tr>\n",
       "      <th>2</th>\n",
       "      <td>Unstructured Pruning - CIFAR-10</td>\n",
       "      <td>20</td>\n",
       "      <td>532.57 MB</td>\n",
       "      <td>0.28 GFLOPs</td>\n",
       "      <td>86.50%</td>\n",
       "      <td>86.50%</td>\n",
       "      <td>99.70%</td>\n",
       "      <td>NaN</td>\n",
       "      <td>NaN</td>\n",
       "      <td>NaN</td>\n",
       "      <td>NaN</td>\n",
       "      <td>NaN</td>\n",
       "    </tr>\n",
       "    <tr>\n",
       "      <th>3</th>\n",
       "      <td>Quantization 8bit - CIFAR-10</td>\n",
       "      <td>17</td>\n",
       "      <td>133.42 MB</td>\n",
       "      <td>0.28 GFLOPs</td>\n",
       "      <td>85.70%</td>\n",
       "      <td>85.70%</td>\n",
       "      <td>99.60%</td>\n",
       "      <td>NaN</td>\n",
       "      <td>NaN</td>\n",
       "      <td>NaN</td>\n",
       "      <td>NaN</td>\n",
       "      <td>74.95%</td>\n",
       "    </tr>\n",
       "    <tr>\n",
       "      <th>4</th>\n",
       "      <td>Quantization 4bit - CIFAR-10</td>\n",
       "      <td>10</td>\n",
       "      <td>133.20 MB</td>\n",
       "      <td>0.28 GFLOPs</td>\n",
       "      <td>71.80%</td>\n",
       "      <td>71.80%</td>\n",
       "      <td>84.80%</td>\n",
       "      <td>NaN</td>\n",
       "      <td>NaN</td>\n",
       "      <td>NaN</td>\n",
       "      <td>NaN</td>\n",
       "      <td>74.99%</td>\n",
       "    </tr>\n",
       "  </tbody>\n",
       "</table>\n",
       "</div>"
      ],
      "text/plain": [
       "                         technique  epoch model_size        flops     acc  \\\n",
       "0              Baseline - CIFAR-10     11  532.57 MB  0.28 GFLOPs  86.30%   \n",
       "1    Structured Pruning - CIFAR-10     45  376.64 MB  0.20 GFLOPs  71.80%   \n",
       "2  Unstructured Pruning - CIFAR-10     20  532.57 MB  0.28 GFLOPs  86.50%   \n",
       "3     Quantization 8bit - CIFAR-10     17  133.42 MB  0.28 GFLOPs  85.70%   \n",
       "4     Quantization 4bit - CIFAR-10     10  133.20 MB  0.28 GFLOPs  71.80%   \n",
       "\n",
       "     top1    top5 flops_original flops_pruned params_original  params_pruned  \\\n",
       "0  86.30%  99.80%            NaN          NaN             NaN            NaN   \n",
       "1  71.80%  98.10%   19.68 GFLOPs  9.77 GFLOPs  139.61 Million  98.73 Million   \n",
       "2  86.50%  99.70%            NaN          NaN             NaN            NaN   \n",
       "3  85.70%  99.60%            NaN          NaN             NaN            NaN   \n",
       "4  71.80%  84.80%            NaN          NaN             NaN            NaN   \n",
       "\n",
       "  size_reduction  \n",
       "0            NaN  \n",
       "1            NaN  \n",
       "2            NaN  \n",
       "3         74.95%  \n",
       "4         74.99%  "
      ]
     },
     "execution_count": 36,
     "metadata": {},
     "output_type": "execute_result"
    }
   ],
   "source": [
    "import pandas as pd\n",
    "\n",
    "def flatten_dict(d, parent_key='', sep='_'):\n",
    "    items = []\n",
    "    for k, v in d.items():\n",
    "        new_key = f\"{parent_key}{sep}{k}\" if parent_key else k\n",
    "        if isinstance(v, dict):\n",
    "            items.extend(flatten_dict(v, new_key, sep=sep).items())\n",
    "        else:\n",
    "            items.append((new_key, v))\n",
    "    return dict(items)\n",
    "\n",
    "# Flatten each dictionary in the list\n",
    "flat_data = [flatten_dict(item) for item in [baseline_result,\n",
    "                                             sp_result, usp_result,\n",
    "                                             qat_8bit_result, qat_4bit_result]]\n",
    "\n",
    "# Create a DataFrame from the flattened data\n",
    "df = pd.DataFrame(flat_data)\n",
    "\n",
    "\n",
    "# print(df)\n",
    "df"
   ]
  },
  {
   "cell_type": "code",
   "execution_count": 37,
   "id": "29a2a2c4",
   "metadata": {
    "_cell_guid": "53d35339-63c5-4e04-ace9-342aae160533",
    "_uuid": "c5529235-f2b7-4328-be42-5655c309dd41",
    "collapsed": false,
    "execution": {
     "iopub.execute_input": "2025-03-23T11:04:24.493707Z",
     "iopub.status.busy": "2025-03-23T11:04:24.493111Z",
     "iopub.status.idle": "2025-03-23T11:04:24.505408Z",
     "shell.execute_reply": "2025-03-23T11:04:24.504755Z"
    },
    "jupyter": {
     "outputs_hidden": false
    },
    "papermill": {
     "duration": 1.644904,
     "end_time": "2025-03-23T11:04:24.506651",
     "exception": false,
     "start_time": "2025-03-23T11:04:22.861747",
     "status": "completed"
    },
    "tags": []
   },
   "outputs": [],
   "source": [
    "def get_quantized_weights_mapping(model):\n",
    "    quantized_weights = {}\n",
    "    import torch.nn.quantized as nnq\n",
    "    for name, module in model.named_modules():\n",
    "        if isinstance(module, (nnq.Conv2d, nnq.Linear)):\n",
    "            quantized_weights[name] = module.weight().dequantize()\n",
    "    return quantized_weights\n",
    "\n",
    "def compute_model_metrics(model, quantized=False):\n",
    "    if quantized:\n",
    "        # Get dequantized weights from quantized modules.\n",
    "        weights_mapping = get_quantized_weights_mapping(model)\n",
    "        if weights_mapping:\n",
    "            # Create a list of all dequantized weight tensors.\n",
    "            all_weights = list(weights_mapping.values())\n",
    "            total_params = sum(weight.numel() for weight in all_weights)\n",
    "            l1_norm = sum(weight.abs().sum().item() for weight in all_weights)\n",
    "            l2_norm = (sum((weight**2).sum().item() for weight in all_weights)) ** 0.5\n",
    "            zero_params = sum((weight == 0).sum().item() for weight in all_weights)\n",
    "            sparsity = zero_params / total_params\n",
    "        else:\n",
    "            total_params, l1_norm, l2_norm, sparsity = 0, 0, 0, 0\n",
    "    else:\n",
    "        total_params = sum(p.numel() for p in model.parameters())\n",
    "        l1_norm = sum(p.abs().sum().item() for p in model.parameters())\n",
    "        l2_norm = (sum((p**2).sum().item() for p in model.parameters())) ** 0.5\n",
    "        zero_params = sum((p == 0).sum().item() for p in model.parameters())\n",
    "        sparsity = zero_params / total_params\n",
    "    return total_params, l1_norm, l2_norm, sparsity\n",
    "\n",
    "def annotate_bars(ax, bars, baseline, fmt, is_sparsity=False, fs=8):\n",
    "    for i, bar in enumerate(bars):\n",
    "        height = bar.get_height()\n",
    "        if i == 0:\n",
    "            annotation = fmt(height)\n",
    "        else:\n",
    "            if baseline == 0 and is_sparsity:\n",
    "                annotation = fmt(height)\n",
    "            else:\n",
    "                improvement = ((baseline - height) / baseline * 100) if not is_sparsity else ((height - baseline) / baseline * 100)\n",
    "                if abs(improvement) < 1e-6:\n",
    "                    annotation = fmt(height)\n",
    "                else:\n",
    "                    annotation = f\"{fmt(height)}\\n({improvement:.2f}%)\"\n",
    "        ax.annotate(annotation,\n",
    "                    xy=(bar.get_x() + bar.get_width() / 2, height / 2),\n",
    "                    ha='center', va='center', fontsize=fs, color='black')\n",
    "\n",
    "def plot_weight_distributions(models, model_names, quantized_flags):\n",
    "    n = len(models)\n",
    "    fig, axs = plt.subplots(1, n, figsize=(3 * n, 2), sharex=True, sharey=True)\n",
    "    if n == 1:\n",
    "        axs = [axs]  # ensure axs is iterable if only one subplot\n",
    "\n",
    "    for i, (model, name, is_quantized) in enumerate(zip(models, model_names, quantized_flags)):\n",
    "        if is_quantized:\n",
    "            weights_mapping = get_quantized_weights_mapping(model)\n",
    "            if weights_mapping:\n",
    "                all_weights = torch.cat([w.flatten() for w in weights_mapping.values()])\n",
    "            else:\n",
    "                print(f\"No quantized weights found for {name}.\")\n",
    "                continue\n",
    "        else:\n",
    "            all_weights = torch.cat([p.flatten() for p in model.parameters() if p.requires_grad])\n",
    "        weights_np = all_weights.detach().cpu().numpy()\n",
    "        weight_min, weight_max = np.percentile(weights_np, [1, 99])\n",
    "\n",
    "\n",
    "        axs[i].hist(weights_np, bins=23, range=(weight_min, weight_max), density=True, alpha=0.7)\n",
    "        axs[i].set_title(name, fontsize=10)\n",
    "        axs[i].set_xlabel('Weight Value', fontsize=8)\n",
    "        axs[i].set_ylabel('Density', fontsize=8)\n",
    "        axs[i].tick_params(axis='both', which='major', labelsize=8)\n",
    "\n",
    "    plt.tight_layout()\n",
    "    plt.show()"
   ]
  },
  {
   "cell_type": "markdown",
   "id": "6f86283c",
   "metadata": {
    "_cell_guid": "4777f187-07d2-437b-9f0a-ba931596ed12",
    "_uuid": "1f92fcc1-d224-4691-b47b-ec17f47b358c",
    "collapsed": false,
    "jupyter": {
     "outputs_hidden": false
    },
    "papermill": {
     "duration": 1.630351,
     "end_time": "2025-03-23T11:04:27.772690",
     "exception": false,
     "start_time": "2025-03-23T11:04:26.142339",
     "status": "completed"
    },
    "tags": []
   },
   "source": [
    "## Params, L1, L2 and Sparsity"
   ]
  },
  {
   "cell_type": "code",
   "execution_count": 38,
   "id": "6d8aae85",
   "metadata": {
    "_cell_guid": "8e26a9ed-2960-4285-a1a5-6e6aab60d7eb",
    "_uuid": "a19eed2c-d9a2-460e-ae1f-7a82affee407",
    "collapsed": false,
    "execution": {
     "iopub.execute_input": "2025-03-23T11:04:31.069324Z",
     "iopub.status.busy": "2025-03-23T11:04:31.069034Z",
     "iopub.status.idle": "2025-03-23T11:04:37.001067Z",
     "shell.execute_reply": "2025-03-23T11:04:37.000194Z"
    },
    "jupyter": {
     "outputs_hidden": false
    },
    "papermill": {
     "duration": 7.594412,
     "end_time": "2025-03-23T11:04:37.002470",
     "exception": false,
     "start_time": "2025-03-23T11:04:29.408058",
     "status": "completed"
    },
    "tags": []
   },
   "outputs": [
    {
     "data": {
      "image/png": "[encoded data removed]",
      "text/plain": [
       "<Figure size 1200x500 with 4 Axes>"
      ]
     },
     "metadata": {},
     "output_type": "display_data"
    }
   ],
   "source": [
    "# Compute metrics for all models\n",
    "baseline_params, baseline_l1, baseline_l2, baseline_sparsity = compute_model_metrics(baseline_cifar10)\n",
    "structured_params, structured_l1, structured_l2, structured_sparsity = compute_model_metrics(sp_cifar10)\n",
    "unstructured_params, unstructured_l1, unstructured_l2, unstructured_sparsity = compute_model_metrics(usp_cifar10)\n",
    "quant8_params, quant8_l1, quant8_l2, quant8_sparsity = compute_model_metrics(qat_8bit_cifar10, True)   # 8-bit quantized model\n",
    "quant4_params, quant4_l1, quant4_l2, quant4_sparsity = compute_model_metrics(qat_4bit_cifar10, True)   # 4-bit quantized model\n",
    "\n",
    "# Create lists for plotting\n",
    "models = ['Baseline', 'Structured', 'Unstructured', '8bit QAT', '4bit QAT']\n",
    "param_counts = [baseline_params, structured_params, unstructured_params, quant8_params, quant4_params]\n",
    "l1_norms = [baseline_l1, structured_l1, unstructured_l1, quant8_l1, quant4_l1]\n",
    "l2_norms = [baseline_l2, structured_l2, unstructured_l2, quant8_l2, quant4_l2]\n",
    "sparsities = [baseline_sparsity, structured_sparsity, unstructured_sparsity, quant8_sparsity, quant4_sparsity]\n",
    "\n",
    "fig, axs = plt.subplots(2, 2, figsize=(12, 5))\n",
    "\n",
    "# --- Parameter Count ---\n",
    "baseline_val = param_counts[0]\n",
    "ax = axs[0, 0]\n",
    "bars = ax.bar(models, param_counts, color='salmon')\n",
    "ax.set_title('Total Parameter Count')\n",
    "ax.set_ylabel('Count')\n",
    "annotate_bars(ax, bars, baseline_val, lambda x: f'{x:.0f}')\n",
    "\n",
    "# --- L1 Norm ---\n",
    "baseline_val = l1_norms[0]\n",
    "ax = axs[0, 1]\n",
    "bars = ax.bar(models, l1_norms, color='skyblue')\n",
    "ax.set_title('L1 Norm')\n",
    "ax.set_ylabel('L1 Norm Value')\n",
    "annotate_bars(ax, bars, baseline_val, lambda x: f'{x:.0f}')\n",
    "\n",
    "# --- L2 Norm ---\n",
    "baseline_val = l2_norms[0]\n",
    "ax = axs[1, 0]\n",
    "bars = ax.bar(models, l2_norms, color='lightgreen')\n",
    "ax.set_title('L2 Norm')\n",
    "ax.set_ylabel('L2 Norm Value')\n",
    "annotate_bars(ax, bars, baseline_val, lambda x: f'{x:.2f}')\n",
    "\n",
    "# --- Sparsity ---\n",
    "baseline_val = sparsities[0]\n",
    "ax = axs[1, 1]\n",
    "bars = ax.bar(models, sparsities, color='plum')\n",
    "ax.set_title('Sparsity')\n",
    "ax.set_ylabel('Fraction of Zeros')\n",
    "annotate_bars(ax, bars, baseline_val, lambda x: f'{x:.2%}', is_sparsity=True)\n",
    "\n",
    "plt.tight_layout()\n",
    "plt.show()"
   ]
  },
  {
   "cell_type": "markdown",
   "id": "5d17960e",
   "metadata": {
    "_cell_guid": "a81d021d-08e7-4cf6-80a0-3ebcf65f1d24",
    "_uuid": "079971a1-6287-4f3c-9031-d9289949da70",
    "collapsed": false,
    "jupyter": {
     "outputs_hidden": false
    },
    "papermill": {
     "duration": 1.839914,
     "end_time": "2025-03-23T11:04:40.398362",
     "exception": false,
     "start_time": "2025-03-23T11:04:38.558448",
     "status": "completed"
    },
    "tags": []
   },
   "source": [
    "## Weight distributions"
   ]
  },
  {
   "cell_type": "code",
   "execution_count": 39,
   "id": "58c9ad31",
   "metadata": {
    "_cell_guid": "554e4b9c-ccb3-4048-bbd0-c0c66976e056",
    "_uuid": "7693a81a-4987-451c-aa64-4bb8facd8a0d",
    "collapsed": false,
    "execution": {
     "iopub.execute_input": "2025-03-23T11:04:43.662553Z",
     "iopub.status.busy": "2025-03-23T11:04:43.662209Z",
     "iopub.status.idle": "2025-03-23T11:05:13.066846Z",
     "shell.execute_reply": "2025-03-23T11:05:13.066168Z"
    },
    "jupyter": {
     "outputs_hidden": false
    },
    "papermill": {
     "duration": 31.041318,
     "end_time": "2025-03-23T11:05:13.068336",
     "exception": false,
     "start_time": "2025-03-23T11:04:42.027018",
     "status": "completed"
    },
    "tags": []
   },
   "outputs": [
    {
     "data": {
      "image/png": "[encoded data removed]",
      "text/plain": [
       "<Figure size 900x200 with 3 Axes>"
      ]
     },
     "metadata": {},
     "output_type": "display_data"
    },
    {
     "data": {
      "image/png": "[encoded data removed]",
      "text/plain": [
       "<Figure size 900x200 with 3 Axes>"
      ]
     },
     "metadata": {},
     "output_type": "display_data"
    }
   ],
   "source": [
    "# Group 1: Baseline, Structured Pruned, Unstructured Pruned (all non-quantized)\n",
    "group1_models = [baseline_cifar10, sp_cifar10, usp_cifar10]\n",
    "group1_names = [\"Baseline\", \"Structured Pruned\", \"Unstructured Pruned\"]\n",
    "group1_quantized_flags = [False, False, False]\n",
    "\n",
    "plot_weight_distributions(group1_models, group1_names, group1_quantized_flags)\n",
    "\n",
    "# Group 2: Baseline, 8bit Quantized, 4bit Quantized\n",
    "group2_models = [baseline_cifar10, qat_8bit_cifar10, qat_4bit_cifar10]\n",
    "group2_names = [\"Baseline\", \"8bit Quantized\", \"4bit Quantized\"]\n",
    "group2_quantized_flags = [False, True, True]\n",
    "\n",
    "plot_weight_distributions(group2_models, group2_names, group2_quantized_flags)"
   ]
  }
 ],
 "metadata": {
  "kaggle": {
   "accelerator": "gpu",
   "dataSources": [],
   "dockerImageVersionId": 30919,
   "isGpuEnabled": true,
   "isInternetEnabled": true,
   "language": "python",
   "sourceType": "notebook"
  },
  "kernelspec": {
   "display_name": "Python 3",
   "language": "python",
   "name": "python3"
  },
  "language_info": {
   "codemirror_mode": {
    "name": "ipython",
    "version": 3
   },
   "file_extension": ".py",
   "mimetype": "text/x-python",
   "name": "python",
   "nbconvert_exporter": "python",
   "pygments_lexer": "ipython3",
   "version": "3.10.12"
  },
  "papermill": {
   "default_parameters": {},
   "duration": 5753.921836,
   "end_time": "2025-03-23T11:05:17.854477",
   "environment_variables": {},
   "exception": null,
   "input_path": "__notebook__.ipynb",
   "output_path": "__notebook__.ipynb",
   "parameters": {},
   "start_time": "2025-03-23T09:29:23.932641",
   "version": "2.6.0"
  }
 },
 "nbformat": 4,
 "nbformat_minor": 5
}
